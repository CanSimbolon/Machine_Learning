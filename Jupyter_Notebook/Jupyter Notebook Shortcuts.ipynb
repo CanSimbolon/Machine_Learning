{
 "cells": [
  {
   "cell_type": "markdown",
   "metadata": {},
   "source": [
    "Short cuts \n",
    "\n",
    "|short cut | description |\n",
    "|----------|-------------|\n",
    "|command + shift + P|view short cuts |\n",
    "|esc| command mode|\n",
    "|esc + A| insert new cell above|\n",
    "|esc + B| insert new cell below|\n",
    "|esc + M| change the current cell to Markdown |\n",
    "|esc + Y| change the current cell to code|\n",
    "|D + D| to delete the current cell|\n",
    "|esc + shift + J or Down| select multiple cells - up|\n",
    "|esc + shift + J or Down| select multiple cells - down|\n",
    "|esc + shift + M| merge multiple cells|\n",
    "|command + /| comment out code|\n",
    "\n",
    "\n",
    "source: https://www.dataquest.io/blog/jupyter-notebook-tips-tricks-shortcuts/\n"
   ]
  }
 ],
 "metadata": {
  "kernelspec": {
   "display_name": "Python 3",
   "language": "python",
   "name": "python3"
  },
  "language_info": {
   "codemirror_mode": {
    "name": "ipython",
    "version": 3
   },
   "file_extension": ".py",
   "mimetype": "text/x-python",
   "name": "python",
   "nbconvert_exporter": "python",
   "pygments_lexer": "ipython3",
   "version": "3.6.0"
  }
 },
 "nbformat": 4,
 "nbformat_minor": 2
}
