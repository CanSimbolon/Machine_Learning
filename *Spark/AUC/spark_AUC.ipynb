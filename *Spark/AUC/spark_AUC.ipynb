{
 "cells": [
  {
   "cell_type": "markdown",
   "metadata": {
    "toc": true
   },
   "source": [
    "<h1>Table of Contents<span class=\"tocSkip\"></span></h1>\n",
    "<div class=\"toc\"><ul class=\"toc-item\"><li><span><a href=\"#Setup\" data-toc-modified-id=\"Setup-1\"><span class=\"toc-item-num\">1&nbsp;&nbsp;</span>Setup</a></span></li><li><span><a href=\"#Dataset\" data-toc-modified-id=\"Dataset-2\"><span class=\"toc-item-num\">2&nbsp;&nbsp;</span>Dataset</a></span></li><li><span><a href=\"#Evaluator\" data-toc-modified-id=\"Evaluator-3\"><span class=\"toc-item-num\">3&nbsp;&nbsp;</span>Evaluator</a></span></li><li><span><a href=\"#sklearn-auc-score\" data-toc-modified-id=\"sklearn-auc-score-4\"><span class=\"toc-item-num\">4&nbsp;&nbsp;</span>sklearn auc score</a></span></li></ul></div>"
   ]
  },
  {
   "cell_type": "markdown",
   "metadata": {},
   "source": [
    "# Area Under the Curve (AUC) in PySpark\n",
    "\n",
    "Source Code Link\n",
    "- https://github.com/apache/spark/blob/5264164a67df498b73facae207eda12ee133be7d/mllib/src/test/scala/org/apache/spark/mllib/evaluation/BinaryClassificationMetricsSuite.scala\n",
    "- https://github.com/apache/spark/blob/5264164a67df498b73facae207eda12ee133be7d/mllib/src/main/scala/org/apache/spark/mllib/evaluation/AreaUnderCurve.scala\n",
    "\n",
    "by Jason Jung"
   ]
  },
  {
   "cell_type": "markdown",
   "metadata": {},
   "source": [
    "## Setup"
   ]
  },
  {
   "cell_type": "code",
   "execution_count": 3,
   "metadata": {},
   "outputs": [
    {
     "name": "stdout",
     "output_type": "stream",
     "text": [
      "Spark Version: 2.3.0\n"
     ]
    }
   ],
   "source": [
    "from pyspark.sql import SparkSession\n",
    "\n",
    "spark = SparkSession \\\n",
    "    .builder \\\n",
    "    .appName(\"Jason's Spark App\") \\\n",
    "    .config(\"spark.some.config.option\", \"some-value\") \\\n",
    "    .getOrCreate()\n",
    "\n",
    "print('Spark Version:', spark.version)"
   ]
  },
  {
   "cell_type": "code",
   "execution_count": 5,
   "metadata": {},
   "outputs": [],
   "source": [
    "import pandas as pd \n",
    "import numpy as np \n",
    "\n",
    "import pyspark \n",
    "from pyspark.sql.functions import pandas_udf,udf, col\n",
    "from pyspark.sql.types import *\n",
    "from pyspark.ml.evaluation import BinaryClassificationEvaluator\n",
    "from pyspark.ml.linalg import Vectors, DenseVector"
   ]
  },
  {
   "cell_type": "markdown",
   "metadata": {},
   "source": [
    "## Dataset"
   ]
  },
  {
   "cell_type": "code",
   "execution_count": 6,
   "metadata": {},
   "outputs": [
    {
     "data": {
      "text/html": [
       "<div>\n",
       "<style scoped>\n",
       "    .dataframe tbody tr th:only-of-type {\n",
       "        vertical-align: middle;\n",
       "    }\n",
       "\n",
       "    .dataframe tbody tr th {\n",
       "        vertical-align: top;\n",
       "    }\n",
       "\n",
       "    .dataframe thead th {\n",
       "        text-align: right;\n",
       "    }\n",
       "</style>\n",
       "<table border=\"1\" class=\"dataframe\">\n",
       "  <thead>\n",
       "    <tr style=\"text-align: right;\">\n",
       "      <th></th>\n",
       "      <th>yhat</th>\n",
       "      <th>y</th>\n",
       "    </tr>\n",
       "  </thead>\n",
       "  <tbody>\n",
       "    <tr>\n",
       "      <th>0</th>\n",
       "      <td>0.9</td>\n",
       "      <td>1</td>\n",
       "    </tr>\n",
       "    <tr>\n",
       "      <th>1</th>\n",
       "      <td>0.8</td>\n",
       "      <td>1</td>\n",
       "    </tr>\n",
       "    <tr>\n",
       "      <th>2</th>\n",
       "      <td>0.7</td>\n",
       "      <td>1</td>\n",
       "    </tr>\n",
       "    <tr>\n",
       "      <th>3</th>\n",
       "      <td>0.5</td>\n",
       "      <td>0</td>\n",
       "    </tr>\n",
       "    <tr>\n",
       "      <th>4</th>\n",
       "      <td>0.2</td>\n",
       "      <td>0</td>\n",
       "    </tr>\n",
       "    <tr>\n",
       "      <th>5</th>\n",
       "      <td>0.1</td>\n",
       "      <td>0</td>\n",
       "    </tr>\n",
       "    <tr>\n",
       "      <th>6</th>\n",
       "      <td>0.9</td>\n",
       "      <td>0</td>\n",
       "    </tr>\n",
       "  </tbody>\n",
       "</table>\n",
       "</div>"
      ],
      "text/plain": [
       "   yhat  y\n",
       "0   0.9  1\n",
       "1   0.8  1\n",
       "2   0.7  1\n",
       "3   0.5  0\n",
       "4   0.2  0\n",
       "5   0.1  0\n",
       "6   0.9  0"
      ]
     },
     "execution_count": 6,
     "metadata": {},
     "output_type": "execute_result"
    }
   ],
   "source": [
    "# create pandas dataframe \n",
    "df = pd.DataFrame({'yhat':[.9,.8,.7,.5,.2,.1,.9],'y':[1,1,1,0,0,0,0]})\n",
    "df"
   ]
  },
  {
   "cell_type": "code",
   "execution_count": 8,
   "metadata": {},
   "outputs": [
    {
     "name": "stdout",
     "output_type": "stream",
     "text": [
      "+----+---+\n",
      "|yhat|  y|\n",
      "+----+---+\n",
      "| 0.9|  1|\n",
      "| 0.8|  1|\n",
      "| 0.7|  1|\n",
      "| 0.5|  0|\n",
      "| 0.2|  0|\n",
      "| 0.1|  0|\n",
      "| 0.9|  0|\n",
      "+----+---+\n",
      "\n"
     ]
    }
   ],
   "source": [
    "# convert pandas dataframe to spark dataframe \n",
    "sdf = spark.createDataFrame(df)\n",
    "sdf.show()"
   ]
  },
  {
   "cell_type": "markdown",
   "metadata": {},
   "source": [
    "## Evaluator\n",
    "\n",
    "`metricName` = optional, roc auc is default"
   ]
  },
  {
   "cell_type": "code",
   "execution_count": 9,
   "metadata": {},
   "outputs": [],
   "source": [
    "evaluator = BinaryClassificationEvaluator(labelCol='y', rawPredictionCol=\"yhat\", metricName=\"areaUnderROC\")"
   ]
  },
  {
   "cell_type": "code",
   "execution_count": 43,
   "metadata": {},
   "outputs": [],
   "source": [
    "roc_auc = evaluator.evaluate(sdf, {evaluator.metricName: \"areaUnderROC\"})\n",
    "pr_auc = evaluator.evaluate(sdf, {evaluator.metricName: \"areaUnderPR\"})"
   ]
  },
  {
   "cell_type": "code",
   "execution_count": 52,
   "metadata": {},
   "outputs": [
    {
     "name": "stdout",
     "output_type": "stream",
     "text": [
      "roc auc: 0.7916666666666666\n",
      "pr auc: 0.5972222222222221\n"
     ]
    }
   ],
   "source": [
    "print('roc auc:',roc_auc)\n",
    "print('pr auc:',pr_auc)"
   ]
  },
  {
   "cell_type": "markdown",
   "metadata": {},
   "source": [
    "## sklearn auc score\n",
    "\n",
    "Let's confirm the metrics are actually the same. Hmm.... They are not same, but similar."
   ]
  },
  {
   "cell_type": "code",
   "execution_count": 71,
   "metadata": {},
   "outputs": [
    {
     "name": "stdout",
     "output_type": "stream",
     "text": [
      "ROC AUC: 0.7916666666666666\n",
      "Avg Precision: 0.6388888888888888\n"
     ]
    }
   ],
   "source": [
    "from sklearn.metrics import roc_auc_score, recall_score, auc, make_scorer\n",
    "from sklearn.metrics import precision_recall_curve, roc_curve\n",
    "from sklearn.metrics import average_precision_score\n",
    "\n",
    "print('ROC AUC:', roc_auc_score(df.y, df.yhat))\n",
    "print('Avg Precision:', average_precision_score(df.y,df.yhat))"
   ]
  },
  {
   "cell_type": "code",
   "execution_count": 78,
   "metadata": {},
   "outputs": [
    {
     "name": "stdout",
     "output_type": "stream",
     "text": [
      "PR AUC: 0.6805555555555556\n"
     ]
    }
   ],
   "source": [
    "# custom pr auc score \n",
    "# Reference: # https://github.com/scikit-learn/scikit-learn/issues/5992\n",
    "def jj_pr_auc_score(y_true, y_pred):\n",
    "    \"\"\"\n",
    "    Input: \n",
    "        y_true - 1s and 0s\n",
    "        y_pred - probabilities \n",
    "    Returns\n",
    "        PR AUC Score \n",
    "    \"\"\"\n",
    "    precision, recall, thresholds = precision_recall_curve(y_true, y_pred,pos_label=1)\n",
    "    return auc(recall, precision, reorder=True)\n",
    "\n",
    "print('PR AUC:',jj_pr_auc_score(df.y,df.yhat))"
   ]
  },
  {
   "cell_type": "code",
   "execution_count": 77,
   "metadata": {},
   "outputs": [
    {
     "name": "stdout",
     "output_type": "stream",
     "text": [
      "ROC AUC: 0.7916666666666666\n"
     ]
    }
   ],
   "source": [
    "# custom roc auc score \n",
    "def jj_roc_auc_score(y_true, y_pred):\n",
    "    \"\"\"\n",
    "    Input: \n",
    "        y_true - 1s and 0s \n",
    "        y_pred - probabilities \n",
    "    Returns\n",
    "        ROC AUC Score \n",
    "    \"\"\"\n",
    "    fpr, tpr, thresholds = roc_curve(y_true, y_pred)\n",
    "    return auc(fpr, tpr, reorder=True)\n",
    "\n",
    "print('ROC AUC:',jj_roc_auc_score(df.y,df.yhat))"
   ]
  }
 ],
 "metadata": {
  "kernelspec": {
   "display_name": "Python 3",
   "language": "python",
   "name": "python3"
  },
  "language_info": {
   "codemirror_mode": {
    "name": "ipython",
    "version": 3
   },
   "file_extension": ".py",
   "mimetype": "text/x-python",
   "name": "python",
   "nbconvert_exporter": "python",
   "pygments_lexer": "ipython3",
   "version": "3.6.6"
  },
  "toc": {
   "nav_menu": {},
   "number_sections": true,
   "sideBar": true,
   "skip_h1_title": true,
   "title_cell": "Table of Contents",
   "title_sidebar": "Contents",
   "toc_cell": true,
   "toc_position": {},
   "toc_section_display": true,
   "toc_window_display": true
  }
 },
 "nbformat": 4,
 "nbformat_minor": 2
}
