{
 "cells": [
  {
   "cell_type": "markdown",
   "metadata": {
    "button": false,
    "deletable": true,
    "new_sheet": false,
    "run_control": {
     "read_only": false
    },
    "toc": true
   },
   "source": [
    "<h1>Table of Contents<span class=\"tocSkip\"></span></h1>\n",
    "<div class=\"toc\"><ul class=\"toc-item\"><li><span><a href=\"#Import\" data-toc-modified-id=\"Import-1\"><span class=\"toc-item-num\">1&nbsp;&nbsp;</span>Import</a></span></li><li><span><a href=\"#Example\" data-toc-modified-id=\"Example-2\"><span class=\"toc-item-num\">2&nbsp;&nbsp;</span>Example</a></span></li><li><span><a href=\"#Example-1\" data-toc-modified-id=\"Example-1-3\"><span class=\"toc-item-num\">3&nbsp;&nbsp;</span>Example 1</a></span><ul class=\"toc-item\"><li><span><a href=\"#UDF\" data-toc-modified-id=\"UDF-3.1\"><span class=\"toc-item-num\">3.1&nbsp;&nbsp;</span>UDF</a></span><ul class=\"toc-item\"><li><span><a href=\"#V1-with-Decorator\" data-toc-modified-id=\"V1-with-Decorator-3.1.1\"><span class=\"toc-item-num\">3.1.1&nbsp;&nbsp;</span>V1 with Decorator</a></span></li><li><span><a href=\"#V2-Without-Decorator\" data-toc-modified-id=\"V2-Without-Decorator-3.1.2\"><span class=\"toc-item-num\">3.1.2&nbsp;&nbsp;</span>V2 Without Decorator</a></span></li></ul></li><li><span><a href=\"#Pandas-UDF\" data-toc-modified-id=\"Pandas-UDF-3.2\"><span class=\"toc-item-num\">3.2&nbsp;&nbsp;</span>Pandas UDF</a></span><ul class=\"toc-item\"><li><span><a href=\"#V1-with-Decorator\" data-toc-modified-id=\"V1-with-Decorator-3.2.1\"><span class=\"toc-item-num\">3.2.1&nbsp;&nbsp;</span>V1 with Decorator</a></span></li><li><span><a href=\"#V2-Without-Decorator\" data-toc-modified-id=\"V2-Without-Decorator-3.2.2\"><span class=\"toc-item-num\">3.2.2&nbsp;&nbsp;</span>V2 Without Decorator</a></span></li></ul></li></ul></li></ul></div>"
   ]
  },
  {
   "cell_type": "markdown",
   "metadata": {
    "button": false,
    "deletable": true,
    "new_sheet": false,
    "run_control": {
     "read_only": false
    }
   },
   "source": [
    "# UDF and Pandas_UDF\n",
    "\n",
    "https://spark.apache.org/docs/2.3.0/sql-programming-guide.html#grouped-map"
   ]
  },
  {
   "cell_type": "markdown",
   "metadata": {
    "button": false,
    "deletable": true,
    "new_sheet": false,
    "run_control": {
     "read_only": false
    }
   },
   "source": [
    "## Import "
   ]
  },
  {
   "cell_type": "code",
   "execution_count": 4,
   "metadata": {
    "button": false,
    "collapsed": true,
    "deletable": true,
    "new_sheet": false,
    "run_control": {
     "read_only": false
    }
   },
   "outputs": [],
   "source": [
    "import pandas as pd \n",
    "import numpy as np\n",
    "\n",
    "from pyspark.sql.functions import pandas_udf,udf, col\n",
    "from pyspark.sql.types import *"
   ]
  },
  {
   "cell_type": "code",
   "execution_count": 1,
   "metadata": {
    "button": false,
    "collapsed": false,
    "deletable": true,
    "new_sheet": false,
    "run_control": {
     "read_only": false
    }
   },
   "outputs": [
    {
     "name": "stdout",
     "output_type": "stream",
     "text": [
      "Spark Version: 2.3.0\n"
     ]
    }
   ],
   "source": [
    "import findspark\n",
    "findspark.find() \n",
    "\n",
    "from pyspark import SparkContext\n",
    "sc = SparkContext()\n",
    "\n",
    "from pyspark.sql import SQLContext\n",
    "sqlcontext = SQLContext(sc)\n",
    "\n",
    "print('Spark Version:',sc.version)"
   ]
  },
  {
   "cell_type": "code",
   "execution_count": 2,
   "metadata": {
    "button": false,
    "collapsed": false,
    "deletable": true,
    "new_sheet": false,
    "run_control": {
     "read_only": false
    }
   },
   "outputs": [
    {
     "data": {
      "text/plain": [
       "10"
      ]
     },
     "execution_count": 2,
     "metadata": {},
     "output_type": "execute_result"
    }
   ],
   "source": [
    "# testing \n",
    "sc.parallelize(range(10)).count()"
   ]
  },
  {
   "cell_type": "markdown",
   "metadata": {
    "button": false,
    "deletable": true,
    "new_sheet": false,
    "run_control": {
     "read_only": false
    }
   },
   "source": [
    "## Example 1 \n",
    "\n",
    "Given string 'True' and 'False', convert to binary. "
   ]
  },
  {
   "cell_type": "code",
   "execution_count": 40,
   "metadata": {
    "button": false,
    "collapsed": false,
    "deletable": true,
    "new_sheet": false,
    "run_control": {
     "read_only": false
    }
   },
   "outputs": [
    {
     "name": "stdout",
     "output_type": "stream",
     "text": [
      "+-----+\n",
      "|value|\n",
      "+-----+\n",
      "| True|\n",
      "|False|\n",
      "| True|\n",
      "+-----+\n",
      "\n"
     ]
    }
   ],
   "source": [
    "pdf = pd.DataFrame({'value':['True','False','True']})\n",
    "sdf = sqlcontext.createDataFrame(pdf)\n",
    "sdf.show()"
   ]
  },
  {
   "cell_type": "markdown",
   "metadata": {
    "button": false,
    "deletable": true,
    "new_sheet": false,
    "run_control": {
     "read_only": false
    }
   },
   "source": [
    "### UDF "
   ]
  },
  {
   "cell_type": "markdown",
   "metadata": {
    "button": false,
    "deletable": true,
    "new_sheet": false,
    "run_control": {
     "read_only": false
    }
   },
   "source": [
    "#### V1 with Decorator"
   ]
  },
  {
   "cell_type": "code",
   "execution_count": 51,
   "metadata": {
    "button": false,
    "collapsed": false,
    "deletable": true,
    "new_sheet": false,
    "run_control": {
     "read_only": false
    }
   },
   "outputs": [
    {
     "name": "stdout",
     "output_type": "stream",
     "text": [
      "+------+\n",
      "|output|\n",
      "+------+\n",
      "|     1|\n",
      "|     0|\n",
      "|     1|\n",
      "+------+\n",
      "\n"
     ]
    }
   ],
   "source": [
    "@udf('integer')\n",
    "def convert_boolean_udf(i):\n",
    "    '''\n",
    "    Accepts input one row at a time, eg. one string at a time \n",
    "    '''\n",
    "    # type(i) shows string \n",
    "    \n",
    "    if i == 'True':\n",
    "        return 1\n",
    "    elif i =='False':\n",
    "        return 0 \n",
    "    \n",
    "sdf.withColumn('output', convert_boolean_udf(sdf.value)).select('output').show(4)"
   ]
  },
  {
   "cell_type": "markdown",
   "metadata": {
    "button": false,
    "deletable": true,
    "new_sheet": false,
    "run_control": {
     "read_only": false
    }
   },
   "source": [
    "#### V2 Without Decorator"
   ]
  },
  {
   "cell_type": "code",
   "execution_count": 54,
   "metadata": {
    "button": false,
    "collapsed": true,
    "deletable": true,
    "new_sheet": false,
    "run_control": {
     "read_only": false
    }
   },
   "outputs": [],
   "source": [
    "def convert_boolean(i):\n",
    "    '''\n",
    "    Accepts input one row at a time, eg. one string at a time \n",
    "    '''\n",
    "    if i == 'True':\n",
    "        return 1\n",
    "    elif i =='False':\n",
    "        return 0 \n",
    "\n",
    "convert_boolean_udf = udf(convert_boolean, returnType=IntegerType())"
   ]
  },
  {
   "cell_type": "code",
   "execution_count": 55,
   "metadata": {
    "button": false,
    "collapsed": false,
    "deletable": true,
    "new_sheet": false,
    "run_control": {
     "read_only": false
    },
    "scrolled": false
   },
   "outputs": [
    {
     "name": "stdout",
     "output_type": "stream",
     "text": [
      "+-----+\n",
      "|value|\n",
      "+-----+\n",
      "|    1|\n",
      "|    0|\n",
      "|    1|\n",
      "+-----+\n",
      "\n"
     ]
    }
   ],
   "source": [
    "sdf.select(convert_boolean_udf(col(\"value\")).alias('value')).show()"
   ]
  },
  {
   "cell_type": "markdown",
   "metadata": {
    "button": false,
    "deletable": true,
    "new_sheet": false,
    "run_control": {
     "read_only": false
    }
   },
   "source": [
    "### Pandas UDF"
   ]
  },
  {
   "cell_type": "markdown",
   "metadata": {
    "button": false,
    "deletable": true,
    "new_sheet": false,
    "run_control": {
     "read_only": false
    }
   },
   "source": [
    "#### V1 with Decorator"
   ]
  },
  {
   "cell_type": "code",
   "execution_count": 60,
   "metadata": {
    "button": false,
    "collapsed": false,
    "deletable": true,
    "new_sheet": false,
    "run_control": {
     "read_only": false
    },
    "scrolled": false
   },
   "outputs": [
    {
     "name": "stdout",
     "output_type": "stream",
     "text": [
      "+------+\n",
      "|output|\n",
      "+------+\n",
      "|     1|\n",
      "|     0|\n",
      "|     1|\n",
      "+------+\n",
      "\n"
     ]
    }
   ],
   "source": [
    "@pandas_udf('integer')\n",
    "def convert_boolean_pudf(i):\n",
    "    '''\n",
    "    Accepts input of type Pandas Series\n",
    "    '''\n",
    "    # print(type(i)) shows <class 'pandas.core.series.Series'>\n",
    "    return (i.apply(convert_boolean))\n",
    "\n",
    "sdf.withColumn('output', convert_boolean_pudf(sdf.value)).select('output').show(3)"
   ]
  },
  {
   "cell_type": "markdown",
   "metadata": {
    "button": false,
    "deletable": true,
    "new_sheet": false,
    "run_control": {
     "read_only": false
    }
   },
   "source": [
    "#### V2 Without Decorator"
   ]
  },
  {
   "cell_type": "code",
   "execution_count": 61,
   "metadata": {
    "button": false,
    "collapsed": false,
    "deletable": true,
    "new_sheet": false,
    "run_control": {
     "read_only": false
    }
   },
   "outputs": [
    {
     "name": "stdout",
     "output_type": "stream",
     "text": [
      "+------+\n",
      "|output|\n",
      "+------+\n",
      "|     1|\n",
      "|     0|\n",
      "|     1|\n",
      "+------+\n",
      "\n"
     ]
    }
   ],
   "source": [
    "def convert_boolean_series(i):\n",
    "    '''\n",
    "    Accepts input of type Pandas Series\n",
    "    '''\n",
    "    return (i.apply(convert_boolean))\n",
    "\n",
    "convert_boolean_pudf = pandas_udf(convert_boolean_series, returnType=IntegerType())\n",
    "\n",
    "sdf.withColumn('output', convert_boolean_pudf(sdf.value)).select('output').show(3)"
   ]
  },
  {
   "cell_type": "code",
   "execution_count": 64,
   "metadata": {
    "button": false,
    "collapsed": false,
    "deletable": true,
    "new_sheet": false,
    "run_control": {
     "read_only": false
    }
   },
   "outputs": [
    {
     "data": {
      "text/html": [
       "<div>\n",
       "<style scoped>\n",
       "    .dataframe tbody tr th:only-of-type {\n",
       "        vertical-align: middle;\n",
       "    }\n",
       "\n",
       "    .dataframe tbody tr th {\n",
       "        vertical-align: top;\n",
       "    }\n",
       "\n",
       "    .dataframe thead th {\n",
       "        text-align: right;\n",
       "    }\n",
       "</style>\n",
       "<table border=\"1\" class=\"dataframe\">\n",
       "  <thead>\n",
       "    <tr style=\"text-align: right;\">\n",
       "      <th></th>\n",
       "      <th>value</th>\n",
       "    </tr>\n",
       "  </thead>\n",
       "  <tbody>\n",
       "    <tr>\n",
       "      <th>0</th>\n",
       "      <td>1</td>\n",
       "    </tr>\n",
       "    <tr>\n",
       "      <th>1</th>\n",
       "      <td>0</td>\n",
       "    </tr>\n",
       "    <tr>\n",
       "      <th>2</th>\n",
       "      <td>1</td>\n",
       "    </tr>\n",
       "  </tbody>\n",
       "</table>\n",
       "</div>"
      ],
      "text/plain": [
       "   value\n",
       "0      1\n",
       "1      0\n",
       "2      1"
      ]
     },
     "execution_count": 64,
     "metadata": {},
     "output_type": "execute_result"
    }
   ],
   "source": [
    "# pandas_udf function should work with pandas series object\n",
    "pdf.apply(convert_boolean_series)"
   ]
  }
 ],
 "metadata": {
  "kernelspec": {
   "display_name": "Python 3",
   "language": "python",
   "name": "python3"
  },
  "language_info": {
   "codemirror_mode": {
    "name": "ipython",
    "version": 3
   },
   "file_extension": ".py",
   "mimetype": "text/x-python",
   "name": "python",
   "nbconvert_exporter": "python",
   "pygments_lexer": "ipython3",
   "version": "3.5.0"
  },
  "toc": {
   "nav_menu": {},
   "number_sections": true,
   "sideBar": true,
   "skip_h1_title": true,
   "title_cell": "Table of Contents",
   "title_sidebar": "Contents",
   "toc_cell": true,
   "toc_position": {
    "height": "calc(100% - 180px)",
    "left": "10px",
    "top": "150px",
    "width": "206px"
   },
   "toc_section_display": true,
   "toc_window_display": true
  }
 },
 "nbformat": 4,
 "nbformat_minor": 2
}
