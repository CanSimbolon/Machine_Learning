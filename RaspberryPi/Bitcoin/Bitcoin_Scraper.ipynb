{
 "cells": [
  {
   "cell_type": "markdown",
   "metadata": {},
   "source": [
    "# Bitcoin\n",
    "\n",
    "### How do scrape current bitcoin price from search results\n",
    "\n",
    "Other source: https://github.com/jasjung/bitcoin-price-api"
   ]
  },
  {
   "cell_type": "markdown",
   "metadata": {},
   "source": [
    "# Google vers\n",
    "How to scrape bitcoin price from google results "
   ]
  },
  {
   "cell_type": "code",
   "execution_count": 3,
   "metadata": {
    "collapsed": true
   },
   "outputs": [],
   "source": [
    "import requests \n",
    "from bs4 import BeautifulSoup\n",
    "\n",
    "url='https://www.google.com/search?client=safari&rls=en&q=bitcoin+price&oq=bitcoin+price'#&gs_l=psy-ab.3..35i39k1j0i20k1j0l2.1880.11940.0.12064.36.23.13.0.0.0.205.2634.3j16j2.21.0....0...1.1.64.psy-ab..2.34.2962.6..0i131k1j0i67k1j0i3k1j0i10k1.7fxVQ36iki8'\n",
    "page = requests.get(url)\n",
    "soup = BeautifulSoup(page.content, 'html.parser')\n"
   ]
  },
  {
   "cell_type": "code",
   "execution_count": 14,
   "metadata": {},
   "outputs": [
    {
     "data": {
      "text/plain": [
       "'1 Bitcoin = 4430.0100 US dollars'"
      ]
     },
     "execution_count": 14,
     "metadata": {},
     "output_type": "execute_result"
    }
   ],
   "source": [
    "table = soup.find_all('b')\n",
    "temp = table[1].find(text=True)\n",
    "temp"
   ]
  },
  {
   "cell_type": "code",
   "execution_count": 15,
   "metadata": {},
   "outputs": [
    {
     "data": {
      "text/plain": [
       "'4430.0100'"
      ]
     },
     "execution_count": 15,
     "metadata": {},
     "output_type": "execute_result"
    }
   ],
   "source": [
    "price = temp.split(' ')[3]\n",
    "price"
   ]
  },
  {
   "cell_type": "markdown",
   "metadata": {},
   "source": [
    "# Bing Vers\n",
    "\n",
    "I got scared that google might block me, so I wrote another script to run on bing"
   ]
  },
  {
   "cell_type": "code",
   "execution_count": 17,
   "metadata": {
    "collapsed": true
   },
   "outputs": [],
   "source": [
    "url = 'http://www.bing.com/search?q=bitcoin+price'\n",
    "page = requests.get(url)\n",
    "soup = BeautifulSoup(page.content, 'html.parser')\n",
    "#table = soup.find_all('b')\n",
    "#table\n",
    "#<div class=\"b_hide\" id=\"CurrencyAjaxResponse_FCR\">4226.03</div>"
   ]
  },
  {
   "cell_type": "code",
   "execution_count": 18,
   "metadata": {},
   "outputs": [
    {
     "data": {
      "text/plain": [
       "4430.01"
      ]
     },
     "execution_count": 18,
     "metadata": {},
     "output_type": "execute_result"
    }
   ],
   "source": [
    "table = soup.find_all('div','b_hide')\n",
    "price_bing = float(table[0].find(text=True))\n",
    "price_bing"
   ]
  },
  {
   "cell_type": "code",
   "execution_count": null,
   "metadata": {
    "collapsed": true
   },
   "outputs": [],
   "source": []
  },
  {
   "cell_type": "markdown",
   "metadata": {},
   "source": [
    "Base Price = $XXX \n",
    "\n",
    "Check current price $CUR against base price $XXX \n",
    "\n",
    "If abs($CUR-$XXX)/$XXX > 1% (if price change is greater than 10%), \n",
    "    send email: \n",
    "    check if the the difference is above or below \n",
    "    \n",
    "    if $CUR > $XXX: \n",
    "        # increased \n",
    "        \"hey good news\" \n",
    "    elif if $CUR > $XXX:\n",
    "        # decreased \n",
    "        \"hey bad news\" \n",
    "    else:\n",
    "    \n",
    "    reset the $base price to $CUR "
   ]
  },
  {
   "cell_type": "code",
   "execution_count": null,
   "metadata": {
    "collapsed": true
   },
   "outputs": [],
   "source": [
    "def fetch_price():\n",
    "    url = 'http://www.bing.com/search?q=bitcoin+price'\n",
    "    page = requests.get(url)\n",
    "    soup = BeautifulSoup(page.content, 'html.parser')\n",
    "\n",
    "    table = soup.find_all('div','b_hide')\n",
    "    return float(table[0].find(text=True))\n",
    "\n",
    "#fetch_price()"
   ]
  }
 ],
 "metadata": {
  "kernelspec": {
   "display_name": "Python 3",
   "language": "python",
   "name": "python3"
  },
  "language_info": {
   "codemirror_mode": {
    "name": "ipython",
    "version": 3
   },
   "file_extension": ".py",
   "mimetype": "text/x-python",
   "name": "python",
   "nbconvert_exporter": "python",
   "pygments_lexer": "ipython3",
   "version": "3.6.1"
  }
 },
 "nbformat": 4,
 "nbformat_minor": 2
}
