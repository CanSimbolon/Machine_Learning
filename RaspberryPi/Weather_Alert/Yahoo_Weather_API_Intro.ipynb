{
 "cells": [
  {
   "cell_type": "markdown",
   "metadata": {},
   "source": [
    "# Yahoo Weather API\n",
    "\n",
    "Objective: Get weather information from yahoo weather API.\n",
    "\n",
    "Source: \n",
    "- https://developer.yahoo.com/weather/#python\n",
    "- https://developer.yahoo.com/weather/documentation.html"
   ]
  },
  {
   "cell_type": "code",
   "execution_count": 16,
   "metadata": {},
   "outputs": [
    {
     "data": {
      "text/plain": [
       "{'channel': {'astronomy': {'sunrise': '6:22 am', 'sunset': '7:15 pm'},\n",
       "  'atmosphere': {'humidity': '52',\n",
       "   'pressure': '995.0',\n",
       "   'rising': '0',\n",
       "   'visibility': '16.1'},\n",
       "  'description': 'Yahoo! Weather for Evanston, IL, US',\n",
       "  'image': {'height': '18',\n",
       "   'link': 'http://weather.yahoo.com',\n",
       "   'title': 'Yahoo! Weather',\n",
       "   'url': 'http://l.yimg.com/a/i/brand/purplelogo//uh/us/news-wea.gif',\n",
       "   'width': '142'},\n",
       "  'item': {'condition': {'code': '28',\n",
       "    'date': 'Thu, 07 Sep 2017 02:00 PM CDT',\n",
       "    'temp': '66',\n",
       "    'text': 'Mostly Cloudy'},\n",
       "   'description': '<![CDATA[<img src=\"http://l.yimg.com/a/i/us/we/52/28.gif\"/>\\n<BR />\\n<b>Current Conditions:</b>\\n<BR />Mostly Cloudy\\n<BR />\\n<BR />\\n<b>Forecast:</b>\\n<BR /> Thu - Mostly Cloudy. High: 68Low: 54\\n<BR /> Fri - Partly Cloudy. High: 63Low: 58\\n<BR /> Sat - Sunny. High: 65Low: 56\\n<BR /> Sun - Sunny. High: 67Low: 57\\n<BR /> Mon - Sunny. High: 70Low: 57\\n<BR />\\n<BR />\\n<a href=\"http://us.rd.yahoo.com/dailynews/rss/weather/Country__Country/*https://weather.yahoo.com/country/state/city-2400737/\">Full Forecast at Yahoo! Weather</a>\\n<BR />\\n<BR />\\n<BR />\\n]]>',\n",
       "   'forecast': [{'code': '28',\n",
       "     'date': '07 Sep 2017',\n",
       "     'day': 'Thu',\n",
       "     'high': '68',\n",
       "     'low': '54',\n",
       "     'text': 'Mostly Cloudy'},\n",
       "    {'code': '30',\n",
       "     'date': '08 Sep 2017',\n",
       "     'day': 'Fri',\n",
       "     'high': '63',\n",
       "     'low': '58',\n",
       "     'text': 'Partly Cloudy'},\n",
       "    {'code': '32',\n",
       "     'date': '09 Sep 2017',\n",
       "     'day': 'Sat',\n",
       "     'high': '65',\n",
       "     'low': '56',\n",
       "     'text': 'Sunny'},\n",
       "    {'code': '32',\n",
       "     'date': '10 Sep 2017',\n",
       "     'day': 'Sun',\n",
       "     'high': '67',\n",
       "     'low': '57',\n",
       "     'text': 'Sunny'},\n",
       "    {'code': '32',\n",
       "     'date': '11 Sep 2017',\n",
       "     'day': 'Mon',\n",
       "     'high': '70',\n",
       "     'low': '57',\n",
       "     'text': 'Sunny'},\n",
       "    {'code': '30',\n",
       "     'date': '12 Sep 2017',\n",
       "     'day': 'Tue',\n",
       "     'high': '70',\n",
       "     'low': '62',\n",
       "     'text': 'Partly Cloudy'},\n",
       "    {'code': '34',\n",
       "     'date': '13 Sep 2017',\n",
       "     'day': 'Wed',\n",
       "     'high': '72',\n",
       "     'low': '60',\n",
       "     'text': 'Mostly Sunny'},\n",
       "    {'code': '34',\n",
       "     'date': '14 Sep 2017',\n",
       "     'day': 'Thu',\n",
       "     'high': '71',\n",
       "     'low': '60',\n",
       "     'text': 'Mostly Sunny'},\n",
       "    {'code': '34',\n",
       "     'date': '15 Sep 2017',\n",
       "     'day': 'Fri',\n",
       "     'high': '72',\n",
       "     'low': '61',\n",
       "     'text': 'Mostly Sunny'},\n",
       "    {'code': '30',\n",
       "     'date': '16 Sep 2017',\n",
       "     'day': 'Sat',\n",
       "     'high': '73',\n",
       "     'low': '62',\n",
       "     'text': 'Partly Cloudy'}],\n",
       "   'guid': {'isPermaLink': 'false'},\n",
       "   'lat': '42.056648',\n",
       "   'link': 'http://us.rd.yahoo.com/dailynews/rss/weather/Country__Country/*https://weather.yahoo.com/country/state/city-2400737/',\n",
       "   'long': '-87.686592',\n",
       "   'pubDate': 'Thu, 07 Sep 2017 02:00 PM CDT',\n",
       "   'title': 'Conditions for Evanston, IL, US at 02:00 PM CDT'},\n",
       "  'language': 'en-us',\n",
       "  'lastBuildDate': 'Thu, 07 Sep 2017 03:40 PM CDT',\n",
       "  'link': 'http://us.rd.yahoo.com/dailynews/rss/weather/Country__Country/*https://weather.yahoo.com/country/state/city-2400737/',\n",
       "  'location': {'city': 'Evanston',\n",
       "   'country': 'United States',\n",
       "   'region': ' IL'},\n",
       "  'title': 'Yahoo! Weather - Evanston, IL, US',\n",
       "  'ttl': '60',\n",
       "  'units': {'distance': 'mi',\n",
       "   'pressure': 'in',\n",
       "   'speed': 'mph',\n",
       "   'temperature': 'F'},\n",
       "  'wind': {'chill': '66', 'direction': '295', 'speed': '18'}}}"
      ]
     },
     "execution_count": 16,
     "metadata": {},
     "output_type": "execute_result"
    }
   ],
   "source": [
    "import json\n",
    "from urllib.request import Request, urlopen\n",
    "from urllib.parse import urlencode\n",
    "\n",
    "baseurl = \"https://query.yahooapis.com/v1/public/yql?\"\n",
    "#yql_query = \"select wind from weather.forecast where woeid=2460286\"\n",
    "\n",
    "city = 'evanston'\n",
    "state = 'il'\n",
    "\n",
    "yql_query ='select * from weather.forecast where woeid in (select woeid from geo.places(1) where text=\"%s, %s\")' % (city,state)\n",
    "yql_url = baseurl + urlencode({'q':yql_query}) + \"&format=json\"\n",
    "result = urlopen(yql_url).read()\n",
    "data = json.loads(result)\n",
    "data['query']['results']"
   ]
  },
  {
   "cell_type": "code",
   "execution_count": 18,
   "metadata": {},
   "outputs": [
    {
     "data": {
      "text/plain": [
       "'Mostly Cloudy'"
      ]
     },
     "execution_count": 18,
     "metadata": {},
     "output_type": "execute_result"
    }
   ],
   "source": [
    "# get the weather description text \n",
    "text = data['query']['results']['channel']['item']['condition']['text']\n",
    "text"
   ]
  },
  {
   "cell_type": "code",
   "execution_count": 24,
   "metadata": {},
   "outputs": [
    {
     "name": "stdout",
     "output_type": "stream",
     "text": [
      "true\n",
      "false\n",
      "false\n",
      "false\n"
     ]
    }
   ],
   "source": [
    "rain_list = ['rain','shower','drizzle','thunderstorm']\n",
    "\n",
    "text = 'mixed rain and snow'\n",
    "for i in rain_list: \n",
    "    if i in text:\n",
    "        print('true')\n",
    "        # send text alert \n",
    "        \n",
    "    else:\n",
    "        print('false')"
   ]
  },
  {
   "cell_type": "code",
   "execution_count": 33,
   "metadata": {},
   "outputs": [
    {
     "data": {
      "text/plain": [
       "'\\nCode\\tDescription\\n0\\ttornado\\n1\\ttropical storm\\n2\\thurricane\\n3\\tsevere thunderstorms\\n4\\tthunderstorms\\n5\\tmixed rain and snow\\n6\\tmixed rain and sleet\\n7\\tmixed snow and sleet\\n8\\tfreezing drizzle\\n9\\tdrizzle\\n10\\tfreezing rain\\n11\\tshowers\\n12\\tshowers\\n13\\tsnow flurries\\n14\\tlight snow showers\\n15\\tblowing snow\\n16\\tsnow\\n17\\thail\\n18\\tsleet\\n19\\tdust\\n20\\tfoggy\\n21\\thaze\\n22\\tsmoky\\n23\\tblustery\\n24\\twindy\\n25\\tcold\\n26\\tcloudy\\n27\\tmostly cloudy (night)\\n28\\tmostly cloudy (day)\\n29\\tpartly cloudy (night)\\n30\\tpartly cloudy (day)\\n31\\tclear (night)\\n32\\tsunny\\n33\\tfair (night)\\n34\\tfair (day)\\n35\\tmixed rain and hail\\n36\\thot\\n37\\tisolated thunderstorms\\n38\\tscattered thunderstorms\\n39\\tscattered thunderstorms\\n40\\tscattered showers\\n41\\theavy snow\\n42\\tscattered snow showers\\n43\\theavy snow\\n44\\tpartly cloudy\\n45\\tthundershowers\\n46\\tsnow showers\\n47\\tisolated thundershowers\\n3200\\tnot available\\n'"
      ]
     },
     "execution_count": 33,
     "metadata": {},
     "output_type": "execute_result"
    }
   ],
   "source": [
    "'''\n",
    "rain \n",
    "\n",
    "'''\n",
    "\n",
    "''' WEATHER CODE \n",
    "Code\tDescription\n",
    "0\ttornado\n",
    "1\ttropical storm\n",
    "2\thurricane\n",
    "3\tsevere thunderstorms\n",
    "4\tthunderstorms\n",
    "5\tmixed rain and snow\n",
    "6\tmixed rain and sleet\n",
    "7\tmixed snow and sleet\n",
    "8\tfreezing drizzle\n",
    "9\tdrizzle\n",
    "10\tfreezing rain\n",
    "11\tshowers\n",
    "12\tshowers\n",
    "13\tsnow flurries\n",
    "14\tlight snow showers\n",
    "15\tblowing snow\n",
    "16\tsnow\n",
    "17\thail\n",
    "18\tsleet\n",
    "19\tdust\n",
    "20\tfoggy\n",
    "21\thaze\n",
    "22\tsmoky\n",
    "23\tblustery\n",
    "24\twindy\n",
    "25\tcold\n",
    "26\tcloudy\n",
    "27\tmostly cloudy (night)\n",
    "28\tmostly cloudy (day)\n",
    "29\tpartly cloudy (night)\n",
    "30\tpartly cloudy (day)\n",
    "31\tclear (night)\n",
    "32\tsunny\n",
    "33\tfair (night)\n",
    "34\tfair (day)\n",
    "35\tmixed rain and hail\n",
    "36\thot\n",
    "37\tisolated thunderstorms\n",
    "38\tscattered thunderstorms\n",
    "39\tscattered thunderstorms\n",
    "40\tscattered showers\n",
    "41\theavy snow\n",
    "42\tscattered snow showers\n",
    "43\theavy snow\n",
    "44\tpartly cloudy\n",
    "45\tthundershowers\n",
    "46\tsnow showers\n",
    "47\tisolated thundershowers\n",
    "3200\tnot available\n",
    "'''"
   ]
  }
 ],
 "metadata": {
  "kernelspec": {
   "display_name": "Python 3",
   "language": "python",
   "name": "python3"
  },
  "language_info": {
   "codemirror_mode": {
    "name": "ipython",
    "version": 3
   },
   "file_extension": ".py",
   "mimetype": "text/x-python",
   "name": "python",
   "nbconvert_exporter": "python",
   "pygments_lexer": "ipython3",
   "version": "3.6.1"
  }
 },
 "nbformat": 4,
 "nbformat_minor": 2
}
