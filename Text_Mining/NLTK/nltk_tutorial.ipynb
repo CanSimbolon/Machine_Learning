{
 "cells": [
  {
   "cell_type": "markdown",
   "metadata": {},
   "source": [
    "# NLTK Tutorial \n",
    "\n",
    "Credit: \n",
    "- http://www.nltk.org\n",
    "- https://likegeeks.com/nlp-tutorial-using-python-nltk/\n",
    "- https://pythonspot.com/en/category/nltk/\n"
   ]
  },
  {
   "cell_type": "code",
   "execution_count": 2,
   "metadata": {
    "collapsed": true
   },
   "outputs": [],
   "source": [
    "# import packages \n",
    "import nltk \n",
    "from nltk import FreqDist\n",
    "from nltk.tokenize import sent_tokenize, word_tokenize\n",
    "from nltk.corpus import stopwords\n",
    "from nltk.stem import PorterStemmer\n",
    "from nltk.stem import WordNetLemmatizer\n",
    "from nltk.tokenize import RegexpTokenizer\n",
    "\n",
    "from bs4 import BeautifulSoup\n",
    "import urllib.request "
   ]
  },
  {
   "cell_type": "code",
   "execution_count": 3,
   "metadata": {},
   "outputs": [
    {
     "name": "stdout",
     "output_type": "stream",
     "text": [
      "1851\n",
      "                                   MOBY DICK;\n",
      "                                  OR THE WHALE\n",
      "                               by Herman Melville\n",
      "ETYMOLOGY\n",
      "  ETYMOLOGY\n",
      "  (Supplied by a Late Consumptive Usher to a Grammar School)\n",
      "\n",
      "  The pale Usher- threadbare in coat, heart, body, and brain; I see\n",
      "him now. He was ever dusting his old lexicons and grammars, with a\n",
      "queer handkerchief, mockingly embellished with all the gay flags of\n",
      "all the known nations of the world. He loved to dust his old grammars;\n",
      "it somehow mildly reminded him of his mortality.\n",
      "\n",
      "  \"While you take in hand to school others, and to teach them by\n",
      "what name a whale-fish is to be called in our tongue leaving out,\n",
      "through ignorance, the letter H, which almost alone maketh the\n",
      "signification of the word, you deliver that which is not true.\"\n",
      "                                                        HACKLUYT\n",
      "\n",
      "  \"WHALE. * * * Sw. and Dan. hval. This animal is named from roundness\n",
      "or rolling; for in Dan. hvalt is arched or vaulte\n"
     ]
    }
   ],
   "source": [
    "from bs4 import BeautifulSoup\n",
    "import urllib.request \n",
    "\n",
    "# download example text as an example \n",
    "url = 'http://www.textfiles.com/etext/FICTION/mobydick'\n",
    "response = urllib.request.urlopen(url) \n",
    "html = response.read()\n",
    "soup = BeautifulSoup(html,\"html5lib\")\n",
    "text = soup.get_text(strip=True)\n",
    "print (text[:1000])"
   ]
  },
  {
   "cell_type": "code",
   "execution_count": 7,
   "metadata": {
    "collapsed": true
   },
   "outputs": [],
   "source": [
    "# to save some time, truncate text \n",
    "text = text[:int(len(text)/10)]"
   ]
  },
  {
   "cell_type": "code",
   "execution_count": 30,
   "metadata": {},
   "outputs": [],
   "source": [
    "import string\n",
    "# remove punctuation\n",
    "translator = str.maketrans('', '', string.punctuation)\n",
    "# split into tokens \n",
    "text = text.translate(translator)"
   ]
  },
  {
   "cell_type": "markdown",
   "metadata": {},
   "source": [
    "## Tokenization"
   ]
  },
  {
   "cell_type": "code",
   "execution_count": 93,
   "metadata": {
    "scrolled": false
   },
   "outputs": [
    {
     "name": "stdout",
     "output_type": "stream",
     "text": [
      "['1851', 'MOBY', 'DICK;', 'OR', 'THE', 'WHALE', 'by', 'Herman', 'Melville', 'ETYMOLOGY']\n"
     ]
    }
   ],
   "source": [
    "# tokenize the text using pure python \n",
    "tokens = [t for t in text.split()] \n",
    "print(tokens[:10])"
   ]
  },
  {
   "cell_type": "code",
   "execution_count": 87,
   "metadata": {},
   "outputs": [
    {
     "name": "stdout",
     "output_type": "stream",
     "text": [
      "['1851', 'MOBY', 'DICK', ';', 'OR', 'THE', 'WHALE', 'by', 'Herman', 'Melville']\n"
     ]
    }
   ],
   "source": [
    "# tokenize the text using nltk tokenize method \n",
    "tokens = word_tokenize(text)\n",
    "print(tokens[:10])"
   ]
  },
  {
   "cell_type": "code",
   "execution_count": 94,
   "metadata": {},
   "outputs": [
    {
     "data": {
      "text/plain": [
       "[('the', 6407),\n",
       " ('of', 3358),\n",
       " ('and', 2906),\n",
       " ('a', 2423),\n",
       " ('to', 2268),\n",
       " ('in', 1935),\n",
       " ('that', 1342),\n",
       " ('his', 1257),\n",
       " ('I', 1061),\n",
       " ('was', 840)]"
      ]
     },
     "execution_count": 94,
     "metadata": {},
     "output_type": "execute_result"
    }
   ],
   "source": [
    "# compute the frequency of each tokens or words \n",
    "freq = nltk.FreqDist(tokens) \n",
    "\n",
    "# show top 10 most frequent words \n",
    "sorted(freq.items(), key=lambda x: x[1],reverse=True)[:10]"
   ]
  },
  {
   "cell_type": "code",
   "execution_count": 64,
   "metadata": {},
   "outputs": [
    {
     "name": "stdout",
     "output_type": "stream",
     "text": [
      "1851:3\n"
     ]
    }
   ],
   "source": [
    "for key,val in freq.items(): \n",
    "    print (str(key) + ':' + str(val))\n",
    "    break "
   ]
  },
  {
   "cell_type": "code",
   "execution_count": 65,
   "metadata": {},
   "outputs": [
    {
     "data": {
      "image/png": "[encoded data removed]",
      "text/plain": [
       "<matplotlib.figure.Figure at 0x1160ac0f0>"
      ]
     },
     "metadata": {},
     "output_type": "display_data"
    }
   ],
   "source": [
    "# plot top 20 most frequent words in a plot \n",
    "freq.plot(20, cumulative=False)"
   ]
  },
  {
   "cell_type": "markdown",
   "metadata": {},
   "source": [
    "## Stopwords"
   ]
  },
  {
   "cell_type": "code",
   "execution_count": 69,
   "metadata": {},
   "outputs": [
    {
     "name": "stdout",
     "output_type": "stream",
     "text": [
      "['i', 'me', 'my', 'myself', 'we', 'our', 'ours', 'ourselves', 'you', 'your']\n",
      "153\n"
     ]
    }
   ],
   "source": [
    "from nltk.corpus import stopwords\n",
    "\n",
    "# view stopwords \n",
    "print(stopwords.words('english')[:10])\n",
    "print(len(stopwords.words('english')))"
   ]
  },
  {
   "cell_type": "code",
   "execution_count": 99,
   "metadata": {},
   "outputs": [
    {
     "data": {
      "text/plain": [
       "['1851',\n",
       " 'MOBY',\n",
       " 'DICK;',\n",
       " 'WHALE',\n",
       " 'Herman',\n",
       " 'Melville',\n",
       " 'ETYMOLOGY',\n",
       " 'ETYMOLOGY',\n",
       " '(Supplied',\n",
       " 'Late']"
      ]
     },
     "execution_count": 99,
     "metadata": {},
     "output_type": "execute_result"
    }
   ],
   "source": [
    "clean_tokens = tokens.copy() # or tokens[:]\n",
    "sr = stopwords.words('english')\n",
    "for token in tokens:\n",
    "    if token.lower() in stopwords.words('english'):\n",
    "        clean_tokens.remove(token)\n",
    "clean_tokens[:10]"
   ]
  },
  {
   "cell_type": "code",
   "execution_count": 100,
   "metadata": {},
   "outputs": [
    {
     "data": {
      "text/plain": [
       "[('one', 346),\n",
       " ('upon', 279),\n",
       " ('like', 266),\n",
       " ('would', 228),\n",
       " ('old', 194),\n",
       " ('whale', 165),\n",
       " ('ye', 164),\n",
       " ('said', 158),\n",
       " ('though', 158),\n",
       " ('little', 154)]"
      ]
     },
     "execution_count": 100,
     "metadata": {},
     "output_type": "execute_result"
    }
   ],
   "source": [
    "# compute the frequency of each tokens or words \n",
    "freq = nltk.FreqDist(clean_tokens) \n",
    "\n",
    "# show top 10 most frequent words \n",
    "sorted(freq.items(), key=lambda x: x[1],reverse=True)[:10]"
   ]
  },
  {
   "cell_type": "markdown",
   "metadata": {},
   "source": [
    "## Word Stemming \n",
    "Word stemming means removing affixes from words and returning the root word."
   ]
  },
  {
   "cell_type": "code",
   "execution_count": 102,
   "metadata": {},
   "outputs": [
    {
     "name": "stdout",
     "output_type": "stream",
     "text": [
      "work\n",
      "increas\n"
     ]
    }
   ],
   "source": [
    "from nltk.stem import PorterStemmer\n",
    "stemmer = PorterStemmer() \n",
    "print(stemmer.stem('working'))\n",
    "print(stemmer.stem('increases'))"
   ]
  },
  {
   "cell_type": "markdown",
   "metadata": {},
   "source": [
    "## Word Lemmatization\n",
    "Word lemmatizing is similar to stemming, but the difference is the result of lemmatizing is a real word. Unlike stemming, when you try to stem some words, it will result in something like this:\n",
    "\n"
   ]
  },
  {
   "cell_type": "code",
   "execution_count": 103,
   "metadata": {},
   "outputs": [
    {
     "name": "stdout",
     "output_type": "stream",
     "text": [
      "increase\n"
     ]
    }
   ],
   "source": [
    "from nltk.stem import WordNetLemmatizer\n",
    "lemmatizer = WordNetLemmatizer()\n",
    "print(lemmatizer.lemmatize('increases'))"
   ]
  },
  {
   "cell_type": "markdown",
   "metadata": {},
   "source": [
    "## Ngrams\n",
    "\n",
    "Returns the ngrams generated from a sequence of items, as an iterator."
   ]
  },
  {
   "cell_type": "code",
   "execution_count": 17,
   "metadata": {
    "collapsed": true
   },
   "outputs": [],
   "source": [
    "from nltk import ngrams\n",
    "from nltk import bigrams\n",
    "from nltk import trigrams"
   ]
  },
  {
   "cell_type": "code",
   "execution_count": 15,
   "metadata": {},
   "outputs": [
    {
     "data": {
      "text/plain": [
       "<generator object ngrams at 0x111b08e08>"
      ]
     },
     "execution_count": 15,
     "metadata": {},
     "output_type": "execute_result"
    }
   ],
   "source": [
    "# sixgram example\n",
    "n = 6\n",
    "sixgrams = ngrams(text.split(), n)\n",
    "sixgrams"
   ]
  },
  {
   "cell_type": "code",
   "execution_count": 16,
   "metadata": {},
   "outputs": [
    {
     "data": {
      "text/plain": [
       "[('1851', 'MOBY', 'DICK;', 'OR', 'THE', 'WHALE'),\n",
       " ('MOBY', 'DICK;', 'OR', 'THE', 'WHALE', 'by'),\n",
       " ('DICK;', 'OR', 'THE', 'WHALE', 'by', 'Herman'),\n",
       " ('OR', 'THE', 'WHALE', 'by', 'Herman', 'Melville'),\n",
       " ('THE', 'WHALE', 'by', 'Herman', 'Melville', 'ETYMOLOGY'),\n",
       " ('WHALE', 'by', 'Herman', 'Melville', 'ETYMOLOGY', 'ETYMOLOGY'),\n",
       " ('by', 'Herman', 'Melville', 'ETYMOLOGY', 'ETYMOLOGY', '(Supplied'),\n",
       " ('Herman', 'Melville', 'ETYMOLOGY', 'ETYMOLOGY', '(Supplied', 'by'),\n",
       " ('Melville', 'ETYMOLOGY', 'ETYMOLOGY', '(Supplied', 'by', 'a'),\n",
       " ('ETYMOLOGY', 'ETYMOLOGY', '(Supplied', 'by', 'a', 'Late')]"
      ]
     },
     "execution_count": 16,
     "metadata": {},
     "output_type": "execute_result"
    }
   ],
   "source": [
    "n = 6\n",
    "sixgrams = ngrams(text.split(), n)\n",
    "list(sixgrams)[:10]"
   ]
  },
  {
   "cell_type": "code",
   "execution_count": 20,
   "metadata": {},
   "outputs": [
    {
     "data": {
      "text/plain": [
       "[('1851', 'MOBY'),\n",
       " ('MOBY', 'DICK;'),\n",
       " ('DICK;', 'OR'),\n",
       " ('OR', 'THE'),\n",
       " ('THE', 'WHALE'),\n",
       " ('WHALE', 'by'),\n",
       " ('by', 'Herman'),\n",
       " ('Herman', 'Melville'),\n",
       " ('Melville', 'ETYMOLOGY'),\n",
       " ('ETYMOLOGY', 'ETYMOLOGY')]"
      ]
     },
     "execution_count": 20,
     "metadata": {},
     "output_type": "execute_result"
    }
   ],
   "source": [
    "# bigram\n",
    "list(bigrams(text.split()))[:10]"
   ]
  },
  {
   "cell_type": "code",
   "execution_count": 32,
   "metadata": {},
   "outputs": [
    {
     "data": {
      "text/plain": [
       "[(('in', 'the'), 24),\n",
       " (('of', 'the'), 18),\n",
       " (('OF', 'THE'), 10),\n",
       " (('a', 'whale'), 10),\n",
       " (('to', 'the'), 9),\n",
       " (('the', 'sea'), 9),\n",
       " (('of', 'a'), 8),\n",
       " (('the', 'whale'), 8),\n",
       " (('by', 'a'), 7),\n",
       " (('is', 'a'), 6)]"
      ]
     },
     "execution_count": 32,
     "metadata": {},
     "output_type": "execute_result"
    }
   ],
   "source": [
    "tokens = list(bigrams(text.split()))\n",
    "\n",
    "# compute the frequency of each tokens or words \n",
    "freq = nltk.FreqDist(tokens) \n",
    "\n",
    "# show top 10 most frequent words \n",
    "sorted(freq.items(), key=lambda x: x[1],reverse=True)[:10]"
   ]
  },
  {
   "cell_type": "code",
   "execution_count": 33,
   "metadata": {},
   "outputs": [
    {
     "data": {
      "text/plain": [
       "[(('in', 'the', 'sea'), 4),\n",
       " (('of', 'the', 'whale'), 4),\n",
       " (('by', 'a', 'whale'), 4),\n",
       " (('of', 'a', 'whale'), 3),\n",
       " (('a', 'whale', 'in'), 3),\n",
       " (('There', 'she', 'blows'), 3),\n",
       " (('Supplied', 'by', 'a'), 2),\n",
       " (('of', 'all', 'the'), 2),\n",
       " (('all', 'the', 'known'), 2),\n",
       " (('poor', 'devil', 'of'), 2)]"
      ]
     },
     "execution_count": 33,
     "metadata": {},
     "output_type": "execute_result"
    }
   ],
   "source": [
    "tokens = list(trigrams(text.split()))\n",
    "\n",
    "# compute the frequency of each tokens or words \n",
    "freq = nltk.FreqDist(tokens) \n",
    "\n",
    "# show top 10 most frequent words \n",
    "sorted(freq.items(), key=lambda x: x[1],reverse=True)[:10]"
   ]
  }
 ],
 "metadata": {
  "kernelspec": {
   "display_name": "Python 3",
   "language": "python",
   "name": "python3"
  },
  "language_info": {
   "codemirror_mode": {
    "name": "ipython",
    "version": 3
   },
   "file_extension": ".py",
   "mimetype": "text/x-python",
   "name": "python",
   "nbconvert_exporter": "python",
   "pygments_lexer": "ipython3",
   "version": "3.6.1"
  }
 },
 "nbformat": 4,
 "nbformat_minor": 2
}
