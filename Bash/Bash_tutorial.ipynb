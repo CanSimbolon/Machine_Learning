{
 "cells": [
  {
   "cell_type": "markdown",
   "metadata": {},
   "source": [
    "# Bash Tutorial\n",
    "\n",
    "\n",
    "source: https://github.com/takluyver/bash_kernel\n",
    "credit: MSIA Lewis \n",
    "\n",
    "\n",
    "- pip install bash_kernel\n",
    "- python -m bash_kernel.install\n",
    "- jupyter notebook \n"
   ]
  },
  {
   "cell_type": "markdown",
   "metadata": {},
   "source": [
    "Unix? \n",
    "- MacOS is certifed Unix \n",
    "- iOS is also Unix\n",
    "- Linux \n"
   ]
  },
  {
   "cell_type": "code",
   "execution_count": 20,
   "metadata": {},
   "outputs": [
    {
     "name": "stdout",
     "output_type": "stream",
     "text": [
      "  % Total    % Received % Xferd  Average Speed   Time    Time     Time  Current\n",
      "                                 Dload  Upload   Total   Spent    Left  Speed\n",
      "  0     0    0     0    0     0      0      0 --:--:-- --:--:-- --:--:--     0                                      1851\n",
      "                                   MOBY DICK;\n",
      "                                  OR THE WHALE\n",
      "                               by Herman Melville\n",
      "ETYMOLOGY\n",
      "  ETYMOLOGY\n",
      "  (Supplied by a Late Consumptive Usher to a Grammar School)\n",
      "\n",
      "  The pale Usher- threadbare in coat, heart, body, and brain; I see\n",
      "him now. He was ever dusting his old lexicons and grammars, with a\n",
      "  2 1192k    2 34115    0     0   210k      0  0:00:05 --:--:--  0:00:05  366k\n",
      "curl: (23) Failed writing body (0 != 1374)\n"
     ]
    }
   ],
   "source": [
    "curl http://www.textfiles.com/etext/FICTION/mobydick | head"
   ]
  },
  {
   "cell_type": "code",
   "execution_count": 1,
   "metadata": {
    "scrolled": false
   },
   "outputs": [
    {
     "name": "stdout",
     "output_type": "stream",
     "text": [
      "  % Total    % Received % Xferd  Average Speed   Time    Time     Time  Current\n",
      "                                 Dload  Upload   Total   Spent    Left  Speed\n",
      "  0     0    0     0    0     0      0      0 --:--:-- --:--:-- --:--:--     0                                      \n",
      "                                   MOBY DICK\n",
      "                                  OR THE WHALE\n",
      "                               by Herman Melville\n",
      "ETYMOLOGY\n",
      "  ETYMOLOGY\n",
      "  Supplied by a Late Consumptive Usher to a Grammar School\n",
      "\n",
      "  The pale Usher threadbare in coat heart body and brain I see\n",
      "him now He was ever dusting his old lexicons and grammars with a\n",
      "  5 1192k    5 67505    0     0   263k      0  0:00:04 --:--:--  0:00:04  343k\n",
      "curl: (23) Failed writing body (0 != 5552)\n"
     ]
    }
   ],
   "source": [
    "curl http://www.textfiles.com/etext/FICTION/mobydick | \n",
    "sed 's/[^A-Za-z ]//g' | \n",
    "head"
   ]
  },
  {
   "cell_type": "code",
   "execution_count": 23,
   "metadata": {},
   "outputs": [
    {
     "name": "stdout",
     "output_type": "stream",
     "text": [
      "  % Total    % Received % Xferd  Average Speed   Time    Time     Time  Current\n",
      "                                 Dload  Upload   Total   Spent    Left  Speed\n",
      "100 1192k  100 1192k    0     0  1599k      0 --:--:-- --:--:-- --:--:-- 1604k\n"
     ]
    }
   ],
   "source": [
    "curl http://www.textfiles.com/etext/FICTION/mobydick | \n",
    "sed 'r/[^A-Za-z ]//g' | \n",
    "tr ' ' '\\n' | sort | uniq -c | sort -h > wordcount"
   ]
  },
  {
   "cell_type": "code",
   "execution_count": 24,
   "metadata": {},
   "outputs": [
    {
     "name": "stdout",
     "output_type": "stream",
     "text": [
      "  % Total    % Received % Xferd  Average Speed   Time    Time     Time  Current\n",
      "                                 Dload  Upload   Total   Spent    Left  Speed\n",
      "100 1192k  100 1192k    0     0  2033k      0 --:--:-- --:--:-- --:--:-- 2041k\n",
      "1756 I\n",
      "2434 his\n",
      "2711 that\n",
      "3847 in\n",
      "4462 to\n",
      "4540 a\n",
      "5942 and\n",
      "6492 of\n",
      "11152 \n",
      "13741 the\n"
     ]
    }
   ],
   "source": [
    "curl http://www.textfiles.com/etext/FICTION/mobydick | \n",
    "sed 'r/[^A-Za-z ]//g' | \n",
    "tr ' ' '\\n' | sort | uniq -c | sort -h | tail"
   ]
  },
  {
   "cell_type": "code",
   "execution_count": null,
   "metadata": {
    "collapsed": true
   },
   "outputs": [],
   "source": [
    "curl http://www.textfiles.com/etext/FICTION/mobydick | \n",
    "sed 'r/[^A-Za-z ]//g' | \n",
    "tr ' ' '\\n' | sort | uniq -c | sort -h > wordcount"
   ]
  },
  {
   "cell_type": "code",
   "execution_count": 14,
   "metadata": {},
   "outputs": [
    {
     "name": "stdout",
     "output_type": "stream",
     "text": [
      "  % Total    % Received % Xferd  Average Speed   Time    Time     Time  Current\n",
      "                                 Dload  Upload   Total   Spent    Left  Speed\n",
      "  0     0    0     0    0     0      0      0 --:--:-- --:--:-- --:--:--     0<!DOCTYPE html>\n",
      "<html xmlns=\"http://www.w3.org/1999/xhtml\" lang=\"en\">\n",
      "<head>\n",
      "<meta charset=\"UTF-8\"/>\n",
      "<meta content=\"IE=Edge\" http-equiv=\"X-UA-Compatible\"/>\n",
      "<meta content=\"width=device-width, initial-scale=1.0\" name=\"viewport\"/>\n",
      "<meta content=\"Northwestern University\" property=\"og:title\"/>\n",
      "<meta content=\"A Northwestern Direction is a journey that each one of us creates and defines.\" property=\"og:description\"/>\n",
      "<meta content=\"//common.northwestern.edu/v8/css/images/northwestern-thumb.jpg\" property=\"og:image\"/>\n",
      "<meta content=\"A Northwestern Direction is a journey that each one of us creates and defines.\" name=\"description\"/>\n",
      "100 30212    0 30212    0     0   791k      0 --:--:-- --:--:-- --:--:-- 1134k\n",
      "(23) Failed writing body\n"
     ]
    }
   ],
   "source": [
    "curl www.northwestern.edu | head"
   ]
  },
  {
   "cell_type": "code",
   "execution_count": 11,
   "metadata": {},
   "outputs": [
    {
     "name": "stdout",
     "output_type": "stream",
     "text": [
      "\r\n"
     ]
    }
   ],
   "source": [
    "sed 'r/[^A-Za-z ]//g'"
   ]
  },
  {
   "cell_type": "code",
   "execution_count": 10,
   "metadata": {},
   "outputs": [
    {
     "name": "stdout",
     "output_type": "stream",
     "text": [
      "help: help [-s] [pattern ...]\n",
      "    Display helpful information about builtin commands.  If PATTERN is\n",
      "    specified, gives detailed help on all commands matching PATTERN,\n",
      "    otherwise a list of the builtins is printed.  The -s option\n",
      "    restricts the output for each builtin command matching PATTERN to\n",
      "    a short usage synopsis.\n"
     ]
    }
   ],
   "source": [
    "info sed"
   ]
  },
  {
   "cell_type": "code",
   "execution_count": 6,
   "metadata": {},
   "outputs": [
    {
     "name": "stdout",
     "output_type": "stream",
     "text": [
      "\u001b[?1h\u001b=\u001b[?1049h\u001b[H\u001b[2J\u001b[24;1HWelcome to Info version 5.2. Type h for help, m for menu item.\u001b[1;1HFile: *manpages*,  Node: curl,  Up: (dir)\u001b[3;1Hcurl(1)                           Curl Manual                          curl(1)\u001b[7;1HNAME\u001b[8;1H       curl - transfer a URL\u001b[10;1HSYNOPSIS\u001b[11;1H       curl [options] [URL...]\u001b[13;1HDESCRIPTION\u001b[14;1H       curl  is  a tool to transfer data from or to a server, using one of the\u001b[15;1H       supported protocols (DICT, FILE, FTP, FTPS, GOPHER, HTTP, HTTPS,  IMAP,\u001b[16;1H       IMAPS,  LDAP,  LDAPS,  POP3,  POP3S,  RTMP, RTSP, SCP, SFTP, SMB, SMBS,\u001b[17;1H       SMTP, SMTPS, TELNET and TFTP). The command is designed to work  without\u001b[18;1H       user interaction.\u001b[20;1H       curl offers a busload of useful tricks like proxy support, user authen-\u001b[21;1H       tication, FTP upload, HTTP post, SSL connections, cookies, file  trans-\u001b[22;1H       fer  resume,  Metalink,  and more. As you will see below, the number of\u001b[23;1H\u001b[7m-----Info: (*manpages*)curl, 3255 lines --Top-----------------------------------\u001b[0m\u001b[24;1HWelcome to Info version 5.2. Type h for help, m for menu item.\u001b[24;1HWelcome to Info version 5.2. Type h for help, m for menu item.\u001b[1;1H\u001b[24;1H\u001b[K\u001b[?1l\u001b>\u001b[?1049l\r\n"
     ]
    }
   ],
   "source": [
    "info curl"
   ]
  },
  {
   "cell_type": "code",
   "execution_count": 15,
   "metadata": {},
   "outputs": [
    {
     "name": "stdout",
     "output_type": "stream",
     "text": [
      "--2017-10-26 10:26:12--  http://www.textfiles.com/etext/FICTION/mobydick\n",
      "Resolving www.textfiles.com... 208.86.224.90\n",
      "Connecting to www.textfiles.com|208.86.224.90|:80... connected.\n",
      "HTTP request sent, awaiting response... 200 OK\n",
      "Length: 1220927 (1.2M)\n",
      "Saving to: ‘mobydick’\n",
      "\n",
      "mobydick            100%[===================>]   1.16M  1.46MB/s    in 0.8s    \n",
      "\n",
      "2017-10-26 10:26:13 (1.46 MB/s) - ‘mobydick’ saved [1220927/1220927]\n",
      "\n"
     ]
    }
   ],
   "source": [
    "# web get \n",
    "wget http://www.textfiles.com/etext/FICTION/mobydick"
   ]
  },
  {
   "cell_type": "code",
   "execution_count": 16,
   "metadata": {},
   "outputs": [
    {
     "name": "stdout",
     "output_type": "stream",
     "text": [
      "   19932 mobydick\n"
     ]
    }
   ],
   "source": [
    "wc -l mobydick"
   ]
  },
  {
   "cell_type": "code",
   "execution_count": 18,
   "metadata": {},
   "outputs": [
    {
     "name": "stdout",
     "output_type": "stream",
     "text": [
      "  213544 mobydick\n"
     ]
    }
   ],
   "source": [
    "wc -w mobydick"
   ]
  },
  {
   "cell_type": "code",
   "execution_count": 19,
   "metadata": {},
   "outputs": [
    {
     "name": "stdout",
     "output_type": "stream",
     "text": [
      "/bin/bash\n"
     ]
    }
   ],
   "source": [
    "which bash"
   ]
  },
  {
   "cell_type": "markdown",
   "metadata": {},
   "source": [
    "you can pipe commands between two remote environments "
   ]
  },
  {
   "cell_type": "code",
   "execution_count": null,
   "metadata": {
    "collapsed": true
   },
   "outputs": [],
   "source": [
    "# zip file in my local machine and pip to send it to remote env \n",
    "tar czf - my_folder | ssh me@somewhereelse \"tar xczf -\""
   ]
  },
  {
   "cell_type": "code",
   "execution_count": null,
   "metadata": {
    "collapsed": true
   },
   "outputs": [],
   "source": [
    "# view the names of files in the zip \n",
    "unzip -l file.zip "
   ]
  },
  {
   "cell_type": "code",
   "execution_count": null,
   "metadata": {
    "collapsed": true
   },
   "outputs": [],
   "source": [
    "mkdir state ; mv *.txt"
   ]
  },
  {
   "cell_type": "code",
   "execution_count": null,
   "metadata": {
    "collapsed": true
   },
   "outputs": [],
   "source": [
    "head -l *.txt"
   ]
  },
  {
   "cell_type": "code",
   "execution_count": null,
   "metadata": {
    "collapsed": true
   },
   "outputs": [],
   "source": [
    "contrl a \n",
    "contrl e "
   ]
  }
 ],
 "metadata": {
  "kernelspec": {
   "display_name": "Bash",
   "language": "bash",
   "name": "bash"
  },
  "language_info": {
   "codemirror_mode": "shell",
   "file_extension": ".sh",
   "mimetype": "text/x-sh",
   "name": "bash"
  }
 },
 "nbformat": 4,
 "nbformat_minor": 2
}
