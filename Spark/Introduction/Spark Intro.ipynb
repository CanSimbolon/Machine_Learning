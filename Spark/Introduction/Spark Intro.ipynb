{
 "cells": [
  {
   "cell_type": "code",
   "execution_count": null,
   "metadata": {
    "collapsed": true
   },
   "outputs": [],
   "source": []
  },
  {
   "cell_type": "code",
   "execution_count": null,
   "metadata": {
    "collapsed": true
   },
   "outputs": [],
   "source": []
  },
  {
   "cell_type": "markdown",
   "metadata": {},
   "source": [
    "Notes: \n",
    "- Resilient distributed dataset (RDD)\n",
    "- \n",
    "\n",
    "Transformation:\n",
    "- filter\n",
    "- map \n",
    "- reduceByKey\n",
    "- join\n",
    "- groupByKey\n",
    "- flatMap \n",
    "\n",
    "Lazy Evaluation: \n",
    "- Collect\n",
    "- Take(n) \n",
    "- Count\n",
    "- saveAsTextFile \n",
    "\n",
    "Example of Transformations : \n",
    "- r.map{}.filter{}.groupBy{}.take(10) \n",
    "- r.map{}.join(x.map{}).collect() \n",
    "- map: RDD[T]: returns RDD[U] \n",
    "- flatMap: RDD[T]: returns RDD[U] \n",
    "- join: RDD[(key,whatever)]: returns RDD[(key,(V,W))] \n",
    "- groupByKey[(key,whatever)]: returns RDD[(key,iterator)]\n"
   ]
  },
  {
   "cell_type": "code",
   "execution_count": null,
   "metadata": {
    "collapsed": true
   },
   "outputs": [],
   "source": [
    "# Reading to Create RDD\n",
    "val sc = SparkContext()\n",
    "val rdd = sc.textFile(“myText.csv”).map{ t =>\n",
    "// t is line\n",
    "t.split(“,”)\n",
    "}.persist // RDD[Array[Int]]\n",
    "textFile(“hdfs://...”)\n",
    "\n"
   ]
  },
  {
   "cell_type": "code",
   "execution_count": 3,
   "metadata": {
    "collapsed": true
   },
   "outputs": [],
   "source": [
    "x = sc.parallelize([1,2,3])"
   ]
  },
  {
   "cell_type": "code",
   "execution_count": 2,
   "metadata": {
    "collapsed": false
   },
   "outputs": [
    {
     "data": {
      "text/plain": [
       "[1, 2, 3]"
      ]
     },
     "execution_count": 2,
     "metadata": {},
     "output_type": "execute_result"
    }
   ],
   "source": [
    "x.collect()"
   ]
  },
  {
   "cell_type": "code",
   "execution_count": null,
   "metadata": {
    "collapsed": true
   },
   "outputs": [],
   "source": []
  },
  {
   "cell_type": "code",
   "execution_count": null,
   "metadata": {
    "collapsed": true
   },
   "outputs": [],
   "source": []
  },
  {
   "cell_type": "markdown",
   "metadata": {},
   "source": [
    "|Transformation | description |\n",
    "|---------------|-------------|\n",
    "|map(func)|Return a new distributed dataset formed by passing each element of the source through a function func.|\n",
    "|filter(func)|Return a new dataset formed by selecting those elements of the source on which func returns true.|\n",
    "|flatMap(func)|Similar to map, but each input item can be mapped to 0 or more output items (so func should return a Seq rather than a single item).|\n",
    "|mapPartitions(func)|Similar to map, but runs separately on each partition (block) of the RDD, so func must be of type Iterator<T> => Iterator<U> when running on an RDD of type T.|\n",
    "|mapPartitionsWithIndex(func)|Similar to mapPartitions, but also provides func with an integer value representing the index of the partition, so func must be of type (Int, Iterator<T>) => Iterator<U> when running on an RDD of type T.|\n",
    "|sample(withReplacement, fraction, seed)|Sample a fraction fraction of the data, with or without replacement, using a given random number generator seed.|\n",
    "|||\n",
    "|||\n",
    "|||\n",
    "|||\n",
    "\n",
    "\n",
    "source: https://spark.apache.org/docs/latest/programming-guide.html"
   ]
  },
  {
   "cell_type": "markdown",
   "metadata": {},
   "source": [
    "|Action         | Description |\n",
    "|---------------|-------------|\n",
    "|reduce(func)|Aggregate the elements of the dataset using a function func (which takes two arguments and returns one). The function should be commutative and associative so that it can be computed correctly in parallel.|\n",
    "|collect()|Return all the elements of the dataset as an array at the driver program. This is usually useful after a filter or other operation that returns a sufficiently small subset of the data.|\n",
    "|count()|Return the number of elements in the dataset.|\n",
    "|first()|Return the first element of the dataset (similar to take(1)).|\n",
    "|take(n)|Return an array with the first n elements of the dataset.|\n",
    "|||\n",
    "|||\n",
    "|||\n"
   ]
  },
  {
   "cell_type": "code",
   "execution_count": null,
   "metadata": {
    "collapsed": true
   },
   "outputs": [],
   "source": []
  },
  {
   "cell_type": "markdown",
   "metadata": {},
   "source": []
  },
  {
   "cell_type": "code",
   "execution_count": null,
   "metadata": {
    "collapsed": true
   },
   "outputs": [],
   "source": []
  },
  {
   "cell_type": "code",
   "execution_count": null,
   "metadata": {
    "collapsed": true
   },
   "outputs": [],
   "source": []
  },
  {
   "cell_type": "code",
   "execution_count": null,
   "metadata": {
    "collapsed": true
   },
   "outputs": [],
   "source": []
  },
  {
   "cell_type": "code",
   "execution_count": null,
   "metadata": {
    "collapsed": true
   },
   "outputs": [],
   "source": []
  },
  {
   "cell_type": "code",
   "execution_count": null,
   "metadata": {
    "collapsed": true
   },
   "outputs": [],
   "source": []
  },
  {
   "cell_type": "code",
   "execution_count": null,
   "metadata": {
    "collapsed": true
   },
   "outputs": [],
   "source": []
  },
  {
   "cell_type": "code",
   "execution_count": null,
   "metadata": {
    "collapsed": true
   },
   "outputs": [],
   "source": []
  },
  {
   "cell_type": "code",
   "execution_count": null,
   "metadata": {
    "collapsed": true
   },
   "outputs": [],
   "source": []
  },
  {
   "cell_type": "code",
   "execution_count": null,
   "metadata": {
    "collapsed": true
   },
   "outputs": [],
   "source": []
  },
  {
   "cell_type": "code",
   "execution_count": null,
   "metadata": {
    "collapsed": true
   },
   "outputs": [],
   "source": []
  },
  {
   "cell_type": "code",
   "execution_count": null,
   "metadata": {
    "collapsed": true
   },
   "outputs": [],
   "source": []
  },
  {
   "cell_type": "code",
   "execution_count": null,
   "metadata": {
    "collapsed": true
   },
   "outputs": [],
   "source": []
  }
 ],
 "metadata": {
  "kernelspec": {
   "display_name": "Python 3",
   "language": "python",
   "name": "python3"
  },
  "language_info": {
   "codemirror_mode": {
    "name": "ipython",
    "version": 3
   },
   "file_extension": ".py",
   "mimetype": "text/x-python",
   "name": "python",
   "nbconvert_exporter": "python",
   "pygments_lexer": "ipython3",
   "version": "3.6.0"
  }
 },
 "nbformat": 4,
 "nbformat_minor": 2
}
