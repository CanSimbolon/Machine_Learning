{
 "cells": [
  {
   "cell_type": "markdown",
   "metadata": {},
   "source": [
    "# w9 lab note\n"
   ]
  },
  {
   "cell_type": "code",
   "execution_count": 9,
   "metadata": {
    "collapsed": false
   },
   "outputs": [
    {
     "data": {
      "text/plain": [
       "[1, 2, 3, 4, 5, 6]"
      ]
     },
     "execution_count": 9,
     "metadata": {},
     "output_type": "execute_result"
    }
   ],
   "source": [
    "# sc.parallelize(data, cluster size)\n",
    "rddList = sc.parallelize([1,2,3,4,5,6],2)\n",
    "rddList.collect()"
   ]
  },
  {
   "cell_type": "code",
   "execution_count": 2,
   "metadata": {
    "collapsed": false
   },
   "outputs": [
    {
     "data": {
      "text/plain": [
       "(21, 2)"
      ]
     },
     "execution_count": 2,
     "metadata": {},
     "output_type": "execute_result"
    }
   ],
   "source": [
    "'''\n",
    "1.(0,0) sum and count \n",
    "2.sum + value, count(++)\n",
    "3.merge results\n",
    "'''\n",
    "rddList.aggregate(\n",
    "(0,0),\n",
    "(lambda x,y: (x[0]+y,1)),\n",
    "(lambda rdd1,rdd2: (rdd1[0]+rdd2[0],rdd1[1]+rdd2[1]))\n",
    ")"
   ]
  },
  {
   "cell_type": "code",
   "execution_count": 5,
   "metadata": {
    "collapsed": false
   },
   "outputs": [
    {
     "data": {
      "text/plain": [
       "21"
      ]
     },
     "execution_count": 5,
     "metadata": {},
     "output_type": "execute_result"
    }
   ],
   "source": [
    "1+2+3+4+5+6"
   ]
  },
  {
   "cell_type": "code",
   "execution_count": 6,
   "metadata": {
    "collapsed": false
   },
   "outputs": [
    {
     "data": {
      "text/plain": [
       "(91, 2)"
      ]
     },
     "execution_count": 6,
     "metadata": {},
     "output_type": "execute_result"
    }
   ],
   "source": [
    "rddList.aggregate(\n",
    "(0,0),\n",
    "(lambda x,y: (x[0]+y*y,1)),\n",
    "(lambda rdd1,rdd2: (rdd1[0]+rdd2[0],rdd1[1]+rdd2[1]))\n",
    ")"
   ]
  },
  {
   "cell_type": "code",
   "execution_count": 8,
   "metadata": {
    "collapsed": false
   },
   "outputs": [
    {
     "data": {
      "text/plain": [
       "[1, 2, 3, 4, 5, 6]"
      ]
     },
     "execution_count": 8,
     "metadata": {},
     "output_type": "execute_result"
    }
   ],
   "source": []
  },
  {
   "cell_type": "markdown",
   "metadata": {},
   "source": [
    "## Machine Learning"
   ]
  },
  {
   "cell_type": "code",
   "execution_count": 11,
   "metadata": {
    "collapsed": false
   },
   "outputs": [
    {
     "data": {
      "text/plain": [
       "['1,2,3,4,5', '4,5,6,7,8']"
      ]
     },
     "execution_count": 11,
     "metadata": {},
     "output_type": "execute_result"
    }
   ],
   "source": [
    "data = sc.parallelize(['1,2,3,4,5','4,5,6,7,8'])\n",
    "data.collect()"
   ]
  },
  {
   "cell_type": "markdown",
   "metadata": {},
   "source": [
    "### Mean"
   ]
  },
  {
   "cell_type": "code",
   "execution_count": 13,
   "metadata": {
    "collapsed": false
   },
   "outputs": [
    {
     "data": {
      "text/plain": [
       "array([ 2.5,  3.5,  4.5,  5.5,  6.5])"
      ]
     },
     "execution_count": 13,
     "metadata": {},
     "output_type": "execute_result"
    }
   ],
   "source": [
    "from pyspark.mllib.linalg import Vectors\n",
    "from pyspark.mllib.stat import Statistics\n",
    "\n",
    "data2 = data.map(lambda x: x.split(\",\")).map(lambda x: Vectors.dense(x))\n",
    "summary = Statistics.colStats(data2)\n",
    "summary.mean()"
   ]
  },
  {
   "cell_type": "code",
   "execution_count": 26,
   "metadata": {
    "collapsed": false
   },
   "outputs": [
    {
     "name": "stdout",
     "output_type": "stream",
     "text": [
      "[[1 2 3 4 5]\n",
      " [4 5 6 7 8]]\n",
      "[[ 2.5  3.5  4.5  5.5  6.5]]\n"
     ]
    }
   ],
   "source": [
    "# confirm above calculation is correct \n",
    "import numpy as np \n",
    "matrix = np.matrix([[1,2,3,4,5],[4,5,6,7,8]])\n",
    "print(matrix)\n",
    "print(matrix.mean(0))"
   ]
  },
  {
   "cell_type": "code",
   "execution_count": 39,
   "metadata": {
    "collapsed": false
   },
   "outputs": [
    {
     "data": {
      "text/plain": [
       "[LabeledPoint(1.0, [2.0,3.0,4.0,5.0]), LabeledPoint(4.0, [5.0,6.0,7.0,8.0])]"
      ]
     },
     "execution_count": 39,
     "metadata": {},
     "output_type": "execute_result"
    }
   ],
   "source": [
    "from pyspark.mllib.regression import LabeledPoint\n",
    "data2 = data.map(lambda x: x.split(\",\")).map(lambda x: LabeledPoint(x[0],x[1:]))\n",
    "data2.collect()"
   ]
  },
  {
   "cell_type": "markdown",
   "metadata": {},
   "source": [
    "### LabeledPoint"
   ]
  },
  {
   "cell_type": "code",
   "execution_count": null,
   "metadata": {
    "collapsed": true
   },
   "outputs": [],
   "source": [
    "from pyspark.mllib.regression import LabeledPoint\n",
    "data2 = data.map(lambda x: x.split(\",\")).map(lambda x: LabeledPoint(x[0],x[1:]))\n",
    "data2.collect()"
   ]
  },
  {
   "cell_type": "markdown",
   "metadata": {},
   "source": [
    "### Crime Data"
   ]
  },
  {
   "cell_type": "code",
   "execution_count": 41,
   "metadata": {
    "collapsed": false,
    "scrolled": true
   },
   "outputs": [
    {
     "name": "stdout",
     "output_type": "stream",
     "text": [
      "+--------+-----------+--------------------+--------------------+----+--------------------+--------------------+--------------------+------+--------+----+--------+----+--------------+--------+------------+------------+----+--------------------+------------+-------------+--------------------+\n",
      "|      ID|Case Number|                Date|               Block|IUCR|        Primary Type|         Description|Location Description|Arrest|Domestic|Beat|District|Ward|Community Area|FBI Code|X Coordinate|Y Coordinate|Year|          Updated On|    Latitude|    Longitude|            Location|\n",
      "+--------+-----------+--------------------+--------------------+----+--------------------+--------------------+--------------------+------+--------+----+--------+----+--------------+--------+------------+------------+----+--------------------+------------+-------------+--------------------+\n",
      "|10078659|   HY267429|05/19/2015 11:57:...|     010XX E 79TH ST|143A|   WEAPONS VIOLATION|UNLAWFUL POSS OF ...|              STREET|  true|   false| 624|       6|   8|            44|      15|     1184626|     1852799|2015|05/26/2015 12:42:...|41.751242944|-87.599004724|(41.751242944, -8...|\n",
      "|10078598|   HY267408|05/19/2015 11:50:...| 067XX N SHERIDAN RD|3731|INTERFERENCE WITH...|OBSTRUCTING IDENT...|              STREET|  true|   false|2432|      24|  49|             1|      24|     1167071|     1944859|2015|05/26/2015 12:42:...|42.004255918|-87.660691083|(42.004255918, -8...|\n",
      "|10078625|   HY267417|05/19/2015 11:47:...|     026XX E 77TH ST|2170|           NARCOTICS|POSSESSION OF DRU...|              STREET|  true|   false| 421|       4|   7|            43|      18|     1195299|     1854463|2015|05/26/2015 12:42:...|41.755552462|-87.559839339|(41.755552462, -8...|\n",
      "|10078662|   HY267423|05/19/2015 11:46:...|     015XX E 62ND ST|051A|             ASSAULT| AGGRAVATED: HANDGUN|           APARTMENT| false|    true| 314|       3|   5|            42|     04A|     1187377|     1864316|2015|05/26/2015 12:42:...|41.782781732|-87.588558362|(41.782781732, -8...|\n",
      "|10078584|   HY267397|05/19/2015 11:45:...|054XX S PRINCETON...|4625|       OTHER OFFENSE|    PAROLE VIOLATION|         GAS STATION|  true|   false| 935|       9|   3|            37|      26|     1175180|     1868551|2015|05/26/2015 12:42:...|41.794684214|-87.633149481|(41.794684214, -8...|\n",
      "|10078629|   HY267393|05/19/2015 11:40:...|013XX S LAWNDALE AVE|0454|             BATTERY|AGG PO HANDS NO/M...|              STREET|  true|   false|1011|      10|  24|            29|     08B|     1151957|     1893696|2015|05/26/2015 12:42:...|41.864172884|-87.717647622|(41.864172884, -8...|\n",
      "|10079225|   HY267395|05/19/2015 11:30:...|   064XX S LAFLIN ST|0497|             BATTERY|AGGRAVATED DOMEST...|           APARTMENT| false|    true| 725|       7|  17|            67|     04B|     1167397|     1862229|2015|05/26/2015 12:42:...|41.777506284|-87.661870632|(41.777506284, -8...|\n",
      "|10078594|   HY267388|05/19/2015 11:30:...|   021XX W NORTH AVE|1305|     CRIMINAL DAMAGE| CRIMINAL DEFACEMENT|            SIDEWALK|  true|   false|1434|      14|  32|            24|      14|     1162022|     1910669|2015|05/26/2015 12:42:...|  41.9105442|-87.680225036|(41.9105442, -87....|\n",
      "|10080768|   HY269123|05/19/2015 11:30:...| 008XX N KILDARE AVE|0820|               THEFT|      $500 AND UNDER|           RESIDENCE| false|   false|1111|      11|  37|            23|      06|     1147592|     1905491|2015|05/26/2015 12:42:...|41.896624505|-87.733368852|(41.896624505, -8...|\n",
      "+--------+-----------+--------------------+--------------------+----+--------------------+--------------------+--------------------+------+--------+----+--------+----+--------------+--------+------------+------------+----+--------------------+------------+-------------+--------------------+\n",
      "\n"
     ]
    }
   ],
   "source": [
    "crime = sqlContext.read.format('com.databricks.spark.csv').options(header='true',inferschema='true').load('/Users/inshique/Dropbox/Classes/3_Spring_2017/431_Hadoop_by_Diego/Homework/hw4 spark/data/crimeSample.csv')\n",
    "crime.show()"
   ]
  },
  {
   "cell_type": "code",
   "execution_count": 40,
   "metadata": {
    "collapsed": false
   },
   "outputs": [
    {
     "data": {
      "text/html": [
       "<div>\n",
       "<table border=\"1\" class=\"dataframe\">\n",
       "  <thead>\n",
       "    <tr style=\"text-align: right;\">\n",
       "      <th></th>\n",
       "      <th>ID</th>\n",
       "      <th>Case Number</th>\n",
       "      <th>Date</th>\n",
       "      <th>Block</th>\n",
       "      <th>IUCR</th>\n",
       "      <th>Primary Type</th>\n",
       "      <th>Description</th>\n",
       "      <th>Location Description</th>\n",
       "      <th>Arrest</th>\n",
       "      <th>Domestic</th>\n",
       "      <th>...</th>\n",
       "      <th>Ward</th>\n",
       "      <th>Community Area</th>\n",
       "      <th>FBI Code</th>\n",
       "      <th>X Coordinate</th>\n",
       "      <th>Y Coordinate</th>\n",
       "      <th>Year</th>\n",
       "      <th>Updated On</th>\n",
       "      <th>Latitude</th>\n",
       "      <th>Longitude</th>\n",
       "      <th>Location</th>\n",
       "    </tr>\n",
       "  </thead>\n",
       "  <tbody>\n",
       "    <tr>\n",
       "      <th>0</th>\n",
       "      <td>10078659</td>\n",
       "      <td>HY267429</td>\n",
       "      <td>05/19/2015 11:57:00 PM</td>\n",
       "      <td>010XX E 79TH ST</td>\n",
       "      <td>143A</td>\n",
       "      <td>WEAPONS VIOLATION</td>\n",
       "      <td>UNLAWFUL POSS OF HANDGUN</td>\n",
       "      <td>STREET</td>\n",
       "      <td>True</td>\n",
       "      <td>False</td>\n",
       "      <td>...</td>\n",
       "      <td>8</td>\n",
       "      <td>44</td>\n",
       "      <td>15</td>\n",
       "      <td>1184626</td>\n",
       "      <td>1852799</td>\n",
       "      <td>2015</td>\n",
       "      <td>05/26/2015 12:42:06 PM</td>\n",
       "      <td>41.751243</td>\n",
       "      <td>-87.599005</td>\n",
       "      <td>(41.751242944, -87.599004724)</td>\n",
       "    </tr>\n",
       "    <tr>\n",
       "      <th>1</th>\n",
       "      <td>10078598</td>\n",
       "      <td>HY267408</td>\n",
       "      <td>05/19/2015 11:50:00 PM</td>\n",
       "      <td>067XX N SHERIDAN RD</td>\n",
       "      <td>3731</td>\n",
       "      <td>INTERFERENCE WITH PUBLIC OFFICER</td>\n",
       "      <td>OBSTRUCTING IDENTIFICATION</td>\n",
       "      <td>STREET</td>\n",
       "      <td>True</td>\n",
       "      <td>False</td>\n",
       "      <td>...</td>\n",
       "      <td>49</td>\n",
       "      <td>1</td>\n",
       "      <td>24</td>\n",
       "      <td>1167071</td>\n",
       "      <td>1944859</td>\n",
       "      <td>2015</td>\n",
       "      <td>05/26/2015 12:42:06 PM</td>\n",
       "      <td>42.004256</td>\n",
       "      <td>-87.660691</td>\n",
       "      <td>(42.004255918, -87.660691083)</td>\n",
       "    </tr>\n",
       "    <tr>\n",
       "      <th>2</th>\n",
       "      <td>10078625</td>\n",
       "      <td>HY267417</td>\n",
       "      <td>05/19/2015 11:47:00 PM</td>\n",
       "      <td>026XX E 77TH ST</td>\n",
       "      <td>2170</td>\n",
       "      <td>NARCOTICS</td>\n",
       "      <td>POSSESSION OF DRUG EQUIPMENT</td>\n",
       "      <td>STREET</td>\n",
       "      <td>True</td>\n",
       "      <td>False</td>\n",
       "      <td>...</td>\n",
       "      <td>7</td>\n",
       "      <td>43</td>\n",
       "      <td>18</td>\n",
       "      <td>1195299</td>\n",
       "      <td>1854463</td>\n",
       "      <td>2015</td>\n",
       "      <td>05/26/2015 12:42:06 PM</td>\n",
       "      <td>41.755552</td>\n",
       "      <td>-87.559839</td>\n",
       "      <td>(41.755552462, -87.559839339)</td>\n",
       "    </tr>\n",
       "    <tr>\n",
       "      <th>3</th>\n",
       "      <td>10078662</td>\n",
       "      <td>HY267423</td>\n",
       "      <td>05/19/2015 11:46:00 PM</td>\n",
       "      <td>015XX E 62ND ST</td>\n",
       "      <td>051A</td>\n",
       "      <td>ASSAULT</td>\n",
       "      <td>AGGRAVATED: HANDGUN</td>\n",
       "      <td>APARTMENT</td>\n",
       "      <td>False</td>\n",
       "      <td>True</td>\n",
       "      <td>...</td>\n",
       "      <td>5</td>\n",
       "      <td>42</td>\n",
       "      <td>04A</td>\n",
       "      <td>1187377</td>\n",
       "      <td>1864316</td>\n",
       "      <td>2015</td>\n",
       "      <td>05/26/2015 12:42:06 PM</td>\n",
       "      <td>41.782782</td>\n",
       "      <td>-87.588558</td>\n",
       "      <td>(41.782781732, -87.588558362)</td>\n",
       "    </tr>\n",
       "    <tr>\n",
       "      <th>4</th>\n",
       "      <td>10078584</td>\n",
       "      <td>HY267397</td>\n",
       "      <td>05/19/2015 11:45:00 PM</td>\n",
       "      <td>054XX S PRINCETON AVE</td>\n",
       "      <td>4625</td>\n",
       "      <td>OTHER OFFENSE</td>\n",
       "      <td>PAROLE VIOLATION</td>\n",
       "      <td>GAS STATION</td>\n",
       "      <td>True</td>\n",
       "      <td>False</td>\n",
       "      <td>...</td>\n",
       "      <td>3</td>\n",
       "      <td>37</td>\n",
       "      <td>26</td>\n",
       "      <td>1175180</td>\n",
       "      <td>1868551</td>\n",
       "      <td>2015</td>\n",
       "      <td>05/26/2015 12:42:06 PM</td>\n",
       "      <td>41.794684</td>\n",
       "      <td>-87.633149</td>\n",
       "      <td>(41.794684214, -87.633149481)</td>\n",
       "    </tr>\n",
       "  </tbody>\n",
       "</table>\n",
       "<p>5 rows × 22 columns</p>\n",
       "</div>"
      ],
      "text/plain": [
       "         ID Case Number                    Date                  Block  IUCR  \\\n",
       "0  10078659    HY267429  05/19/2015 11:57:00 PM        010XX E 79TH ST  143A   \n",
       "1  10078598    HY267408  05/19/2015 11:50:00 PM    067XX N SHERIDAN RD  3731   \n",
       "2  10078625    HY267417  05/19/2015 11:47:00 PM        026XX E 77TH ST  2170   \n",
       "3  10078662    HY267423  05/19/2015 11:46:00 PM        015XX E 62ND ST  051A   \n",
       "4  10078584    HY267397  05/19/2015 11:45:00 PM  054XX S PRINCETON AVE  4625   \n",
       "\n",
       "                       Primary Type                   Description  \\\n",
       "0                 WEAPONS VIOLATION      UNLAWFUL POSS OF HANDGUN   \n",
       "1  INTERFERENCE WITH PUBLIC OFFICER    OBSTRUCTING IDENTIFICATION   \n",
       "2                         NARCOTICS  POSSESSION OF DRUG EQUIPMENT   \n",
       "3                           ASSAULT           AGGRAVATED: HANDGUN   \n",
       "4                     OTHER OFFENSE              PAROLE VIOLATION   \n",
       "\n",
       "  Location Description Arrest Domestic              ...                Ward  \\\n",
       "0               STREET   True    False              ...                   8   \n",
       "1               STREET   True    False              ...                  49   \n",
       "2               STREET   True    False              ...                   7   \n",
       "3            APARTMENT  False     True              ...                   5   \n",
       "4          GAS STATION   True    False              ...                   3   \n",
       "\n",
       "   Community Area  FBI Code  X Coordinate Y Coordinate  Year  \\\n",
       "0              44        15       1184626      1852799  2015   \n",
       "1               1        24       1167071      1944859  2015   \n",
       "2              43        18       1195299      1854463  2015   \n",
       "3              42       04A       1187377      1864316  2015   \n",
       "4              37        26       1175180      1868551  2015   \n",
       "\n",
       "               Updated On   Latitude  Longitude                       Location  \n",
       "0  05/26/2015 12:42:06 PM  41.751243 -87.599005  (41.751242944, -87.599004724)  \n",
       "1  05/26/2015 12:42:06 PM  42.004256 -87.660691  (42.004255918, -87.660691083)  \n",
       "2  05/26/2015 12:42:06 PM  41.755552 -87.559839  (41.755552462, -87.559839339)  \n",
       "3  05/26/2015 12:42:06 PM  41.782782 -87.588558  (41.782781732, -87.588558362)  \n",
       "4  05/26/2015 12:42:06 PM  41.794684 -87.633149  (41.794684214, -87.633149481)  \n",
       "\n",
       "[5 rows x 22 columns]"
      ]
     },
     "execution_count": 40,
     "metadata": {},
     "output_type": "execute_result"
    }
   ],
   "source": [
    "import pandas as pd \n",
    "\n",
    "crime_pd = pd.read_csv('/Users/inshique/Dropbox/Classes/3_Spring_2017/431_Hadoop_by_Diego/Homework/hw4 spark/data/crimeSample.csv')\n",
    "crime_pd.head()"
   ]
  },
  {
   "cell_type": "code",
   "execution_count": 36,
   "metadata": {
    "collapsed": false
   },
   "outputs": [
    {
     "data": {
      "text/plain": [
       "Index(['ID', 'Case Number', 'Date', 'Block', 'IUCR', 'Primary Type',\n",
       "       'Description', 'Location Description', 'Arrest', 'Domestic', 'Beat',\n",
       "       'District', 'Ward', 'Community Area', 'FBI Code', 'X Coordinate',\n",
       "       'Y Coordinate', 'Year', 'Updated On', 'Latitude', 'Longitude',\n",
       "       'Location'],\n",
       "      dtype='object')"
      ]
     },
     "execution_count": 36,
     "metadata": {},
     "output_type": "execute_result"
    }
   ],
   "source": [
    "crime_pd.columns"
   ]
  },
  {
   "cell_type": "markdown",
   "metadata": {},
   "source": [
    "### Example of using Spark SQL and Standard SQL"
   ]
  },
  {
   "cell_type": "code",
   "execution_count": 29,
   "metadata": {
    "collapsed": false
   },
   "outputs": [
    {
     "name": "stdout",
     "output_type": "stream",
     "text": [
      "+--------------------+---------+\n",
      "|               Block|avg(Ward)|\n",
      "+--------------------+---------+\n",
      "|     010XX E 79TH ST|      8.0|\n",
      "|013XX S LAWNDALE AVE|     24.0|\n",
      "| 008XX N KILDARE AVE|     37.0|\n",
      "|054XX S PRINCETON...|      3.0|\n",
      "|   021XX W NORTH AVE|     32.0|\n",
      "|     026XX E 77TH ST|      7.0|\n",
      "| 067XX N SHERIDAN RD|     49.0|\n",
      "|     015XX E 62ND ST|      5.0|\n",
      "|   064XX S LAFLIN ST|     17.0|\n",
      "+--------------------+---------+\n",
      "\n"
     ]
    }
   ],
   "source": [
    "# Spark SQL \n",
    "crime.groupBy(crime.Block).avg('Ward').show()"
   ]
  },
  {
   "cell_type": "code",
   "execution_count": 43,
   "metadata": {
    "collapsed": false
   },
   "outputs": [
    {
     "name": "stdout",
     "output_type": "stream",
     "text": [
      "+--------------------+---------+\n",
      "|               Block|avg(Ward)|\n",
      "+--------------------+---------+\n",
      "|     010XX E 79TH ST|      8.0|\n",
      "|013XX S LAWNDALE AVE|     24.0|\n",
      "| 008XX N KILDARE AVE|     37.0|\n",
      "|054XX S PRINCETON...|      3.0|\n",
      "|   021XX W NORTH AVE|     32.0|\n",
      "|     026XX E 77TH ST|      7.0|\n",
      "| 067XX N SHERIDAN RD|     49.0|\n",
      "|     015XX E 62ND ST|      5.0|\n",
      "|   064XX S LAFLIN ST|     17.0|\n",
      "+--------------------+---------+\n",
      "\n"
     ]
    }
   ],
   "source": [
    "# Standard SQL \n",
    "from pyspark.sql import SQLContext # not sure if this was necessary \n",
    "\n",
    "crime.registerTempTable(\"crimeTable\")\n",
    "sqlContext.sql(\"SELECT Block, AVG(Ward) FROM crimeTable GROUP BY Block\").show()"
   ]
  },
  {
   "cell_type": "markdown",
   "metadata": {},
   "source": [
    "### Feature Library"
   ]
  },
  {
   "cell_type": "code",
   "execution_count": null,
   "metadata": {
    "collapsed": true
   },
   "outputs": [],
   "source": [
    "from pyspark.ml.feature import StandardScaler\n",
    "from pyspark.ml.feature import VectorAssembler"
   ]
  },
  {
   "cell_type": "code",
   "execution_count": 44,
   "metadata": {
    "collapsed": false
   },
   "outputs": [
    {
     "name": "stdout",
     "output_type": "stream",
     "text": [
      "+-----+----+----+\n",
      "|label|   b|   c|\n",
      "+-----+----+----+\n",
      "|  1.0| 2.0| 3.0|\n",
      "| -2.0| 1.0|10.0|\n",
      "|  2.0|-9.0|10.0|\n",
      "+-----+----+----+\n",
      "\n"
     ]
    }
   ],
   "source": [
    "df = sqlContext.createDataFrame([(1.0,2.0,3.0),(-2.0,1.0,10.0),(2.0,-9.0,10.0)],['label','b','c'])\n",
    "df.show()"
   ]
  },
  {
   "cell_type": "code",
   "execution_count": 46,
   "metadata": {
    "collapsed": false
   },
   "outputs": [
    {
     "name": "stdout",
     "output_type": "stream",
     "text": [
      "+-----+----+----+-----------+\n",
      "|label|   b|   c|allFeatures|\n",
      "+-----+----+----+-----------+\n",
      "|  1.0| 2.0| 3.0|  [2.0,3.0]|\n",
      "| -2.0| 1.0|10.0| [1.0,10.0]|\n",
      "|  2.0|-9.0|10.0|[-9.0,10.0]|\n",
      "+-----+----+----+-----------+\n",
      "\n"
     ]
    }
   ],
   "source": [
    "from pyspark.ml.feature import VectorAssembler\n",
    "\n",
    "assembler = VectorAssembler(inputCols=['b','c'],outputCol='allFeatures')\n",
    "assembler.transform(df).show()"
   ]
  },
  {
   "cell_type": "code",
   "execution_count": 52,
   "metadata": {
    "collapsed": false
   },
   "outputs": [],
   "source": [
    "from pyspark.ml.feature import StandardScaler\n",
    "\n",
    "scaler = StandardScaler(inputCol='allFeatures',outputCol='features',withStd=True,withMean=False)\n",
    "scaler.t"
   ]
  },
  {
   "cell_type": "code",
   "execution_count": 51,
   "metadata": {
    "collapsed": false
   },
   "outputs": [
    {
     "name": "stdout",
     "output_type": "stream",
     "text": [
      "+-----+----+----+-----------+--------------------+\n",
      "|label|   b|   c|allFeatures|            features|\n",
      "+-----+----+----+-----------+--------------------+\n",
      "|  1.0| 2.0| 3.0|  [2.0,3.0]|[0.32879797461071...|\n",
      "| -2.0| 1.0|10.0| [1.0,10.0]|[0.16439898730535...|\n",
      "|  2.0|-9.0|10.0|[-9.0,10.0]|[-1.4795908857482...|\n",
      "+-----+----+----+-----------+--------------------+\n",
      "\n"
     ]
    }
   ],
   "source": [
    "from pyspark.ml import Pipeline\n",
    "\n",
    "pipeline = Pipeline(stages=[assembler,scaler])\n",
    "pipeline.fit(df)\n",
    "pipeline.fit(df).transform(df).show()"
   ]
  },
  {
   "cell_type": "code",
   "execution_count": 54,
   "metadata": {
    "collapsed": false
   },
   "outputs": [
    {
     "name": "stdout",
     "output_type": "stream",
     "text": [
      "+-----+----+----+-----------+--------------------+-------------------+\n",
      "|label|   b|   c|allFeatures|            features|         prediction|\n",
      "+-----+----+----+-----------+--------------------+-------------------+\n",
      "|  1.0| 2.0| 3.0|  [2.0,3.0]|[0.32879797461071...| 0.9999999999999969|\n",
      "| -2.0| 1.0|10.0| [1.0,10.0]|[0.16439898730535...|-1.9999999999999951|\n",
      "|  2.0|-9.0|10.0|[-9.0,10.0]|[-1.4795908857482...| 1.9999999999999987|\n",
      "+-----+----+----+-----------+--------------------+-------------------+\n",
      "\n"
     ]
    }
   ],
   "source": [
    "from pyspark.ml.regression import LinearRegression\n",
    "\n",
    "ols = LinearRegression(maxIter=10)\n",
    "pipeline = Pipeline(stages=[assembler,scaler,ols])\n",
    "pipeline.fit(df).transform(df).show()"
   ]
  }
 ],
 "metadata": {
  "kernelspec": {
   "display_name": "Python 3",
   "language": "python",
   "name": "python3"
  },
  "language_info": {
   "codemirror_mode": {
    "name": "ipython",
    "version": 3
   },
   "file_extension": ".py",
   "mimetype": "text/x-python",
   "name": "python",
   "nbconvert_exporter": "python",
   "pygments_lexer": "ipython3",
   "version": "3.6.0"
  }
 },
 "nbformat": 4,
 "nbformat_minor": 2
}
