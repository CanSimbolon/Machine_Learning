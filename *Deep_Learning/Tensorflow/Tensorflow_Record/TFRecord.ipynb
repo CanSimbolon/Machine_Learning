{
 "cells": [
  {
   "cell_type": "markdown",
   "metadata": {
    "toc": true
   },
   "source": [
    "<h1>Table of Contents<span class=\"tocSkip\"></span></h1>\n",
    "<div class=\"toc\"><ul class=\"toc-item\"><li><span><a href=\"#Structuring-TFRecords\" data-toc-modified-id=\"Structuring-TFRecords-1\"><span class=\"toc-item-num\">1&nbsp;&nbsp;</span>Structuring TFRecords</a></span></li><li><span><a href=\"#Movie-recommendations-using-tf.train.Example\" data-toc-modified-id=\"Movie-recommendations-using-tf.train.Example-2\"><span class=\"toc-item-num\">2&nbsp;&nbsp;</span>Movie recommendations using tf.train.Example</a></span><ul class=\"toc-item\"><li><span><a href=\"#tf.train.Feature\" data-toc-modified-id=\"tf.train.Feature-2.1\"><span class=\"toc-item-num\">2.1&nbsp;&nbsp;</span>tf.train.Feature</a></span></li><li><span><a href=\"#tf.train.Features\" data-toc-modified-id=\"tf.train.Features-2.2\"><span class=\"toc-item-num\">2.2&nbsp;&nbsp;</span>tf.train.Features</a></span></li><li><span><a href=\"#tf.train.Example\" data-toc-modified-id=\"tf.train.Example-2.3\"><span class=\"toc-item-num\">2.3&nbsp;&nbsp;</span>tf.train.Example</a></span></li><li><span><a href=\"#tf.python_io.TFRecordWriter\" data-toc-modified-id=\"tf.python_io.TFRecordWriter-2.4\"><span class=\"toc-item-num\">2.4&nbsp;&nbsp;</span>tf.python_io.TFRecordWriter</a></span></li><li><span><a href=\"#Final\" data-toc-modified-id=\"Final-2.5\"><span class=\"toc-item-num\">2.5&nbsp;&nbsp;</span>Final</a></span></li></ul></li><li><span><a href=\"#Movie-recommendations-using-tf.train.SequenceExample\" data-toc-modified-id=\"Movie-recommendations-using-tf.train.SequenceExample-3\"><span class=\"toc-item-num\">3&nbsp;&nbsp;</span>Movie recommendations using tf.train.SequenceExample</a></span></li></ul></div>"
   ]
  },
  {
   "cell_type": "markdown",
   "metadata": {},
   "source": [
    "# TFRecord \n",
    "\n",
    "Credit: https://medium.com/mostly-ai/tensorflow-records-what-they-are-and-how-to-use-them-c46bc4bbb564\n",
    "\n",
    "I am re-doing the examples provided in the link as an exercise."
   ]
  },
  {
   "cell_type": "code",
   "execution_count": 1,
   "metadata": {},
   "outputs": [
    {
     "name": "stderr",
     "output_type": "stream",
     "text": [
      "/Users/ijung/anaconda3/lib/python3.6/site-packages/h5py/__init__.py:36: FutureWarning: Conversion of the second argument of issubdtype from `float` to `np.floating` is deprecated. In future, it will be treated as `np.float64 == np.dtype(float).type`.\n",
      "  from ._conv import register_converters as _register_converters\n"
     ]
    }
   ],
   "source": [
    "import tensorflow as tf"
   ]
  },
  {
   "cell_type": "markdown",
   "metadata": {},
   "source": [
    "## Structuring TFRecords\n",
    "\n",
    "A TFRecord file stores your data as a sequence of binary strings. This means you need to specify the structure of your data before you write it to the file. \n",
    "\n",
    "Tensorflow provides two components for this purpose: \n",
    "1. `tf.train.Examples` \n",
    "2. `tf.train.SequenceExample` \n",
    "\n",
    "You have to store each sample of your data in one of these structures, then serialize it and use a `tf.python_io.TFRecordWriter` to write it to disk."
   ]
  },
  {
   "cell_type": "markdown",
   "metadata": {},
   "source": [
    "## Movie recommendations using tf.train.Example\n",
    "\n",
    "If your dataset consist of features, where each feature is a list of values of the same type, tf.train.Example is the right component to use.\n",
    "\n",
    "1. `tf.train.BytesList`\n",
    "2. `tf.train.FloatList`\n",
    "3. `tf.train.Int64List` \n",
    "\n",
    "are at the core of a `tf.train.Feature`. All three have a single attribute value, which expects a list of respective bytes, float, and int.\n",
    "\n",
    "Python strings need to be converted to bytes, (e.g. my_string.encode(‘utf-8’)) before they are stored in a tf.train.BytesList."
   ]
  },
  {
   "cell_type": "code",
   "execution_count": 14,
   "metadata": {},
   "outputs": [
    {
     "name": "stdout",
     "output_type": "stream",
     "text": [
      "value: \"The Shawshank Redemption\"\n",
      "value: \"Fight Club\"\n",
      "\n",
      "value: 9.0\n",
      "value: 9.699999809265137\n",
      "\n"
     ]
    }
   ],
   "source": [
    "movie_name_list = tf.train.BytesList(value=[b'The Shawshank Redemption', b'Fight Club'])\n",
    "movie_rating_list = tf.train.FloatList(value=[9.0, 9.7])\n",
    "\n",
    "print(movie_name_list)\n",
    "print(movie_rating_list)"
   ]
  },
  {
   "cell_type": "markdown",
   "metadata": {},
   "source": [
    "### tf.train.Feature\n",
    "\n",
    "`tf.train.Feature` wraps a list of data of a specific type so Tensorflow can understand it. It has a single attribute, which is a union of bytes_list/float_list/int64_list. "
   ]
  },
  {
   "cell_type": "code",
   "execution_count": 15,
   "metadata": {},
   "outputs": [
    {
     "name": "stdout",
     "output_type": "stream",
     "text": [
      "bytes_list {\n",
      "  value: \"The Shawshank Redemption\"\n",
      "  value: \"Fight Club\"\n",
      "}\n",
      "\n",
      "float_list {\n",
      "  value: 9.0\n",
      "  value: 9.699999809265137\n",
      "}\n",
      "\n"
     ]
    }
   ],
   "source": [
    "movie_names = tf.train.Feature(bytes_list=movie_name_list)\n",
    "movie_ratings = tf.train.Feature(float_list=movie_rating_list)\n",
    "\n",
    "print(movie_names)\n",
    "print(movie_ratings)"
   ]
  },
  {
   "cell_type": "markdown",
   "metadata": {},
   "source": [
    "### tf.train.Features\n",
    "\n",
    "`tf.train.Features` is a collection of named features. It has a single attribute feature that expects a **dictionary** where the **key is the name of the features** and the value a tf.train.Feature."
   ]
  },
  {
   "cell_type": "code",
   "execution_count": 16,
   "metadata": {},
   "outputs": [
    {
     "name": "stdout",
     "output_type": "stream",
     "text": [
      "feature {\n",
      "  key: \"Movie Names\"\n",
      "  value {\n",
      "    bytes_list {\n",
      "      value: \"The Shawshank Redemption\"\n",
      "      value: \"Fight Club\"\n",
      "    }\n",
      "  }\n",
      "}\n",
      "feature {\n",
      "  key: \"Movie Ratings\"\n",
      "  value {\n",
      "    float_list {\n",
      "      value: 9.0\n",
      "      value: 9.699999809265137\n",
      "    }\n",
      "  }\n",
      "}\n",
      "\n"
     ]
    }
   ],
   "source": [
    "movie_dict = {\n",
    "  'Movie Names': movie_names,\n",
    "  'Movie Ratings': movie_ratings\n",
    "}\n",
    "movies = tf.train.Features(feature=movie_dict)\n",
    "\n",
    "print(movies)"
   ]
  },
  {
   "cell_type": "markdown",
   "metadata": {},
   "source": [
    "### tf.train.Example\n",
    "\n",
    "`tf.train.Example` is one of the main components for structuring a TFRecord. An `tf.train.Example` **stores features in a single attribute features** of type `tf.train.Features`.\n"
   ]
  },
  {
   "cell_type": "code",
   "execution_count": 17,
   "metadata": {},
   "outputs": [
    {
     "name": "stdout",
     "output_type": "stream",
     "text": [
      "features {\n",
      "  feature {\n",
      "    key: \"Movie Names\"\n",
      "    value {\n",
      "      bytes_list {\n",
      "        value: \"The Shawshank Redemption\"\n",
      "        value: \"Fight Club\"\n",
      "      }\n",
      "    }\n",
      "  }\n",
      "  feature {\n",
      "    key: \"Movie Ratings\"\n",
      "    value {\n",
      "      float_list {\n",
      "        value: 9.0\n",
      "        value: 9.699999809265137\n",
      "      }\n",
      "    }\n",
      "  }\n",
      "}\n",
      "\n"
     ]
    }
   ],
   "source": [
    "example = tf.train.Example(features=movies)\n",
    "print(example)"
   ]
  },
  {
   "cell_type": "markdown",
   "metadata": {},
   "source": [
    "###  tf.python_io.TFRecordWriter\n",
    "\n",
    "In contrast to the previous components, tf.python_io.TFRecordWriter actually is a Python class. It accepts a file path in its path attribute and creates a writer object that works just like any other file object. The TFRecordWriter class offers write, flush and close methods. The method write accepts a string as parameter and writes it to disk, meaning that structured data must be serialized first. To this end, tf.train.Example and tf.train.SequenceExample provide SerializeToString methods.\n",
    "\n",
    "In our example, each TFRecord represents the movie ratings and corresponding suggestions of a single user (a single sample)."
   ]
  },
  {
   "cell_type": "code",
   "execution_count": 18,
   "metadata": {},
   "outputs": [],
   "source": [
    "# \"example\" is of type tf.train.Example.\n",
    "with tf.python_io.TFRecordWriter('movie_ratings.tfrecord') as writer:\n",
    "  writer.write(example.SerializeToString())"
   ]
  },
  {
   "cell_type": "markdown",
   "metadata": {},
   "source": [
    "### Final\n",
    "\n",
    "Here’s a complete example that writes the features to a TFRecord file, then reads the file back in and prints the parsed features."
   ]
  },
  {
   "cell_type": "code",
   "execution_count": 8,
   "metadata": {},
   "outputs": [
    {
     "name": "stdout",
     "output_type": "stream",
     "text": [
      "{'Age': 29, 'Movie': ['The Shawshank Redemption', 'Fight Club'], 'Movie Ratings': [9.0, 9.7], 'Suggestion': 'Inception', 'Suggestion Purchased': 1.0, 'Purchase Price': 9.99}\n"
     ]
    }
   ],
   "source": [
    "# Create example data\n",
    "data = {\n",
    "    'Age': 29,\n",
    "    'Movie': ['The Shawshank Redemption', 'Fight Club'],\n",
    "    'Movie Ratings': [9.0, 9.7],\n",
    "    'Suggestion': 'Inception',\n",
    "    'Suggestion Purchased': 1.0,\n",
    "    'Purchase Price': 9.99\n",
    "}\n",
    "\n",
    "print(data)"
   ]
  },
  {
   "cell_type": "code",
   "execution_count": 9,
   "metadata": {
    "scrolled": false
   },
   "outputs": [
    {
     "name": "stdout",
     "output_type": "stream",
     "text": [
      "features {\n",
      "  feature {\n",
      "    key: \"Age\"\n",
      "    value {\n",
      "      int64_list {\n",
      "        value: 29\n",
      "      }\n",
      "    }\n",
      "  }\n",
      "  feature {\n",
      "    key: \"Movie\"\n",
      "    value {\n",
      "      bytes_list {\n",
      "        value: \"The Shawshank Redemption\"\n",
      "        value: \"Fight Club\"\n",
      "      }\n",
      "    }\n",
      "  }\n",
      "  feature {\n",
      "    key: \"Movie Ratings\"\n",
      "    value {\n",
      "      float_list {\n",
      "        value: 9.0\n",
      "        value: 9.699999809265137\n",
      "      }\n",
      "    }\n",
      "  }\n",
      "  feature {\n",
      "    key: \"Purchase Price\"\n",
      "    value {\n",
      "      float_list {\n",
      "        value: 9.989999771118164\n",
      "      }\n",
      "    }\n",
      "  }\n",
      "  feature {\n",
      "    key: \"Suggestion\"\n",
      "    value {\n",
      "      bytes_list {\n",
      "        value: \"Inception\"\n",
      "      }\n",
      "    }\n",
      "  }\n",
      "  feature {\n",
      "    key: \"Suggestion Purchased\"\n",
      "    value {\n",
      "      float_list {\n",
      "        value: 1.0\n",
      "      }\n",
      "    }\n",
      "  }\n",
      "}\n",
      "\n"
     ]
    }
   ],
   "source": [
    "# Create the Example\n",
    "example = tf.train.Example(features=tf.train.Features(feature={\n",
    "    'Age': tf.train.Feature(\n",
    "        int64_list=tf.train.Int64List(value=[data['Age']])),\n",
    "    'Movie': tf.train.Feature(\n",
    "        bytes_list=tf.train.BytesList(\n",
    "            value=[m.encode('utf-8') for m in data['Movie']])),\n",
    "    'Movie Ratings': tf.train.Feature(\n",
    "        float_list=tf.train.FloatList(value=data['Movie Ratings'])),\n",
    "    'Suggestion': tf.train.Feature(\n",
    "        bytes_list=tf.train.BytesList(\n",
    "            value=[data['Suggestion'].encode('utf-8')])),\n",
    "    'Suggestion Purchased': tf.train.Feature(\n",
    "        float_list=tf.train.FloatList(\n",
    "            value=[data['Suggestion Purchased']])),\n",
    "    'Purchase Price': tf.train.Feature(\n",
    "        float_list=tf.train.FloatList(value=[data['Purchase Price']]))\n",
    "}))\n",
    "\n",
    "print(example)"
   ]
  },
  {
   "cell_type": "code",
   "execution_count": 11,
   "metadata": {},
   "outputs": [],
   "source": [
    "# Write TFrecord file\n",
    "with tf.python_io.TFRecordWriter('customer_1.tfrecord') as writer:\n",
    "    writer.write(example.SerializeToString())"
   ]
  },
  {
   "cell_type": "code",
   "execution_count": 12,
   "metadata": {},
   "outputs": [
    {
     "name": "stdout",
     "output_type": "stream",
     "text": [
      "Movie: SparseTensorValue(indices=array([[0],\n",
      "       [1]]), values=array([b'The Shawshank Redemption', b'Fight Club'], dtype=object), dense_shape=array([2]))\n",
      "Movie Ratings: SparseTensorValue(indices=array([[0],\n",
      "       [1]]), values=array([9. , 9.7], dtype=float32), dense_shape=array([2]))\n",
      "Age: 29\n",
      "Purchase Price: 9.989999771118164\n",
      "Suggestion: b'Inception'\n",
      "Suggestion Purchased: 1.0\n"
     ]
    }
   ],
   "source": [
    "# Read and print data:\n",
    "sess = tf.InteractiveSession()\n",
    "\n",
    "# Read TFRecord file\n",
    "reader = tf.TFRecordReader()\n",
    "filename_queue = tf.train.string_input_producer(['customer_1.tfrecord'])\n",
    "\n",
    "_, serialized_example = reader.read(filename_queue)\n",
    "\n",
    "# Define features\n",
    "read_features = {\n",
    "    'Age': tf.FixedLenFeature([], dtype=tf.int64),\n",
    "    'Movie': tf.VarLenFeature(dtype=tf.string),\n",
    "    'Movie Ratings': tf.VarLenFeature(dtype=tf.float32),\n",
    "    'Suggestion': tf.FixedLenFeature([], dtype=tf.string),\n",
    "    'Suggestion Purchased': tf.FixedLenFeature([], dtype=tf.float32),\n",
    "    'Purchase Price': tf.FixedLenFeature([], dtype=tf.float32)}\n",
    "\n",
    "# Extract features from serialized data\n",
    "read_data = tf.parse_single_example(serialized=serialized_example,\n",
    "                                    features=read_features)\n",
    "\n",
    "# Many tf.train functions use tf.train.QueueRunner,\n",
    "# so we need to start it before we read\n",
    "tf.train.start_queue_runners(sess)\n",
    "\n",
    "# Print features\n",
    "for name, tensor in read_data.items():\n",
    "    print('{}: {}'.format(name, tensor.eval()))"
   ]
  },
  {
   "cell_type": "markdown",
   "metadata": {},
   "source": [
    "## Movie recommendations using tf.train.SequenceExample\n",
    "\n",
    "TBC."
   ]
  },
  {
   "cell_type": "code",
   "execution_count": null,
   "metadata": {},
   "outputs": [],
   "source": []
  }
 ],
 "metadata": {
  "kernelspec": {
   "display_name": "Python 3",
   "language": "python",
   "name": "python3"
  },
  "language_info": {
   "codemirror_mode": {
    "name": "ipython",
    "version": 3
   },
   "file_extension": ".py",
   "mimetype": "text/x-python",
   "name": "python",
   "nbconvert_exporter": "python",
   "pygments_lexer": "ipython3",
   "version": "3.6.5"
  },
  "toc": {
   "nav_menu": {},
   "number_sections": true,
   "sideBar": true,
   "skip_h1_title": true,
   "title_cell": "Table of Contents",
   "title_sidebar": "Contents",
   "toc_cell": true,
   "toc_position": {},
   "toc_section_display": true,
   "toc_window_display": true
  }
 },
 "nbformat": 4,
 "nbformat_minor": 2
}
