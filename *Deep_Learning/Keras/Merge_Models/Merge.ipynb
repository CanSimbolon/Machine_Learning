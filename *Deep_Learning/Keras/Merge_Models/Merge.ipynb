{
 "cells": [
  {
   "cell_type": "markdown",
   "metadata": {
    "toc": true
   },
   "source": [
    "<h1>Table of Contents<span class=\"tocSkip\"></span></h1>\n",
    "<div class=\"toc\"><ul class=\"toc-item\"><li><span><a href=\"#Dataset\" data-toc-modified-id=\"Dataset-1\"><span class=\"toc-item-num\">1&nbsp;&nbsp;</span>Dataset</a></span></li><li><span><a href=\"#Numerical-Model\" data-toc-modified-id=\"Numerical-Model-2\"><span class=\"toc-item-num\">2&nbsp;&nbsp;</span>Numerical Model</a></span></li><li><span><a href=\"#LSTM-Model\" data-toc-modified-id=\"LSTM-Model-3\"><span class=\"toc-item-num\">3&nbsp;&nbsp;</span>LSTM Model</a></span></li><li><span><a href=\"#Merge\" data-toc-modified-id=\"Merge-4\"><span class=\"toc-item-num\">4&nbsp;&nbsp;</span>Merge</a></span></li><li><span><a href=\"#Plot\" data-toc-modified-id=\"Plot-5\"><span class=\"toc-item-num\">5&nbsp;&nbsp;</span>Plot</a></span></li></ul></div>"
   ]
  },
  {
   "cell_type": "markdown",
   "metadata": {},
   "source": [
    "# Merge\n",
    "\n",
    "How to merge multiple models \n",
    "\n",
    "*Note: Merge function has been deprecated since Keras Vers 2.2.0*\n",
    "\n",
    "- https://github.com/keras-team/keras/issues/7417\n"
   ]
  },
  {
   "cell_type": "code",
   "execution_count": 22,
   "metadata": {},
   "outputs": [
    {
     "name": "stdout",
     "output_type": "stream",
     "text": [
      "2.2.0\n",
      "done\n"
     ]
    }
   ],
   "source": [
    "import keras \n",
    "# from numpy import array\n",
    "import numpy as np \n",
    "from keras.preprocessing.sequence import pad_sequences\n",
    "from keras.models import Sequential\n",
    "from keras.layers import Flatten\n",
    "from keras.layers.embeddings import Embedding\n",
    "from keras.preprocessing.text import Tokenizer\n",
    "from keras.layers import LSTM\n",
    "from keras.layers import Dense, Dropout, BatchNormalization\n",
    "from keras.layers.merge import Concatenate, Add\n",
    "print(keras.__version__)\n",
    "\n",
    "print('done')"
   ]
  },
  {
   "cell_type": "markdown",
   "metadata": {},
   "source": [
    "## Dataset"
   ]
  },
  {
   "cell_type": "code",
   "execution_count": 2,
   "metadata": {},
   "outputs": [
    {
     "name": "stdout",
     "output_type": "stream",
     "text": [
      "10\n"
     ]
    }
   ],
   "source": [
    "# define documents\n",
    "docs = ['Well done!',\n",
    "        'Good work',\n",
    "        'Great effort',\n",
    "        'nice work',\n",
    "        'Excellent!',\n",
    "        'Weak',\n",
    "        'Poor effort!',\n",
    "        'not good',\n",
    "        'poor work',\n",
    "        'Could have done better.']\n",
    "\n",
    "# numerical feature \n",
    "feature = [45,332,35,325,36,-34,5,-344,-11,-644]\n",
    "\n",
    "# define class labels\n",
    "labels = np.array([1,1,1,1,1,0,0,0,0,0])\n",
    "\n",
    "print(len(labels))"
   ]
  },
  {
   "cell_type": "markdown",
   "metadata": {},
   "source": [
    "## Numerical Model"
   ]
  },
  {
   "cell_type": "code",
   "execution_count": 3,
   "metadata": {},
   "outputs": [
    {
     "name": "stdout",
     "output_type": "stream",
     "text": [
      "_________________________________________________________________\n",
      "Layer (type)                 Output Shape              Param #   \n",
      "=================================================================\n",
      "dense_1 (Dense)              (None, 16)                32        \n",
      "_________________________________________________________________\n",
      "dense_2 (Dense)              (None, 16)                272       \n",
      "_________________________________________________________________\n",
      "dense_3 (Dense)              (None, 1)                 17        \n",
      "=================================================================\n",
      "Total params: 321\n",
      "Trainable params: 321\n",
      "Non-trainable params: 0\n",
      "_________________________________________________________________\n",
      "Epoch 1/5\n",
      "10/10 [==============================] - 0s 20ms/step - loss: 3.6234 - acc: 0.5000\n",
      "Epoch 2/5\n",
      "10/10 [==============================] - 0s 138us/step - loss: 3.3093 - acc: 0.5000\n",
      "Epoch 3/5\n",
      "10/10 [==============================] - 0s 157us/step - loss: 2.9960 - acc: 0.5000\n",
      "Epoch 4/5\n",
      "10/10 [==============================] - 0s 122us/step - loss: 2.3566 - acc: 0.5000\n",
      "Epoch 5/5\n",
      "10/10 [==============================] - 0s 141us/step - loss: 1.4500 - acc: 0.5000\n",
      "10/10 [==============================] - 0s 3ms/step\n",
      "Accuracy: 0.5\n"
     ]
    }
   ],
   "source": [
    "model = Sequential()\n",
    "model.add(Dense(16, activation='relu', input_shape=(1,)))\n",
    "model.add(Dense(16, activation='relu'))\n",
    "model.add(Dense(1, activation='sigmoid'))\n",
    "model.compile(loss='binary_crossentropy', optimizer='adam', metrics=['accuracy'])\n",
    "model.summary()\n",
    "model.fit(feature, labels,\n",
    "            epochs=5,\n",
    "            verbose=1\n",
    "           )\n",
    "score = model.evaluate(feature, labels, verbose=1)\n",
    "print('Accuracy:', score[1])"
   ]
  },
  {
   "cell_type": "markdown",
   "metadata": {},
   "source": [
    "## LSTM Model"
   ]
  },
  {
   "cell_type": "code",
   "execution_count": 4,
   "metadata": {},
   "outputs": [
    {
     "name": "stdout",
     "output_type": "stream",
     "text": [
      "[[6, 2], [3, 1], [7, 4], [8, 1], [9], [10], [5, 4], [11, 3], [5, 1], [12, 13, 2, 14]]\n"
     ]
    }
   ],
   "source": [
    "t = Tokenizer()\n",
    "t.fit_on_texts(docs)\n",
    "vocab_size = len(t.word_index) + 1\n",
    "\n",
    "# integer encode the documents\n",
    "encoded_docs = t.texts_to_sequences(docs)\n",
    "print(encoded_docs[:10])"
   ]
  },
  {
   "cell_type": "code",
   "execution_count": 5,
   "metadata": {},
   "outputs": [
    {
     "name": "stdout",
     "output_type": "stream",
     "text": [
      "[[ 6  2  0  0]\n",
      " [ 3  1  0  0]\n",
      " [ 7  4  0  0]\n",
      " [ 8  1  0  0]\n",
      " [ 9  0  0  0]\n",
      " [10  0  0  0]\n",
      " [ 5  4  0  0]\n",
      " [11  3  0  0]\n",
      " [ 5  1  0  0]\n",
      " [12 13  2 14]]\n"
     ]
    }
   ],
   "source": [
    "# pad documents to a max length of 4 words\n",
    "max_length = 4\n",
    "padded_docs = pad_sequences(encoded_docs, maxlen=max_length, padding='post')\n",
    "print(padded_docs)"
   ]
  },
  {
   "cell_type": "code",
   "execution_count": 6,
   "metadata": {},
   "outputs": [],
   "source": [
    "train_lstm = padded_docs.reshape(-1,4,1)"
   ]
  },
  {
   "cell_type": "code",
   "execution_count": 7,
   "metadata": {},
   "outputs": [
    {
     "name": "stdout",
     "output_type": "stream",
     "text": [
      "_________________________________________________________________\n",
      "Layer (type)                 Output Shape              Param #   \n",
      "=================================================================\n",
      "lstm_1 (LSTM)                (None, 16)                1152      \n",
      "_________________________________________________________________\n",
      "dense_4 (Dense)              (None, 1)                 17        \n",
      "=================================================================\n",
      "Total params: 1,169\n",
      "Trainable params: 1,169\n",
      "Non-trainable params: 0\n",
      "_________________________________________________________________\n",
      "None\n",
      "Epoch 1/5\n",
      "10/10 [==============================] - 1s 53ms/step - loss: 0.6824 - acc: 0.5000\n",
      "Epoch 2/5\n",
      "10/10 [==============================] - 0s 467us/step - loss: 0.6807 - acc: 0.5000\n",
      "Epoch 3/5\n",
      "10/10 [==============================] - 0s 469us/step - loss: 0.6785 - acc: 0.5000\n",
      "Epoch 4/5\n",
      "10/10 [==============================] - 0s 522us/step - loss: 0.6764 - acc: 0.5000\n",
      "Epoch 5/5\n",
      "10/10 [==============================] - 0s 462us/step - loss: 0.6745 - acc: 0.5000\n",
      "10/10 [==============================] - 0s 9ms/step\n",
      "Accuracy: 50.000000\n"
     ]
    }
   ],
   "source": [
    "model2 = Sequential()\n",
    "model2.add(LSTM(16, input_shape=(4,1), return_sequences=False))\n",
    "\n",
    "model2.add(Dense(1, activation='sigmoid'))\n",
    "model2.compile(loss='binary_crossentropy', \n",
    "              optimizer='adam', \n",
    "              metrics=['accuracy'])\n",
    "\n",
    "print(model2.summary())\n",
    "\n",
    "model2.fit(train_lstm, labels, \n",
    "            epochs=5,\n",
    "            verbose=1)\n",
    "\n",
    "loss, accuracy = model2.evaluate(train_lstm, labels, verbose=1)\n",
    "print('Accuracy: %f' % (accuracy*100))"
   ]
  },
  {
   "cell_type": "markdown",
   "metadata": {},
   "source": [
    "## Merge"
   ]
  },
  {
   "cell_type": "code",
   "execution_count": 20,
   "metadata": {},
   "outputs": [
    {
     "name": "stdout",
     "output_type": "stream",
     "text": [
      "__________________________________________________________________________________________________\n",
      "Layer (type)                    Output Shape         Param #     Connected to                     \n",
      "==================================================================================================\n",
      "dense_1_input (InputLayer)      (None, 1)            0                                            \n",
      "__________________________________________________________________________________________________\n",
      "dense_1 (Dense)                 (None, 16)           32          dense_1_input[0][0]              \n",
      "__________________________________________________________________________________________________\n",
      "lstm_1_input (InputLayer)       (None, 4, 1)         0                                            \n",
      "__________________________________________________________________________________________________\n",
      "dense_2 (Dense)                 (None, 16)           272         dense_1[0][0]                    \n",
      "__________________________________________________________________________________________________\n",
      "lstm_1 (LSTM)                   (None, 16)           1152        lstm_1_input[0][0]               \n",
      "__________________________________________________________________________________________________\n",
      "dense_3 (Dense)                 (None, 1)            17          dense_2[0][0]                    \n",
      "__________________________________________________________________________________________________\n",
      "dense_4 (Dense)                 (None, 1)            17          lstm_1[0][0]                     \n",
      "__________________________________________________________________________________________________\n",
      "concatenate_5 (Concatenate)     (None, 2)            0           dense_3[0][0]                    \n",
      "                                                                 dense_4[0][0]                    \n",
      "__________________________________________________________________________________________________\n",
      "batch_normalization_5 (BatchNor (None, 2)            8           concatenate_5[0][0]              \n",
      "__________________________________________________________________________________________________\n",
      "dense_9 (Dense)                 (None, 1)            3           batch_normalization_5[0][0]      \n",
      "==================================================================================================\n",
      "Total params: 1,501\n",
      "Trainable params: 1,497\n",
      "Non-trainable params: 4\n",
      "__________________________________________________________________________________________________\n",
      "Epoch 1/5\n",
      "10/10 [==============================] - 1s 128ms/step - loss: 0.3947 - acc: 0.8000\n",
      "Epoch 2/5\n",
      "10/10 [==============================] - 0s 559us/step - loss: 0.3407 - acc: 0.8000\n",
      "Epoch 3/5\n",
      "10/10 [==============================] - 0s 542us/step - loss: 0.3286 - acc: 1.0000\n",
      "Epoch 4/5\n",
      "10/10 [==============================] - 0s 566us/step - loss: 0.3418 - acc: 1.0000\n",
      "Epoch 5/5\n",
      "10/10 [==============================] - 0s 587us/step - loss: 0.3441 - acc: 1.0000\n",
      "10/10 [==============================] - 0s 27ms/step\n",
      "Accuracy: 100.000000\n"
     ]
    }
   ],
   "source": [
    "conc = Concatenate(axis=1)([model.output, model2.output])\n",
    "merged = BatchNormalization()(conc)\n",
    "merged = Dense(1, activation='sigmoid')(merged)\n",
    "\n",
    "big_model = Model(inputs=[model.input,model2.input], outputs=merged)\n",
    "big_model.compile(loss='binary_crossentropy', optimizer='adam', metrics=['accuracy'])\n",
    "big_model.summary()\n",
    "big_model.fit([feature, train_lstm], labels,epochs =5,verbose=1) \n",
    "\n",
    "loss, accuracy = big_model.evaluate([feature,train_lstm], labels, verbose=1)\n",
    "print('Accuracy: %f' % (accuracy*100))"
   ]
  },
  {
   "cell_type": "markdown",
   "metadata": {},
   "source": [
    "## Plot"
   ]
  },
  {
   "cell_type": "code",
   "execution_count": 21,
   "metadata": {},
   "outputs": [
    {
     "data": {
      "image/svg+xml": [
       "<svg height=\"483pt\" viewBox=\"0.00 0.00 321.36 483.00\" width=\"321pt\" xmlns=\"http://www.w3.org/2000/svg\" xmlns:xlink=\"http://www.w3.org/1999/xlink\">\n",
       "<g class=\"graph\" id=\"graph0\" transform=\"scale(1 1) rotate(0) translate(4 479)\">\n",
       "<title>G</title>\n",
       "<polygon fill=\"#ffffff\" points=\"-4,4 -4,-479 317.3589,-479 317.3589,4 -4,4\" stroke=\"transparent\"/>\n",
       "<!-- 47685215344 -->\n",
       "<g class=\"node\" id=\"node1\">\n",
       "<title>47685215344</title>\n",
       "<polygon fill=\"none\" points=\"0,-438.5 0,-474.5 167.2383,-474.5 167.2383,-438.5 0,-438.5\" stroke=\"#000000\"/>\n",
       "<text fill=\"#000000\" font-family=\"Times,serif\" font-size=\"14.00\" text-anchor=\"middle\" x=\"83.6191\" y=\"-452.3\">dense_1_input: InputLayer</text>\n",
       "</g>\n",
       "<!-- 47685214784 -->\n",
       "<g class=\"node\" id=\"node2\">\n",
       "<title>47685214784</title>\n",
       "<polygon fill=\"none\" points=\"31.4932,-365.5 31.4932,-401.5 135.7451,-401.5 135.7451,-365.5 31.4932,-365.5\" stroke=\"#000000\"/>\n",
       "<text fill=\"#000000\" font-family=\"Times,serif\" font-size=\"14.00\" text-anchor=\"middle\" x=\"83.6191\" y=\"-379.3\">dense_1: Dense</text>\n",
       "</g>\n",
       "<!-- 47685215344&#45;&gt;47685214784 -->\n",
       "<g class=\"edge\" id=\"edge1\">\n",
       "<title>47685215344-&gt;47685214784</title>\n",
       "<path d=\"M83.6191,-438.4551C83.6191,-430.3828 83.6191,-420.6764 83.6191,-411.6817\" fill=\"none\" stroke=\"#000000\"/>\n",
       "<polygon fill=\"#000000\" points=\"87.1192,-411.5903 83.6191,-401.5904 80.1192,-411.5904 87.1192,-411.5903\" stroke=\"#000000\"/>\n",
       "</g>\n",
       "<!-- 4444863680 -->\n",
       "<g class=\"node\" id=\"node4\">\n",
       "<title>4444863680</title>\n",
       "<polygon fill=\"none\" points=\"38.4932,-292.5 38.4932,-328.5 142.7451,-328.5 142.7451,-292.5 38.4932,-292.5\" stroke=\"#000000\"/>\n",
       "<text fill=\"#000000\" font-family=\"Times,serif\" font-size=\"14.00\" text-anchor=\"middle\" x=\"90.6191\" y=\"-306.3\">dense_2: Dense</text>\n",
       "</g>\n",
       "<!-- 47685214784&#45;&gt;4444863680 -->\n",
       "<g class=\"edge\" id=\"edge2\">\n",
       "<title>47685214784-&gt;4444863680</title>\n",
       "<path d=\"M85.3495,-365.4551C86.1235,-357.3828 87.0543,-347.6764 87.9168,-338.6817\" fill=\"none\" stroke=\"#000000\"/>\n",
       "<polygon fill=\"#000000\" points=\"91.4139,-338.8788 88.8844,-328.5904 84.4458,-338.2106 91.4139,-338.8788\" stroke=\"#000000\"/>\n",
       "</g>\n",
       "<!-- 47690549568 -->\n",
       "<g class=\"node\" id=\"node3\">\n",
       "<title>47690549568</title>\n",
       "<polygon fill=\"none\" points=\"153.8794,-365.5 153.8794,-401.5 313.3589,-401.5 313.3589,-365.5 153.8794,-365.5\" stroke=\"#000000\"/>\n",
       "<text fill=\"#000000\" font-family=\"Times,serif\" font-size=\"14.00\" text-anchor=\"middle\" x=\"233.6191\" y=\"-379.3\">lstm_1_input: InputLayer</text>\n",
       "</g>\n",
       "<!-- 47690548952 -->\n",
       "<g class=\"node\" id=\"node5\">\n",
       "<title>47690548952</title>\n",
       "<polygon fill=\"none\" points=\"182.1968,-292.5 182.1968,-328.5 281.0415,-328.5 281.0415,-292.5 182.1968,-292.5\" stroke=\"#000000\"/>\n",
       "<text fill=\"#000000\" font-family=\"Times,serif\" font-size=\"14.00\" text-anchor=\"middle\" x=\"231.6191\" y=\"-306.3\">lstm_1: LSTM</text>\n",
       "</g>\n",
       "<!-- 47690549568&#45;&gt;47690548952 -->\n",
       "<g class=\"edge\" id=\"edge3\">\n",
       "<title>47690549568-&gt;47690548952</title>\n",
       "<path d=\"M233.1248,-365.4551C232.9036,-357.3828 232.6377,-347.6764 232.3912,-338.6817\" fill=\"none\" stroke=\"#000000\"/>\n",
       "<polygon fill=\"#000000\" points=\"235.8874,-338.4907 232.1148,-328.5904 228.89,-338.6825 235.8874,-338.4907\" stroke=\"#000000\"/>\n",
       "</g>\n",
       "<!-- 47685215736 -->\n",
       "<g class=\"node\" id=\"node6\">\n",
       "<title>47685215736</title>\n",
       "<polygon fill=\"none\" points=\"52.4932,-219.5 52.4932,-255.5 156.7451,-255.5 156.7451,-219.5 52.4932,-219.5\" stroke=\"#000000\"/>\n",
       "<text fill=\"#000000\" font-family=\"Times,serif\" font-size=\"14.00\" text-anchor=\"middle\" x=\"104.6191\" y=\"-233.3\">dense_3: Dense</text>\n",
       "</g>\n",
       "<!-- 4444863680&#45;&gt;47685215736 -->\n",
       "<g class=\"edge\" id=\"edge4\">\n",
       "<title>4444863680-&gt;47685215736</title>\n",
       "<path d=\"M94.0798,-292.4551C95.6279,-284.3828 97.4894,-274.6764 99.2144,-265.6817\" fill=\"none\" stroke=\"#000000\"/>\n",
       "<polygon fill=\"#000000\" points=\"102.7036,-266.0706 101.1498,-255.5904 95.8288,-264.7521 102.7036,-266.0706\" stroke=\"#000000\"/>\n",
       "</g>\n",
       "<!-- 47690549064 -->\n",
       "<g class=\"node\" id=\"node7\">\n",
       "<title>47690549064</title>\n",
       "<polygon fill=\"none\" points=\"177.4932,-219.5 177.4932,-255.5 281.7451,-255.5 281.7451,-219.5 177.4932,-219.5\" stroke=\"#000000\"/>\n",
       "<text fill=\"#000000\" font-family=\"Times,serif\" font-size=\"14.00\" text-anchor=\"middle\" x=\"229.6191\" y=\"-233.3\">dense_4: Dense</text>\n",
       "</g>\n",
       "<!-- 47690548952&#45;&gt;47690549064 -->\n",
       "<g class=\"edge\" id=\"edge5\">\n",
       "<title>47690548952-&gt;47690549064</title>\n",
       "<path d=\"M231.1248,-292.4551C230.9036,-284.3828 230.6377,-274.6764 230.3912,-265.6817\" fill=\"none\" stroke=\"#000000\"/>\n",
       "<polygon fill=\"#000000\" points=\"233.8874,-265.4907 230.1148,-255.5904 226.89,-265.6825 233.8874,-265.4907\" stroke=\"#000000\"/>\n",
       "</g>\n",
       "<!-- 47937586288 -->\n",
       "<g class=\"node\" id=\"node8\">\n",
       "<title>47937586288</title>\n",
       "<polygon fill=\"none\" points=\"79.2998,-146.5 79.2998,-182.5 251.9385,-182.5 251.9385,-146.5 79.2998,-146.5\" stroke=\"#000000\"/>\n",
       "<text fill=\"#000000\" font-family=\"Times,serif\" font-size=\"14.00\" text-anchor=\"middle\" x=\"165.6191\" y=\"-160.3\">concatenate_5: Concatenate</text>\n",
       "</g>\n",
       "<!-- 47685215736&#45;&gt;47937586288 -->\n",
       "<g class=\"edge\" id=\"edge6\">\n",
       "<title>47685215736-&gt;47937586288</title>\n",
       "<path d=\"M119.6978,-219.4551C127.0296,-210.6809 135.9749,-199.9759 144.0159,-190.353\" fill=\"none\" stroke=\"#000000\"/>\n",
       "<polygon fill=\"#000000\" points=\"146.7761,-192.5082 150.5025,-182.5904 141.4046,-188.0197 146.7761,-192.5082\" stroke=\"#000000\"/>\n",
       "</g>\n",
       "<!-- 47690549064&#45;&gt;47937586288 -->\n",
       "<g class=\"edge\" id=\"edge7\">\n",
       "<title>47690549064-&gt;47937586288</title>\n",
       "<path d=\"M213.7989,-219.4551C206.1065,-210.6809 196.7213,-199.9759 188.2848,-190.353\" fill=\"none\" stroke=\"#000000\"/>\n",
       "<polygon fill=\"#000000\" points=\"190.7033,-187.8024 181.4792,-182.5904 185.4398,-192.4171 190.7033,-187.8024\" stroke=\"#000000\"/>\n",
       "</g>\n",
       "<!-- 47940787616 -->\n",
       "<g class=\"node\" id=\"node9\">\n",
       "<title>47940787616</title>\n",
       "<polygon fill=\"none\" points=\"32.6309,-73.5 32.6309,-109.5 298.6074,-109.5 298.6074,-73.5 32.6309,-73.5\" stroke=\"#000000\"/>\n",
       "<text fill=\"#000000\" font-family=\"Times,serif\" font-size=\"14.00\" text-anchor=\"middle\" x=\"165.6191\" y=\"-87.3\">batch_normalization_5: BatchNormalization</text>\n",
       "</g>\n",
       "<!-- 47937586288&#45;&gt;47940787616 -->\n",
       "<g class=\"edge\" id=\"edge8\">\n",
       "<title>47937586288-&gt;47940787616</title>\n",
       "<path d=\"M165.6191,-146.4551C165.6191,-138.3828 165.6191,-128.6764 165.6191,-119.6817\" fill=\"none\" stroke=\"#000000\"/>\n",
       "<polygon fill=\"#000000\" points=\"169.1192,-119.5903 165.6191,-109.5904 162.1192,-119.5904 169.1192,-119.5903\" stroke=\"#000000\"/>\n",
       "</g>\n",
       "<!-- 47955067736 -->\n",
       "<g class=\"node\" id=\"node10\">\n",
       "<title>47955067736</title>\n",
       "<polygon fill=\"none\" points=\"113.4932,-.5 113.4932,-36.5 217.7451,-36.5 217.7451,-.5 113.4932,-.5\" stroke=\"#000000\"/>\n",
       "<text fill=\"#000000\" font-family=\"Times,serif\" font-size=\"14.00\" text-anchor=\"middle\" x=\"165.6191\" y=\"-14.3\">dense_9: Dense</text>\n",
       "</g>\n",
       "<!-- 47940787616&#45;&gt;47955067736 -->\n",
       "<g class=\"edge\" id=\"edge9\">\n",
       "<title>47940787616-&gt;47955067736</title>\n",
       "<path d=\"M165.6191,-73.4551C165.6191,-65.3828 165.6191,-55.6764 165.6191,-46.6817\" fill=\"none\" stroke=\"#000000\"/>\n",
       "<polygon fill=\"#000000\" points=\"169.1192,-46.5903 165.6191,-36.5904 162.1192,-46.5904 169.1192,-46.5903\" stroke=\"#000000\"/>\n",
       "</g>\n",
       "</g>\n",
       "</svg>"
      ],
      "text/plain": [
       "<IPython.core.display.SVG object>"
      ]
     },
     "execution_count": 21,
     "metadata": {},
     "output_type": "execute_result"
    }
   ],
   "source": [
    "from keras.utils import plot_model\n",
    "# plot_model(big_model, to_file='model.png')\n",
    "\n",
    "from IPython.display import SVG\n",
    "from keras.utils.vis_utils import model_to_dot\n",
    "SVG(model_to_dot(big_model).create(prog='dot', format='svg'))"
   ]
  }
 ],
 "metadata": {
  "kernelspec": {
   "display_name": "Python 3",
   "language": "python",
   "name": "python3"
  },
  "language_info": {
   "codemirror_mode": {
    "name": "ipython",
    "version": 3
   },
   "file_extension": ".py",
   "mimetype": "text/x-python",
   "name": "python",
   "nbconvert_exporter": "python",
   "pygments_lexer": "ipython3",
   "version": "3.6.5"
  },
  "toc": {
   "nav_menu": {},
   "number_sections": true,
   "sideBar": true,
   "skip_h1_title": true,
   "title_cell": "Table of Contents",
   "title_sidebar": "Contents",
   "toc_cell": true,
   "toc_position": {
    "height": "calc(100% - 180px)",
    "left": "10px",
    "top": "150px",
    "width": "165px"
   },
   "toc_section_display": true,
   "toc_window_display": true
  }
 },
 "nbformat": 4,
 "nbformat_minor": 2
}
