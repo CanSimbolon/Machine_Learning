{
 "cells": [
  {
   "cell_type": "markdown",
   "metadata": {
    "toc": true
   },
   "source": [
    "<h1>Table of Contents<span class=\"tocSkip\"></span></h1>\n",
    "<div class=\"toc\"><ul class=\"toc-item\"><li><span><a href=\"#Phase-1\" data-toc-modified-id=\"Phase-1-1\"><span class=\"toc-item-num\">1&nbsp;&nbsp;</span>Phase 1</a></span></li><li><span><a href=\"#Placeholder\" data-toc-modified-id=\"Placeholder-2\"><span class=\"toc-item-num\">2&nbsp;&nbsp;</span>Placeholder</a></span></li><li><span><a href=\"#New-Cost-Function\" data-toc-modified-id=\"New-Cost-Function-3\"><span class=\"toc-item-num\">3&nbsp;&nbsp;</span>New Cost Function</a></span></li><li><span><a href=\"#Useful-Note\" data-toc-modified-id=\"Useful-Note-4\"><span class=\"toc-item-num\">4&nbsp;&nbsp;</span>Useful Note</a></span></li></ul></div>"
   ]
  },
  {
   "cell_type": "markdown",
   "metadata": {},
   "source": [
    "# Tensforlow Andrew Ng Tutorial\n",
    "\n",
    "This notebook is based on the tutorial lecture from Andrew Ng's class on Coursera. I have added some comments and plots. \n",
    "\n",
    "The goal of this tutorial is to minimize cost function ` f(w) = (w-5)^2` using tensorflow.\n",
    "\n",
    "https://www.coursera.org/learn/deep-neural-network/lecture/zcZlH/tensorflow"
   ]
  },
  {
   "cell_type": "code",
   "execution_count": 1,
   "metadata": {},
   "outputs": [
    {
     "name": "stderr",
     "output_type": "stream",
     "text": [
      "/Users/ijung/anaconda3/lib/python3.6/site-packages/h5py/__init__.py:36: FutureWarning: Conversion of the second argument of issubdtype from `float` to `np.floating` is deprecated. In future, it will be treated as `np.float64 == np.dtype(float).type`.\n",
      "  from ._conv import register_converters as _register_converters\n"
     ]
    }
   ],
   "source": [
    "import matplotlib.pyplot as plt\n",
    "import numpy as np\n",
    "import tensorflow as tf"
   ]
  },
  {
   "cell_type": "markdown",
   "metadata": {},
   "source": [
    "## Phase 1"
   ]
  },
  {
   "cell_type": "markdown",
   "metadata": {},
   "source": [
    "Fine the minimum of the cost function where cost function looks like the plot below. As shown, 5 is the minimum. \n",
    "\n",
    "`w` is the variable we want to optimize\n",
    "\n",
    "`cost` = w^2 + -10w + 25  or  = (w-5)^2"
   ]
  },
  {
   "cell_type": "code",
   "execution_count": 35,
   "metadata": {},
   "outputs": [
    {
     "data": {
      "image/png": "[encoded data removed]",
      "text/plain": [
       "<Figure size 432x288 with 1 Axes>"
      ]
     },
     "metadata": {},
     "output_type": "display_data"
    }
   ],
   "source": [
    "w = np.linspace(0, 10, 100)\n",
    "plt.plot(w, (w**2 -10*w + 25)) \n",
    "# plt.plot(w, (w-5)**2) \n",
    "plt.show()"
   ]
  },
  {
   "cell_type": "code",
   "execution_count": 5,
   "metadata": {},
   "outputs": [
    {
     "name": "stdout",
     "output_type": "stream",
     "text": [
      "0.0\n"
     ]
    }
   ],
   "source": [
    "# init variable \n",
    "w = tf.Variable(0,dtype=tf.float32)\n",
    "\n",
    "# define cost function \n",
    "cost = tf.add(tf.add(w**2,tf.multiply(-10.,w)),25)\n",
    "# cost = w**2 - 10*w + 25 # also works \n",
    "\n",
    "# learning algorithm \n",
    "train = tf.train.GradientDescentOptimizer(learning_rate=0.01).minimize(cost)\n",
    "\n",
    "init = tf.global_variables_initializer()\n",
    "session = tf.Session()\n",
    "session.run(init)\n",
    "print(session.run(w))\n",
    "\n",
    "## 0 because we did not run anything yet "
   ]
  },
  {
   "cell_type": "code",
   "execution_count": 6,
   "metadata": {},
   "outputs": [
    {
     "name": "stdout",
     "output_type": "stream",
     "text": [
      "0.099999994\n"
     ]
    }
   ],
   "source": [
    "# one step of Gradient Descent \n",
    "session.run(train)\n",
    "print(session.run(w))"
   ]
  },
  {
   "cell_type": "code",
   "execution_count": 7,
   "metadata": {},
   "outputs": [
    {
     "name": "stdout",
     "output_type": "stream",
     "text": [
      "4.9999886\n"
     ]
    }
   ],
   "source": [
    "# run for 1000 iterations \n",
    "for i in range(1000): \n",
    "    session.run(train)\n",
    "print(session.run(w))\n",
    "\n",
    "# should be close to 5 "
   ]
  },
  {
   "cell_type": "markdown",
   "metadata": {},
   "source": [
    "## Placeholder \n",
    "\n"
   ]
  },
  {
   "cell_type": "code",
   "execution_count": 8,
   "metadata": {},
   "outputs": [
    {
     "name": "stdout",
     "output_type": "stream",
     "text": [
      "0.0\n"
     ]
    }
   ],
   "source": [
    "coefficients = np.array([[1.],[-10.],[25.]])\n",
    "\n",
    "w = tf.Variable(0,dtype=tf.float32)\n",
    "x = tf.placeholder(tf.float32,[3,1])\n",
    "cost = x[0][0]*w**2 + x[1][0]*w + x[2][0]\n",
    "train = tf.train.GradientDescentOptimizer(learning_rate=0.01).minimize(cost)\n",
    "\n",
    "init = tf.global_variables_initializer()\n",
    "session = tf.Session()\n",
    "session.run(init)\n",
    "print(session.run(w))\n",
    "\n",
    "## 0 because we did not run anything yet "
   ]
  },
  {
   "cell_type": "code",
   "execution_count": 9,
   "metadata": {},
   "outputs": [
    {
     "name": "stdout",
     "output_type": "stream",
     "text": [
      "0.099999994\n"
     ]
    }
   ],
   "source": [
    "# one step of Gradient Descent \n",
    "session.run(train,feed_dict={x:coefficients})\n",
    "print(session.run(w))"
   ]
  },
  {
   "cell_type": "code",
   "execution_count": 10,
   "metadata": {},
   "outputs": [
    {
     "name": "stdout",
     "output_type": "stream",
     "text": [
      "4.9999886\n"
     ]
    }
   ],
   "source": [
    "# run for 1000 iterations \n",
    "for i in range(1000): \n",
    "    session.run(train,feed_dict={x:coefficients})\n",
    "print(session.run(w))\n",
    "\n",
    "# should be close to 5 "
   ]
  },
  {
   "cell_type": "markdown",
   "metadata": {},
   "source": [
    "## New Cost Function\n",
    "\n",
    "Change the input value and you get a different minimum. \n",
    "\n",
    "`Cost` =  (w-10)^2"
   ]
  },
  {
   "cell_type": "code",
   "execution_count": 28,
   "metadata": {},
   "outputs": [
    {
     "data": {
      "image/png": "[encoded data removed]",
      "text/plain": [
       "<Figure size 432x288 with 1 Axes>"
      ]
     },
     "metadata": {},
     "output_type": "display_data"
    }
   ],
   "source": [
    "w = np.linspace(0, 20, 100)\n",
    "plt.plot(w, (w**2 -20*w + 100)) \n",
    "plt.show()"
   ]
  },
  {
   "cell_type": "code",
   "execution_count": 14,
   "metadata": {},
   "outputs": [
    {
     "name": "stdout",
     "output_type": "stream",
     "text": [
      "0.0\n"
     ]
    }
   ],
   "source": [
    "coefficients = np.array([[1.],[-20.],[100.]])\n",
    "\n",
    "w = tf.Variable(0,dtype=tf.float32)\n",
    "x = tf.placeholder(tf.float32,[3,1])\n",
    "cost = x[0][0]*w**2 + x[1][0]*w + x[2][0]\n",
    "train = tf.train.GradientDescentOptimizer(learning_rate=0.01).minimize(cost)\n",
    "\n",
    "init = tf.global_variables_initializer()\n",
    "session = tf.Session()\n",
    "session.run(init)\n",
    "print(session.run(w))"
   ]
  },
  {
   "cell_type": "code",
   "execution_count": 15,
   "metadata": {},
   "outputs": [
    {
     "name": "stdout",
     "output_type": "stream",
     "text": [
      "9.999977\n"
     ]
    }
   ],
   "source": [
    "# run for 1000 iterations \n",
    "for i in range(1000): \n",
    "    session.run(train,feed_dict={x:coefficients})\n",
    "print(session.run(w))\n",
    "\n",
    "# should be close to 10 "
   ]
  },
  {
   "cell_type": "markdown",
   "metadata": {},
   "source": [
    "## Useful Note\n",
    "\n",
    "Two following codes are the same: \n",
    "\n",
    "Method 1 \n",
    "```py\n",
    "session = tf.Session()\n",
    "session.run(init)\n",
    "print(session.run(w))\n",
    "```\n",
    "Method 2\n",
    "```py\n",
    "with tf.Session as session:\n",
    "    session.run(init)\n",
    "    print(session.run(w))\n",
    "```"
   ]
  }
 ],
 "metadata": {
  "kernelspec": {
   "display_name": "Python 3",
   "language": "python",
   "name": "python3"
  },
  "language_info": {
   "codemirror_mode": {
    "name": "ipython",
    "version": 3
   },
   "file_extension": ".py",
   "mimetype": "text/x-python",
   "name": "python",
   "nbconvert_exporter": "python",
   "pygments_lexer": "ipython3",
   "version": "3.6.5"
  },
  "toc": {
   "nav_menu": {},
   "number_sections": true,
   "sideBar": true,
   "skip_h1_title": true,
   "title_cell": "Table of Contents",
   "title_sidebar": "Contents",
   "toc_cell": true,
   "toc_position": {
    "height": "calc(100% - 180px)",
    "left": "10px",
    "top": "150px",
    "width": "165px"
   },
   "toc_section_display": true,
   "toc_window_display": true
  }
 },
 "nbformat": 4,
 "nbformat_minor": 2
}
