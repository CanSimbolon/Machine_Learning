{
 "cells": [
  {
   "cell_type": "markdown",
   "metadata": {},
   "source": [
    "Task: Get the last date of the month for specified years."
   ]
  },
  {
   "cell_type": "code",
   "execution_count": 1,
   "metadata": {},
   "outputs": [
    {
     "data": {
      "text/plain": [
       "(2, 29)"
      ]
     },
     "execution_count": 1,
     "metadata": {},
     "output_type": "execute_result"
    }
   ],
   "source": [
    "# import packages \n",
    "from calendar import monthrange\n",
    "import pandas as pd\n",
    "\n",
    "monthrange(2012, 2)"
   ]
  },
  {
   "cell_type": "code",
   "execution_count": 2,
   "metadata": {},
   "outputs": [
    {
     "name": "stdout",
     "output_type": "stream",
     "text": [
      "Help on function monthrange in module calendar:\n",
      "\n",
      "monthrange(year, month)\n",
      "    Return weekday (0-6 ~ Mon-Sun) and number of days (28-31) for\n",
      "    year, month.\n",
      "\n"
     ]
    }
   ],
   "source": [
    "help(monthrange)"
   ]
  },
  {
   "cell_type": "code",
   "execution_count": 19,
   "metadata": {},
   "outputs": [
    {
     "data": {
      "text/plain": [
       "['2015-1-31',\n",
       " '2015-2-28',\n",
       " '2015-3-31',\n",
       " '2015-4-30',\n",
       " '2015-5-31',\n",
       " '2015-6-30',\n",
       " '2015-7-31',\n",
       " '2015-8-31',\n",
       " '2015-9-30',\n",
       " '2015-10-31']"
      ]
     },
     "execution_count": 19,
     "metadata": {},
     "output_type": "execute_result"
    }
   ],
   "source": [
    "# init list \n",
    "last_days = []\n",
    "\n",
    "# loop through years \n",
    "for year in range(2015,2020): \n",
    "    # loop through months \n",
    "    for month in range(1,13): \n",
    "        # get the last date of the month\n",
    "        date = monthrange(year, month)[1]\n",
    "        # append to list \n",
    "        last_days.append('%d-%d-%d' % (year,month,date))\n",
    "\n",
    "last_days[:10]"
   ]
  },
  {
   "cell_type": "code",
   "execution_count": 21,
   "metadata": {},
   "outputs": [
    {
     "data": {
      "text/html": [
       "<div>\n",
       "<style>\n",
       "    .dataframe thead tr:only-child th {\n",
       "        text-align: right;\n",
       "    }\n",
       "\n",
       "    .dataframe thead th {\n",
       "        text-align: left;\n",
       "    }\n",
       "\n",
       "    .dataframe tbody tr th {\n",
       "        vertical-align: top;\n",
       "    }\n",
       "</style>\n",
       "<table border=\"1\" class=\"dataframe\">\n",
       "  <thead>\n",
       "    <tr style=\"text-align: right;\">\n",
       "      <th></th>\n",
       "      <th>ds</th>\n",
       "      <th>holiday</th>\n",
       "    </tr>\n",
       "  </thead>\n",
       "  <tbody>\n",
       "    <tr>\n",
       "      <th>0</th>\n",
       "      <td>2015-1-31</td>\n",
       "      <td>month</td>\n",
       "    </tr>\n",
       "    <tr>\n",
       "      <th>1</th>\n",
       "      <td>2015-2-28</td>\n",
       "      <td>month</td>\n",
       "    </tr>\n",
       "    <tr>\n",
       "      <th>2</th>\n",
       "      <td>2015-3-31</td>\n",
       "      <td>month</td>\n",
       "    </tr>\n",
       "    <tr>\n",
       "      <th>3</th>\n",
       "      <td>2015-4-30</td>\n",
       "      <td>month</td>\n",
       "    </tr>\n",
       "    <tr>\n",
       "      <th>4</th>\n",
       "      <td>2015-5-31</td>\n",
       "      <td>month</td>\n",
       "    </tr>\n",
       "  </tbody>\n",
       "</table>\n",
       "</div>"
      ],
      "text/plain": [
       "          ds holiday\n",
       "0  2015-1-31   month\n",
       "1  2015-2-28   month\n",
       "2  2015-3-31   month\n",
       "3  2015-4-30   month\n",
       "4  2015-5-31   month"
      ]
     },
     "execution_count": 21,
     "metadata": {},
     "output_type": "execute_result"
    }
   ],
   "source": [
    "# convert into data frame which you can feed into Facebook's Prophet model. \n",
    "last_days = pd.DataFrame({'ds': last_days,'holiday':'month'})\n",
    "last_days.head()"
   ]
  },
  {
   "cell_type": "code",
   "execution_count": null,
   "metadata": {
    "collapsed": true
   },
   "outputs": [],
   "source": []
  },
  {
   "cell_type": "code",
   "execution_count": null,
   "metadata": {
    "collapsed": true
   },
   "outputs": [],
   "source": []
  },
  {
   "cell_type": "code",
   "execution_count": 30,
   "metadata": {},
   "outputs": [
    {
     "data": {
      "text/plain": [
       "['2015-2-28',\n",
       " '2015-3-28',\n",
       " '2015-4-28',\n",
       " '2015-5-28',\n",
       " '2015-6-28',\n",
       " '2015-7-28',\n",
       " '2015-8-28',\n",
       " '2015-9-28',\n",
       " '2015-10-28',\n",
       " '2015-11-28']"
      ]
     },
     "execution_count": 30,
     "metadata": {},
     "output_type": "execute_result"
    }
   ],
   "source": [
    "# get the list of 28th or 29th of each month depending on february\n",
    "\n",
    "# init list \n",
    "#last_days = []\n",
    "\n",
    "# from feb to jan \n",
    "months = list(range(2,13))+[1] \n",
    "\n",
    "# loop through years \n",
    "for year in range(2015,2020): \n",
    "    # loop through months \n",
    "    feb_date = monthrange(year, 2)[1]\n",
    "    for month in months: \n",
    "        # append to list \n",
    "        last_days.append('%d-%d-%d' % (year,month,feb_date))\n",
    "\n",
    "last_days[:10]"
   ]
  },
  {
   "cell_type": "code",
   "execution_count": 27,
   "metadata": {},
   "outputs": [
    {
     "data": {
      "text/html": [
       "<div>\n",
       "<style>\n",
       "    .dataframe thead tr:only-child th {\n",
       "        text-align: right;\n",
       "    }\n",
       "\n",
       "    .dataframe thead th {\n",
       "        text-align: left;\n",
       "    }\n",
       "\n",
       "    .dataframe tbody tr th {\n",
       "        vertical-align: top;\n",
       "    }\n",
       "</style>\n",
       "<table border=\"1\" class=\"dataframe\">\n",
       "  <thead>\n",
       "    <tr style=\"text-align: right;\">\n",
       "      <th></th>\n",
       "      <th>ds</th>\n",
       "      <th>holiday</th>\n",
       "    </tr>\n",
       "  </thead>\n",
       "  <tbody>\n",
       "    <tr>\n",
       "      <th>0</th>\n",
       "      <td>2015-2-28</td>\n",
       "      <td>february_BA</td>\n",
       "    </tr>\n",
       "    <tr>\n",
       "      <th>1</th>\n",
       "      <td>2015-3-28</td>\n",
       "      <td>february_BA</td>\n",
       "    </tr>\n",
       "    <tr>\n",
       "      <th>2</th>\n",
       "      <td>2015-4-28</td>\n",
       "      <td>february_BA</td>\n",
       "    </tr>\n",
       "    <tr>\n",
       "      <th>3</th>\n",
       "      <td>2015-5-28</td>\n",
       "      <td>february_BA</td>\n",
       "    </tr>\n",
       "    <tr>\n",
       "      <th>4</th>\n",
       "      <td>2015-6-28</td>\n",
       "      <td>february_BA</td>\n",
       "    </tr>\n",
       "  </tbody>\n",
       "</table>\n",
       "</div>"
      ],
      "text/plain": [
       "          ds      holiday\n",
       "0  2015-2-28  february_BA\n",
       "1  2015-3-28  february_BA\n",
       "2  2015-4-28  february_BA\n",
       "3  2015-5-28  february_BA\n",
       "4  2015-6-28  february_BA"
      ]
     },
     "execution_count": 27,
     "metadata": {},
     "output_type": "execute_result"
    }
   ],
   "source": [
    "# convert into data frame which you can feed into Facebook's Prophet model. \n",
    "last_days = pd.DataFrame({'ds': last_days,'holiday':'february_BA'})\n",
    "last_days.head()"
   ]
  },
  {
   "cell_type": "code",
   "execution_count": 20,
   "metadata": {},
   "outputs": [
    {
     "data": {
      "text/plain": [
       "[2, 3, 4, 5, 6, 7, 8, 9, 10, 11, 12, 1]"
      ]
     },
     "execution_count": 20,
     "metadata": {},
     "output_type": "execute_result"
    }
   ],
   "source": [
    "list(range(2,13))+[1] "
   ]
  },
  {
   "cell_type": "code",
   "execution_count": 14,
   "metadata": {},
   "outputs": [],
   "source": []
  },
  {
   "cell_type": "code",
   "execution_count": 29,
   "metadata": {},
   "outputs": [
    {
     "data": {
      "text/plain": [
       "['2015-2-28', '2016-2-29', '2017-2-28', '2018-2-28', '2019-2-28']"
      ]
     },
     "execution_count": 29,
     "metadata": {},
     "output_type": "execute_result"
    }
   ],
   "source": [
    "# get february only \n",
    "\n",
    "# init list \n",
    "fed_last_days = []\n",
    "\n",
    "# from feb to jan \n",
    "#months = list(range(2,13))+[1] \n",
    "\n",
    "# loop through years \n",
    "for year in range(2015,2020): \n",
    "    # get the last date of the month        \n",
    "    # set it to the last date of \n",
    "    feb_date = monthrange(year, 2)[1]\n",
    "    # append to list \n",
    "    fed_last_days.append('%d-%d-%d' % (year,2,feb_date))\n",
    "\n",
    "fed_last_days"
   ]
  },
  {
   "cell_type": "code",
   "execution_count": null,
   "metadata": {
    "collapsed": true
   },
   "outputs": [],
   "source": [
    "# convert into data frame which you can feed into Facebook's Prophet model. \n",
    "last_days = pd.DataFrame({'ds': last_days,'holiday':'february_BA'})\n",
    "last_days.head()"
   ]
  }
 ],
 "metadata": {
  "kernelspec": {
   "display_name": "Python 3",
   "language": "python",
   "name": "python3"
  },
  "language_info": {
   "codemirror_mode": {
    "name": "ipython",
    "version": 3
   },
   "file_extension": ".py",
   "mimetype": "text/x-python",
   "name": "python",
   "nbconvert_exporter": "python",
   "pygments_lexer": "ipython3",
   "version": "3.6.1"
  }
 },
 "nbformat": 4,
 "nbformat_minor": 2
}
