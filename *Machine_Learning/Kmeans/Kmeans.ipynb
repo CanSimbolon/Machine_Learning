{
 "cells": [
  {
   "cell_type": "markdown",
   "metadata": {
    "button": false,
    "deletable": true,
    "new_sheet": false,
    "run_control": {
     "read_only": false
    }
   },
   "source": [
    "# Kmeans Tutorial\n",
    "Source: \n",
    "- http://scikit-learn.org/stable/tutorial/statistical_inference/unsupervised_learning.html\n",
    "- https://plot.ly/python/dot-plots/\n",
    "- https://matplotlib.org/devdocs/api/_as_gen/matplotlib.pyplot.subplots.html"
   ]
  },
  {
   "cell_type": "markdown",
   "metadata": {
    "button": false,
    "deletable": true,
    "new_sheet": false,
    "run_control": {
     "read_only": false
    }
   },
   "source": [
    "## Kmeans using sklearn"
   ]
  },
  {
   "cell_type": "code",
   "execution_count": 1,
   "metadata": {
    "button": false,
    "collapsed": true,
    "deletable": true,
    "new_sheet": false,
    "run_control": {
     "read_only": false
    }
   },
   "outputs": [],
   "source": [
    "# import packages \n",
    "import numpy as np\n",
    "import pandas as pd \n",
    "\n",
    "import matplotlib.pyplot as plt\n",
    "from sklearn import cluster, datasets\n",
    "from sklearn.decomposition import PCA\n",
    "from sklearn import preprocessing"
   ]
  },
  {
   "cell_type": "code",
   "execution_count": 2,
   "metadata": {
    "button": false,
    "collapsed": true,
    "deletable": true,
    "new_sheet": false,
    "run_control": {
     "read_only": false
    }
   },
   "outputs": [],
   "source": [
    "# get iris dataset \n",
    "data = datasets.load_iris()\n",
    "\n",
    "# get X variables \n",
    "features = pd.DataFrame(data.data)\n",
    "\n",
    "# get Y \n",
    "target = pd.DataFrame(data.target)\n",
    "\n",
    "# get column name \n",
    "col_names = data.feature_names\n",
    "\n",
    "# change column names \n",
    "features.columns = col_names"
   ]
  },
  {
   "cell_type": "code",
   "execution_count": 3,
   "metadata": {
    "button": false,
    "collapsed": false,
    "deletable": true,
    "new_sheet": false,
    "run_control": {
     "read_only": false
    }
   },
   "outputs": [
    {
     "data": {
      "text/html": [
       "<div>\n",
       "<style>\n",
       "    .dataframe thead tr:only-child th {\n",
       "        text-align: right;\n",
       "    }\n",
       "\n",
       "    .dataframe thead th {\n",
       "        text-align: left;\n",
       "    }\n",
       "\n",
       "    .dataframe tbody tr th {\n",
       "        vertical-align: top;\n",
       "    }\n",
       "</style>\n",
       "<table border=\"1\" class=\"dataframe\">\n",
       "  <thead>\n",
       "    <tr style=\"text-align: right;\">\n",
       "      <th></th>\n",
       "      <th>sepal length (cm)</th>\n",
       "      <th>sepal width (cm)</th>\n",
       "      <th>petal length (cm)</th>\n",
       "      <th>petal width (cm)</th>\n",
       "    </tr>\n",
       "  </thead>\n",
       "  <tbody>\n",
       "    <tr>\n",
       "      <th>0</th>\n",
       "      <td>5.1</td>\n",
       "      <td>3.5</td>\n",
       "      <td>1.4</td>\n",
       "      <td>0.2</td>\n",
       "    </tr>\n",
       "    <tr>\n",
       "      <th>1</th>\n",
       "      <td>4.9</td>\n",
       "      <td>3.0</td>\n",
       "      <td>1.4</td>\n",
       "      <td>0.2</td>\n",
       "    </tr>\n",
       "    <tr>\n",
       "      <th>2</th>\n",
       "      <td>4.7</td>\n",
       "      <td>3.2</td>\n",
       "      <td>1.3</td>\n",
       "      <td>0.2</td>\n",
       "    </tr>\n",
       "    <tr>\n",
       "      <th>3</th>\n",
       "      <td>4.6</td>\n",
       "      <td>3.1</td>\n",
       "      <td>1.5</td>\n",
       "      <td>0.2</td>\n",
       "    </tr>\n",
       "    <tr>\n",
       "      <th>4</th>\n",
       "      <td>5.0</td>\n",
       "      <td>3.6</td>\n",
       "      <td>1.4</td>\n",
       "      <td>0.2</td>\n",
       "    </tr>\n",
       "  </tbody>\n",
       "</table>\n",
       "</div>"
      ],
      "text/plain": [
       "   sepal length (cm)  sepal width (cm)  petal length (cm)  petal width (cm)\n",
       "0                5.1               3.5                1.4               0.2\n",
       "1                4.9               3.0                1.4               0.2\n",
       "2                4.7               3.2                1.3               0.2\n",
       "3                4.6               3.1                1.5               0.2\n",
       "4                5.0               3.6                1.4               0.2"
      ]
     },
     "execution_count": 3,
     "metadata": {},
     "output_type": "execute_result"
    }
   ],
   "source": [
    "features.head()"
   ]
  },
  {
   "cell_type": "code",
   "execution_count": 11,
   "metadata": {
    "button": false,
    "collapsed": false,
    "deletable": true,
    "new_sheet": false,
    "run_control": {
     "read_only": false
    }
   },
   "outputs": [
    {
     "data": {
      "text/html": [
       "<div>\n",
       "<style>\n",
       "    .dataframe thead tr:only-child th {\n",
       "        text-align: right;\n",
       "    }\n",
       "\n",
       "    .dataframe thead th {\n",
       "        text-align: left;\n",
       "    }\n",
       "\n",
       "    .dataframe tbody tr th {\n",
       "        vertical-align: top;\n",
       "    }\n",
       "</style>\n",
       "<table border=\"1\" class=\"dataframe\">\n",
       "  <thead>\n",
       "    <tr style=\"text-align: right;\">\n",
       "      <th></th>\n",
       "      <th>0</th>\n",
       "    </tr>\n",
       "  </thead>\n",
       "  <tbody>\n",
       "    <tr>\n",
       "      <th>0</th>\n",
       "      <td>0</td>\n",
       "    </tr>\n",
       "    <tr>\n",
       "      <th>1</th>\n",
       "      <td>0</td>\n",
       "    </tr>\n",
       "    <tr>\n",
       "      <th>2</th>\n",
       "      <td>0</td>\n",
       "    </tr>\n",
       "    <tr>\n",
       "      <th>3</th>\n",
       "      <td>0</td>\n",
       "    </tr>\n",
       "    <tr>\n",
       "      <th>4</th>\n",
       "      <td>0</td>\n",
       "    </tr>\n",
       "  </tbody>\n",
       "</table>\n",
       "</div>"
      ],
      "text/plain": [
       "   0\n",
       "0  0\n",
       "1  0\n",
       "2  0\n",
       "3  0\n",
       "4  0"
      ]
     },
     "execution_count": 11,
     "metadata": {},
     "output_type": "execute_result"
    }
   ],
   "source": [
    "target.head()"
   ]
  },
  {
   "cell_type": "code",
   "execution_count": 12,
   "metadata": {
    "button": false,
    "collapsed": false,
    "deletable": true,
    "new_sheet": false,
    "run_control": {
     "read_only": false
    },
    "scrolled": true
   },
   "outputs": [
    {
     "name": "stdout",
     "output_type": "stream",
     "text": [
      "(150, 4)\n",
      "(150, 1)\n"
     ]
    }
   ],
   "source": [
    "print(features.shape)\n",
    "print(target.shape)"
   ]
  },
  {
   "cell_type": "code",
   "execution_count": 4,
   "metadata": {
    "button": false,
    "collapsed": false,
    "deletable": true,
    "new_sheet": false,
    "run_control": {
     "read_only": false
    }
   },
   "outputs": [
    {
     "data": {
      "text/plain": [
       "KMeans(algorithm='auto', copy_x=True, init='k-means++', max_iter=300,\n",
       "    n_clusters=3, n_init=10, n_jobs=1, precompute_distances='auto',\n",
       "    random_state=None, tol=0.0001, verbose=0)"
      ]
     },
     "execution_count": 4,
     "metadata": {},
     "output_type": "execute_result"
    }
   ],
   "source": [
    "# init kmeans model \n",
    "kmeans = cluster.KMeans(n_clusters=3)\n",
    "kmeans"
   ]
  },
  {
   "cell_type": "code",
   "execution_count": 5,
   "metadata": {
    "button": false,
    "collapsed": false,
    "deletable": true,
    "new_sheet": false,
    "run_control": {
     "read_only": false
    }
   },
   "outputs": [
    {
     "data": {
      "text/plain": [
       "KMeans(algorithm='auto', copy_x=True, init='k-means++', max_iter=300,\n",
       "    n_clusters=3, n_init=10, n_jobs=1, precompute_distances='auto',\n",
       "    random_state=None, tol=0.0001, verbose=0)"
      ]
     },
     "execution_count": 5,
     "metadata": {},
     "output_type": "execute_result"
    }
   ],
   "source": [
    "# fit model\n",
    "kmeans.fit(features)"
   ]
  },
  {
   "cell_type": "code",
   "execution_count": 12,
   "metadata": {
    "button": false,
    "collapsed": false,
    "deletable": true,
    "new_sheet": false,
    "run_control": {
     "read_only": false
    }
   },
   "outputs": [
    {
     "name": "stdout",
     "output_type": "stream",
     "text": [
      "[1 1 1 1 1 2 2 2 2 2 0 0 0 0 0]\n",
      "     0\n",
      "0    0\n",
      "10   0\n",
      "20   0\n",
      "30   0\n",
      "40   0\n",
      "50   1\n",
      "60   1\n",
      "70   1\n",
      "80   1\n",
      "90   1\n",
      "100  2\n",
      "110  2\n",
      "120  2\n",
      "130  2\n",
      "140  2\n"
     ]
    }
   ],
   "source": [
    "print(kmeans.labels_[::10])\n",
    "#[1 1 1 1 1 0 0 0 0 0 2 2 2 2 2]\n",
    "print(target[::10])\n",
    "#[0 0 0 0 0 1 1 1 1 1 2 2 2 2 2]"
   ]
  },
  {
   "cell_type": "code",
   "execution_count": 13,
   "metadata": {
    "button": false,
    "collapsed": false,
    "deletable": true,
    "new_sheet": false,
    "run_control": {
     "read_only": false
    }
   },
   "outputs": [
    {
     "data": {
      "text/plain": [
       "2    62\n",
       "1    50\n",
       "0    38\n",
       "dtype: int64"
      ]
     },
     "execution_count": 13,
     "metadata": {},
     "output_type": "execute_result"
    }
   ],
   "source": [
    "(pd.Series(kmeans.labels_)).value_counts()"
   ]
  },
  {
   "cell_type": "markdown",
   "metadata": {
    "button": false,
    "deletable": true,
    "new_sheet": false,
    "run_control": {
     "read_only": false
    }
   },
   "source": [
    "## Viz through PCA"
   ]
  },
  {
   "cell_type": "code",
   "execution_count": 14,
   "metadata": {
    "button": false,
    "collapsed": false,
    "deletable": true,
    "new_sheet": false,
    "run_control": {
     "read_only": false
    }
   },
   "outputs": [
    {
     "data": {
      "text/plain": [
       "array([[-2.68420713,  0.32660731],\n",
       "       [-2.71539062, -0.16955685],\n",
       "       [-2.88981954, -0.13734561],\n",
       "       [-2.7464372 , -0.31112432],\n",
       "       [-2.72859298,  0.33392456],\n",
       "       [-2.27989736,  0.74778271],\n",
       "       [-2.82089068, -0.08210451],\n",
       "       [-2.62648199,  0.17040535],\n",
       "       [-2.88795857, -0.57079803],\n",
       "       [-2.67384469, -0.1066917 ]])"
      ]
     },
     "execution_count": 14,
     "metadata": {},
     "output_type": "execute_result"
    }
   ],
   "source": [
    "# reduce to 2-D\n",
    "reduced_data = PCA(n_components=2).fit_transform(features)\n",
    "reduced_data[:10]"
   ]
  },
  {
   "cell_type": "code",
   "execution_count": 36,
   "metadata": {
    "button": false,
    "collapsed": false,
    "deletable": true,
    "new_sheet": false,
    "run_control": {
     "read_only": false
    }
   },
   "outputs": [
    {
     "data": {
      "image/png": "[encoded data removed]",
      "text/plain": [
       "<matplotlib.figure.Figure at 0x119f6c278>"
      ]
     },
     "metadata": {},
     "output_type": "display_data"
    }
   ],
   "source": [
    "#fig = plt.figure(figsize=(5, 5))\n",
    "x = reduced_data[:, 0]\n",
    "y = reduced_data[:, 1]\n",
    "\n",
    "plt.scatter(x, y,  s=50)#, #cmap='viridis')\n",
    "plt.show()"
   ]
  },
  {
   "cell_type": "code",
   "execution_count": 16,
   "metadata": {
    "button": false,
    "collapsed": false,
    "deletable": true,
    "new_sheet": false,
    "run_control": {
     "read_only": false
    }
   },
   "outputs": [
    {
     "data": {
      "image/png": "[encoded data removed]",
      "text/plain": [
       "<matplotlib.figure.Figure at 0x119ff7cf8>"
      ]
     },
     "metadata": {},
     "output_type": "display_data"
    }
   ],
   "source": [
    "def kmeans_jj(data,k):\n",
    "    '''\n",
    "    Reduce the data into 2 dimensions and then perform Kmeans. \n",
    "    '''\n",
    "\n",
    "    reduced_data = PCA(n_components=2).fit_transform(data.iloc[:,1:])\n",
    "\n",
    "    kmeans = cluster.KMeans(n_clusters=k)\n",
    "    kmeans.fit(reduced_data)\n",
    "    \n",
    "    centroids = kmeans.cluster_centers_\n",
    "\n",
    "    x = reduced_data[:, 0]\n",
    "    y = reduced_data[:, 1]\n",
    "    \n",
    "    plt.scatter(x, y, c=kmeans.labels_, s=50, cmap='viridis')\n",
    "\n",
    "    centers = kmeans.cluster_centers_\n",
    "    plt.scatter(centers[:, 0], centers[:, 1], c='black', s=200, alpha=0.5);\n",
    "\n",
    "    plt.show()\n",
    "    \n",
    "kmeans_jj(features,k=3)"
   ]
  },
  {
   "cell_type": "code",
   "execution_count": 3,
   "metadata": {
    "button": false,
    "collapsed": false,
    "deletable": true,
    "new_sheet": false,
    "run_control": {
     "read_only": false
    }
   },
   "outputs": [
    {
     "name": "stdout",
     "output_type": "stream",
     "text": [
      "[(0.0, 0.0, 0.5, 1.0), (0.49019607843137247, 1.0, 0.47754585705249841, 1.0), (0.5, 0.0, 0.0, 1.0)]\n",
      "0\n",
      "1\n",
      "2\n"
     ]
    },
    {
     "data": {
      "image/png": "[encoded data removed]",
      "text/plain": [
       "<matplotlib.figure.Figure at 0x11cb32ac8>"
      ]
     },
     "metadata": {},
     "output_type": "display_data"
    }
   ],
   "source": [
    "# final \n",
    "# https://stackoverflow.com/questions/42056713/matplotlib-scatterplot-with-legend\n",
    "\n",
    "def kmeans_plot_points(data,k,preprocess=False,remove_first_col=False):\n",
    "    \n",
    "    \n",
    "    if remove_first_col ==True:\n",
    "        # get rid of first column \n",
    "        data = data.iloc[:,1:]\n",
    "    \n",
    "    if preprocess ==True:\n",
    "        data = preprocessing.scale(data,axis=0)\n",
    "        \n",
    "    # PCA \n",
    "    reduced_data = PCA(n_components=2).fit_transform(data)\n",
    "    # fit kmeans on the reduced data \n",
    "    kmeans = cluster.KMeans(n_clusters=k)\n",
    "    kmeans.fit(reduced_data)\n",
    "    centers = kmeans.cluster_centers_\n",
    "    # extract x and y axis \n",
    "    x = reduced_data[:, 0]\n",
    "    y = reduced_data[:, 1]\n",
    "\n",
    "    classes = kmeans.labels_# + 1 \n",
    "    unique = list(set(classes))\n",
    "\n",
    "    colors = [plt.cm.jet(float(i)/max(unique)) for i in unique]\n",
    "    print(colors)\n",
    "    for i, u in enumerate(unique):\n",
    "        print(u)\n",
    "        xi = [x[j] for j  in range(len(x)) if classes[j] == u]\n",
    "        yi = [y[j] for j  in range(len(x)) if classes[j] == u]\n",
    "        plt.scatter(xi, yi, label=str(u),alpha=0.5)\n",
    "    \n",
    "    plt.scatter(centers[:, 0], centers[:, 1], c='black', s=200, alpha=0.5);\n",
    "    \n",
    "    plt.legend()\n",
    "    plt.show()\n",
    "    \n",
    "    \n",
    "kmeans_plot_points(features,k=3,preprocess=False, remove_first_col=False )"
   ]
  },
  {
   "cell_type": "markdown",
   "metadata": {
    "button": false,
    "deletable": true,
    "new_sheet": false,
    "run_control": {
     "read_only": false
    }
   },
   "source": [
    "## Viz of Cluster Means"
   ]
  },
  {
   "cell_type": "code",
   "execution_count": 37,
   "metadata": {
    "button": false,
    "collapsed": false,
    "deletable": true,
    "new_sheet": false,
    "run_control": {
     "read_only": false
    }
   },
   "outputs": [
    {
     "data": {
      "text/plain": [
       "array([[ 5.9016129 ,  2.7483871 ,  4.39354839,  1.43387097],\n",
       "       [ 5.006     ,  3.418     ,  1.464     ,  0.244     ],\n",
       "       [ 6.85      ,  3.07368421,  5.74210526,  2.07105263]])"
      ]
     },
     "execution_count": 37,
     "metadata": {},
     "output_type": "execute_result"
    }
   ],
   "source": [
    "# first row = center for first label \n",
    "kmeans.cluster_centers_"
   ]
  },
  {
   "cell_type": "code",
   "execution_count": 38,
   "metadata": {
    "button": false,
    "collapsed": false,
    "deletable": true,
    "new_sheet": false,
    "run_control": {
     "read_only": false
    }
   },
   "outputs": [
    {
     "data": {
      "text/plain": [
       "array([1, 1, 1, 1, 1, 1, 1, 1, 1, 1, 1, 1, 1, 1, 1, 1, 1, 1, 1, 1, 1, 1, 1,\n",
       "       1, 1, 1, 1, 1, 1, 1, 1, 1, 1, 1, 1, 1, 1, 1, 1, 1, 1, 1, 1, 1, 1, 1,\n",
       "       1, 1, 1, 1, 0, 0, 2, 0, 0, 0, 0, 0, 0, 0, 0, 0, 0, 0, 0, 0, 0, 0, 0,\n",
       "       0, 0, 0, 0, 0, 0, 0, 0, 2, 0, 0, 0, 0, 0, 0, 0, 0, 0, 0, 0, 0, 0, 0,\n",
       "       0, 0, 0, 0, 0, 0, 0, 0, 2, 0, 2, 2, 2, 2, 0, 2, 2, 2, 2, 2, 2, 0, 0,\n",
       "       2, 2, 2, 2, 0, 2, 0, 2, 0, 2, 2, 0, 0, 2, 2, 2, 2, 2, 0, 2, 2, 2, 2,\n",
       "       0, 2, 2, 2, 0, 2, 2, 2, 0, 2, 2, 0], dtype=int32)"
      ]
     },
     "execution_count": 38,
     "metadata": {},
     "output_type": "execute_result"
    }
   ],
   "source": [
    "kmeans.labels_"
   ]
  },
  {
   "cell_type": "code",
   "execution_count": 48,
   "metadata": {
    "button": false,
    "collapsed": false,
    "deletable": true,
    "new_sheet": false,
    "run_control": {
     "read_only": false
    }
   },
   "outputs": [
    {
     "data": {
      "image/png": "[encoded data removed]",
      "text/plain": [
       "<matplotlib.figure.Figure at 0x11d3c8518>"
      ]
     },
     "metadata": {},
     "output_type": "display_data"
    }
   ],
   "source": [
    "var = features.columns\n",
    "\n",
    "def kmeans_plot(kmeans, variables): \n",
    "    # centroids \n",
    "    center = kmeans.cluster_centers_\n",
    "    # number of clusters \n",
    "    k = kmeans.n_clusters\n",
    "    # for categorical plotting \n",
    "    xn = range(len(variables))\n",
    "    # init plots \n",
    "    fig, axes = plt.subplots(1,k, sharey=True, sharex=True)\n",
    "    # number of plots = number of clusters \n",
    "    for i in range(k):\n",
    "        # scatter plot \n",
    "        axes[i].scatter(center[i],xn)\n",
    "        # Title \n",
    "        axes[i].set_title('Cluster ' + str(i+1))\n",
    "        # Grid \n",
    "        axes[i].grid(True)\n",
    "    # change y-axis name \n",
    "    plt.yticks(xn,variables)\n",
    "    # remove space between subplots \n",
    "    plt.subplots_adjust(wspace=0, hspace=0)\n",
    "    # set common xlabel     \n",
    "    fig.text(0.5, 0.0, 'Cluster Means', fontsize=12 , ha='center')\n",
    "    \n",
    "    plt.show()\n",
    "\n",
    "kmeans_plot(kmeans = kmeans, variables = var)\n"
   ]
  },
  {
   "cell_type": "code",
   "execution_count": 52,
   "metadata": {
    "button": false,
    "collapsed": false,
    "deletable": true,
    "new_sheet": false,
    "run_control": {
     "read_only": false
    }
   },
   "outputs": [
    {
     "data": {
      "image/png": "[encoded data removed]",
      "text/plain": [
       "<matplotlib.figure.Figure at 0x11cf48828>"
      ]
     },
     "metadata": {},
     "output_type": "display_data"
    }
   ],
   "source": [
    "kmeans = cluster.KMeans(n_clusters=3)\n",
    "# scale data \n",
    "kmeans.fit(preprocessing.scale(features))\n",
    "\n",
    "var = features.columns\n",
    "kmeans_plot(kmeans = kmeans, variables = var)"
   ]
  },
  {
   "cell_type": "code",
   "execution_count": 14,
   "metadata": {
    "button": false,
    "collapsed": false,
    "deletable": true,
    "new_sheet": false,
    "run_control": {
     "read_only": false
    }
   },
   "outputs": [
    {
     "data": {
      "image/png": "[encoded data removed]",
      "text/plain": [
       "<matplotlib.figure.Figure at 0x112bb3390>"
      ]
     },
     "metadata": {},
     "output_type": "display_data"
    }
   ],
   "source": [
    "kmeans = cluster.KMeans(n_clusters=3)\n",
    "# scale data \n",
    "kmeans.fit(preprocessing.scale(features))\n",
    "var = features.columns\n",
    "\n",
    "def kmeans_plot(kmeans, variables): \n",
    "    # centroids \n",
    "    center = kmeans.cluster_centers_\n",
    "    # number of clusters \n",
    "    k = kmeans.n_clusters\n",
    "    # cluster size \n",
    "    cluster_size = (pd.Series(kmeans.labels_)).value_counts().sort_index()\n",
    "    # for categorical plotting \n",
    "    xn = range(len(variables))\n",
    "    # init plots \n",
    "    fig, axes = plt.subplots(1,k, sharey=True, sharex=True)\n",
    "    # number of plots = number of clusters \n",
    "    for i in range(k):\n",
    "        # scatter plot \n",
    "        axes[i].scatter(center[i],xn,s=50)\n",
    "        # Title \n",
    "        axes[i].set_title('Cluster ' + str(i+1))\n",
    "        # \n",
    "        axes[i].set_xlabel('Size: ' + str(cluster_size[i]))\n",
    "        # Grid \n",
    "        axes[i].grid(True)\n",
    "        axes[i].set_facecolor('whitesmoke')\n",
    "    # change y-axis name \n",
    "    plt.yticks(xn,variables)\n",
    "    # remove space between subplots \n",
    "    plt.subplots_adjust(wspace=0, hspace=0)\n",
    "    # set common xlabel     \n",
    "    fig.text(0.5, -0.05, 'Cluster Means', fontsize=12, ha='center')\n",
    "    #fig.set_facecolor(\"black\")\n",
    "\n",
    "    plt.show()\n",
    "\n",
    "kmeans_plot(kmeans = kmeans, variables = var)"
   ]
  },
  {
   "cell_type": "code",
   "execution_count": 30,
   "metadata": {
    "button": false,
    "collapsed": false,
    "deletable": true,
    "new_sheet": false,
    "run_control": {
     "read_only": false
    }
   },
   "outputs": [
    {
     "data": {
      "image/png": "[encoded data removed]",
      "text/plain": [
       "<matplotlib.figure.Figure at 0x1129c44a8>"
      ]
     },
     "metadata": {},
     "output_type": "display_data"
    }
   ],
   "source": [
    "kmeans = cluster.KMeans(n_clusters=3)\n",
    "# scale data \n",
    "kmeans.fit(preprocessing.scale(features))\n",
    "var = features.columns\n",
    "\n",
    "def kmeans_plot(kmeans, variables): \n",
    "    # centroids \n",
    "    center = kmeans.cluster_centers_\n",
    "    # number of clusters \n",
    "    k = kmeans.n_clusters\n",
    "    # cluster size \n",
    "    cluster_size = (pd.Series(kmeans.labels_)).value_counts().sort_index()\n",
    "    # for categorical plotting \n",
    "    xn = range(len(variables))\n",
    "    # init plots \n",
    "    fig, axes = plt.subplots(1,k, sharey=True, sharex=True)\n",
    "    # number of plots = number of clusters \n",
    "    for i in range(k):\n",
    "        # scatter plot \n",
    "        axes[i].scatter(center[i],xn,s=50)\n",
    "        # Title \n",
    "        axes[i].set_title('      Cluster %d     ' % (i+1), fontweight='bold',bbox={'facecolor':'gold', 'alpha':0.5, 'pad':2.9})\n",
    "        # \n",
    "        axes[i].set_xlabel('Size: ' + str(cluster_size[i]))\n",
    "        # Grid \n",
    "        axes[i].grid(True)\n",
    "        axes[i].set_facecolor('whitesmoke')\n",
    "    # change y-axis name \n",
    "    plt.yticks(xn,variables)\n",
    "    # remove space between subplots \n",
    "    plt.subplots_adjust(wspace=0, hspace=0)\n",
    "    # set common xlabel     \n",
    "    fig.text(0.5, -0.05, 'Cluster Means', fontsize=12, ha='center')\n",
    "    #fig.set_facecolor(\"black\")\n",
    "\n",
    "    plt.show()\n",
    "\n",
    "kmeans_plot(kmeans = kmeans, variables = var)"
   ]
  },
  {
   "cell_type": "code",
   "execution_count": null,
   "metadata": {
    "button": false,
    "collapsed": true,
    "deletable": true,
    "new_sheet": false,
    "run_control": {
     "read_only": false
    }
   },
   "outputs": [],
   "source": [
    "# final \n",
    "def kmeans_plot(data,k): \n",
    "    '''\n",
    "    Visualize cluster means     \n",
    "    Data is usually the data using aggregator without the first column \n",
    "    '''\n",
    "    # get rid of first column \n",
    "    data = data.iloc[:,1:]\n",
    "    \n",
    "    # to be y-axis \n",
    "    variables = data.columns\n",
    "    \n",
    "    # init kmeans model \n",
    "    kmeans = cluster.KMeans(n_clusters=k)\n",
    "    # scale data \n",
    "    data = preprocessing.scale(data,axis=0)\n",
    "    kmeans.fit((data))\n",
    "    \n",
    "    # centroids \n",
    "    center = kmeans.cluster_centers_\n",
    "    # number of clusters \n",
    "    k = kmeans.n_clusters\n",
    "    # cluster size \n",
    "    cluster_size = (pd.Series(kmeans.labels_)).value_counts().sort_index()\n",
    "    # for categorical plotting \n",
    "    xn = range(len(variables))\n",
    "    # init plots \n",
    "    fig, axes = plt.subplots(1,k, sharey=True, sharex=True,figsize=(7, 5))\n",
    "\n",
    "\n",
    "    # number of plots = number of clusters \n",
    "    for i in range(k):\n",
    "        # scatter plot \n",
    "        axes[i].scatter(center[i],xn,s=50)\n",
    "        # Title \n",
    "        #axes[i].set_title('      Cluster %d     ' % (i+1), fontweight='bold',bbox={'facecolor':'gold', 'alpha':0.5, 'pad':2.9})\n",
    "        axes[i].set_title('      Cluster %d     ' % (i), fontweight='bold')\n",
    "        # \n",
    "        axes[i].set_xlabel('Size: ' + str(cluster_size[i]))\n",
    "        # Grid \n",
    "        axes[i].grid(True)\n",
    "        axes[i].set_facecolor('whitesmoke')\n",
    "    # change y-axis name \n",
    "    plt.yticks(xn,variables)\n",
    "    # remove space between subplots \n",
    "    plt.subplots_adjust(wspace=0, hspace=0)\n",
    "    # set common xlabel     \n",
    "    fig.text(0.5, -0.05, 'Cluster Means', fontsize=12, ha='center')\n",
    "    #fig.set_facecolor(\"black\")\n",
    "\n",
    "    plt.show()\n",
    "    \n",
    "    return kmeans "
   ]
  },
  {
   "cell_type": "markdown",
   "metadata": {
    "button": false,
    "deletable": true,
    "new_sheet": false,
    "run_control": {
     "read_only": false
    }
   },
   "source": [
    "# Data Aggregation\n",
    "\n",
    "Useful is the data has too many features "
   ]
  },
  {
   "cell_type": "code",
   "execution_count": null,
   "metadata": {
    "button": false,
    "collapsed": true,
    "deletable": true,
    "new_sheet": false,
    "run_control": {
     "read_only": false
    }
   },
   "outputs": [],
   "source": [
    "def aggregator(data, number_of_splits, method): \n",
    "    '''\n",
    "    split the data array into equal sized buckets \n",
    "    and combine them with 'method' like mean or median \n",
    "    '''\n",
    "    # split the volumes, ignore the first column \n",
    "    chunks = np.array_split(data.columns[1:], number_of_splits)\n",
    "    # drop NAs \n",
    "    data = data.dropna(axis=0)\n",
    "    # extract first column or init dataframe; need to change according to your dataset \n",
    "    data_combined =  #data['super_link'] #data.loc[:,('super_link')] # data['super_link]\n",
    "    # get the means for each time chunk \n",
    "    for i in range(len(chunks)):\n",
    "        temp_df = data.loc[:,(chunks[i])]\n",
    "        temp_df['time_bucket_'+ str(i+1)] = temp_df.apply(method, axis=1)    \n",
    "        data_combined = pd.concat([data_combined,temp_df['time_bucket_'+ str(i+1)]], axis=1)\n",
    "    \n",
    "    print('data_combined.shape: ' + str(data_combined.shape))\n",
    "    print('data_combined.head: ' + str(data_combined.head(3)))\n",
    "    \n",
    "    return data_combined\n",
    "\n",
    "# example of using aggregator \n",
    "#data_combined = aggregator(data_vol, number_of_splits=4, method = np.median)\n"
   ]
  },
  {
   "cell_type": "code",
   "execution_count": null,
   "metadata": {
    "button": false,
    "collapsed": true,
    "deletable": true,
    "new_sheet": false,
    "run_control": {
     "read_only": false
    }
   },
   "outputs": [],
   "source": []
  },
  {
   "cell_type": "markdown",
   "metadata": {
    "button": false,
    "deletable": true,
    "new_sheet": false,
    "run_control": {
     "read_only": false
    }
   },
   "source": [
    "# Appendeix\n",
    "Ignore the codes below"
   ]
  },
  {
   "cell_type": "code",
   "execution_count": 61,
   "metadata": {
    "button": false,
    "collapsed": false,
    "deletable": true,
    "new_sheet": false,
    "run_control": {
     "read_only": false
    }
   },
   "outputs": [
    {
     "data": {
      "text/plain": [
       "0    50\n",
       "1    53\n",
       "2    47\n",
       "dtype: int64"
      ]
     },
     "execution_count": 61,
     "metadata": {},
     "output_type": "execute_result"
    }
   ],
   "source": [
    "cluster_size = (pd.Series(kmeans.labels_)).value_counts().sort_index()\n",
    "cluster_size"
   ]
  },
  {
   "cell_type": "code",
   "execution_count": 25,
   "metadata": {
    "button": false,
    "collapsed": false,
    "deletable": true,
    "new_sheet": false,
    "run_control": {
     "read_only": false
    }
   },
   "outputs": [
    {
     "data": {
      "text/plain": [
       "['sepal length (cm)',\n",
       " 'sepal width (cm)',\n",
       " 'petal length (cm)',\n",
       " 'petal width (cm)']"
      ]
     },
     "execution_count": 25,
     "metadata": {},
     "output_type": "execute_result"
    }
   ],
   "source": [
    "var = list(features.columns)\n",
    "var"
   ]
  },
  {
   "cell_type": "code",
   "execution_count": 16,
   "metadata": {
    "button": false,
    "collapsed": false,
    "deletable": true,
    "new_sheet": false,
    "run_control": {
     "read_only": false
    }
   },
   "outputs": [
    {
     "data": {
      "text/plain": [
       "array([ 5.006,  3.418,  1.464,  0.244])"
      ]
     },
     "execution_count": 16,
     "metadata": {},
     "output_type": "execute_result"
    }
   ],
   "source": [
    "center = kmeans.cluster_centers_\n",
    "center[0]\n"
   ]
  },
  {
   "cell_type": "code",
   "execution_count": 40,
   "metadata": {
    "button": false,
    "collapsed": false,
    "deletable": true,
    "new_sheet": false,
    "run_control": {
     "read_only": false
    },
    "scrolled": false
   },
   "outputs": [
    {
     "data": {
      "image/png": "[encoded data removed]",
      "text/plain": [
       "<matplotlib.figure.Figure at 0x1174fb438>"
      ]
     },
     "metadata": {},
     "output_type": "display_data"
    }
   ],
   "source": [
    "var = ['sepal length (cm)',\n",
    " 'sepal width (cm)',\n",
    " 'petal length (cm)',\n",
    " 'petal width (cm)']\n",
    "\n",
    "xn = range(len(var))\n",
    "plt.scatter(xn,center[0])\n",
    "plt.xticks(xn, var) \n",
    "plt.show()"
   ]
  },
  {
   "cell_type": "code",
   "execution_count": 46,
   "metadata": {
    "button": false,
    "collapsed": false,
    "deletable": true,
    "new_sheet": false,
    "run_control": {
     "read_only": false
    }
   },
   "outputs": [
    {
     "data": {
      "image/png": "[encoded data removed]",
      "text/plain": [
       "<matplotlib.figure.Figure at 0x117c33240>"
      ]
     },
     "metadata": {},
     "output_type": "display_data"
    }
   ],
   "source": [
    "var = ['sepal length (cm)',\n",
    " 'sepal width (cm)',\n",
    " 'petal length (cm)',\n",
    " 'petal width (cm)']\n",
    "\n",
    "xn = range(len(var))\n",
    "plt.scatter(center[0],xn)\n",
    "#plt.yticks(var,xn)\n",
    "plt.yticks(xn,var)\n",
    "plt.show()"
   ]
  },
  {
   "cell_type": "code",
   "execution_count": 72,
   "metadata": {
    "button": false,
    "collapsed": false,
    "deletable": true,
    "new_sheet": false,
    "run_control": {
     "read_only": false
    }
   },
   "outputs": [
    {
     "data": {
      "image/png": "[encoded data removed]",
      "text/plain": [
       "<matplotlib.figure.Figure at 0x117d0edd8>"
      ]
     },
     "metadata": {},
     "output_type": "display_data"
    }
   ],
   "source": [
    "plt.subplot(1, 2, 1)\n",
    "\n",
    "xn = range(len(var))\n",
    "plt.scatter(center[0],xn)\n",
    "plt.yticks(xn,var)\n",
    "\n",
    "plt.subplot(1, 2, 2)\n",
    "\n",
    "xn = range(len(var))\n",
    "plt.scatter(center[1],xn)\n",
    "plt.yticks(xn,var)\n",
    "\n",
    "plt.show()"
   ]
  },
  {
   "cell_type": "code",
   "execution_count": 78,
   "metadata": {
    "button": false,
    "collapsed": false,
    "deletable": true,
    "new_sheet": false,
    "run_control": {
     "read_only": false
    }
   },
   "outputs": [
    {
     "data": {
      "image/png": "[encoded data removed]",
      "text/plain": [
       "<matplotlib.figure.Figure at 0x117c64ef0>"
      ]
     },
     "metadata": {},
     "output_type": "display_data"
    }
   ],
   "source": [
    "fig, axes = plt.subplots(1,2, sharey=True, sharex=True)\n",
    "\n",
    "axes[0].scatter(center[0],xn)\n",
    "#axes[0].yticks(xn,var)\n",
    "\n",
    "axes[1].scatter(center[1],xn)\n",
    "#axes[1].yticks(xn,var)\n",
    "\n",
    "plt.yticks(xn,var)\n",
    "plt.show()\n"
   ]
  },
  {
   "cell_type": "code",
   "execution_count": 90,
   "metadata": {
    "button": false,
    "collapsed": false,
    "deletable": true,
    "new_sheet": false,
    "run_control": {
     "read_only": false
    }
   },
   "outputs": [
    {
     "data": {
      "image/png": "[encoded data removed]",
      "text/plain": [
       "<matplotlib.figure.Figure at 0x117b79668>"
      ]
     },
     "metadata": {},
     "output_type": "display_data"
    }
   ],
   "source": [
    "fig, axes = plt.subplots(1,3, sharey=True, sharex=True)\n",
    "\n",
    "for i in range(3):\n",
    "    \n",
    "    axes[i].scatter(center[i],xn)\n",
    "    axes[i].set_title('Cluster ' + str(i+1))\n",
    "    axes[i].grid(True)\n",
    "    \n",
    "plt.yticks(xn,var)\n",
    "plt.subplots_adjust(wspace=0, hspace=0)\n",
    "#plt.grid(True)\n",
    "plt.show()"
   ]
  },
  {
   "cell_type": "code",
   "execution_count": 22,
   "metadata": {
    "button": false,
    "collapsed": false,
    "deletable": true,
    "new_sheet": false,
    "run_control": {
     "read_only": false
    }
   },
   "outputs": [
    {
     "data": {
      "text/plain": [
       "<bound method KMeans.fit of KMeans(algorithm='auto', copy_x=True, init='k-means++', max_iter=300,\n",
       "    n_clusters=3, n_init=10, n_jobs=1, precompute_distances='auto',\n",
       "    random_state=None, tol=0.0001, verbose=0)>"
      ]
     },
     "execution_count": 22,
     "metadata": {},
     "output_type": "execute_result"
    }
   ],
   "source": []
  },
  {
   "cell_type": "code",
   "execution_count": 93,
   "metadata": {
    "button": false,
    "collapsed": false,
    "deletable": true,
    "new_sheet": false,
    "run_control": {
     "read_only": false
    }
   },
   "outputs": [
    {
     "data": {
      "image/png": "[encoded data removed]",
      "text/plain": [
       "<matplotlib.figure.Figure at 0x117290dd8>"
      ]
     },
     "metadata": {},
     "output_type": "display_data"
    }
   ],
   "source": [
    "def kmeans_plot(kmeans, variables): \n",
    "    \n",
    "    center = kmeans.cluster_centers_\n",
    "    k = kmeans.n_clusters\n",
    "    xn = range(len(variables))\n",
    "    \n",
    "    fig, axes = plt.subplots(1,k, sharey=True, sharex=True)\n",
    "\n",
    "    for i in range(k):\n",
    "\n",
    "        axes[i].scatter(center[i],xn)\n",
    "        axes[i].set_title('Cluster ' + str(i+1))\n",
    "        axes[i].grid(True)\n",
    "\n",
    "    plt.yticks(xn,variables)\n",
    "    plt.subplots_adjust(wspace=0, hspace=0)\n",
    "    #plt.grid(True)\n",
    "    \n",
    "    plt.show()\n",
    "\n",
    "kmeans_plot(kmeans = kmeans, variables = var)\n",
    "    "
   ]
  },
  {
   "cell_type": "code",
   "execution_count": 94,
   "metadata": {
    "button": false,
    "collapsed": false,
    "deletable": true,
    "new_sheet": false,
    "run_control": {
     "read_only": false
    }
   },
   "outputs": [
    {
     "data": {
      "text/plain": [
       "array([50, 62, 38])"
      ]
     },
     "execution_count": 94,
     "metadata": {},
     "output_type": "execute_result"
    }
   ],
   "source": [
    "np.bincount(kmeans.labels_)"
   ]
  },
  {
   "cell_type": "code",
   "execution_count": 95,
   "metadata": {
    "button": false,
    "collapsed": false,
    "deletable": true,
    "new_sheet": false,
    "run_control": {
     "read_only": false
    }
   },
   "outputs": [
    {
     "data": {
      "text/plain": [
       "1    62\n",
       "0    50\n",
       "2    38\n",
       "dtype: int64"
      ]
     },
     "execution_count": 95,
     "metadata": {},
     "output_type": "execute_result"
    }
   ],
   "source": [
    "pd.Series(kmeans.labels_).value_counts()"
   ]
  },
  {
   "cell_type": "markdown",
   "metadata": {
    "button": false,
    "deletable": true,
    "new_sheet": false,
    "run_control": {
     "read_only": false
    }
   },
   "source": [
    "## Kmeans using Numpy"
   ]
  },
  {
   "cell_type": "markdown",
   "metadata": {
    "button": false,
    "collapsed": true,
    "deletable": true,
    "new_sheet": false,
    "run_control": {
     "read_only": false
    }
   },
   "source": [
    "source: http://stamfordresearch.com/k-means-clustering-in-python/"
   ]
  },
  {
   "cell_type": "code",
   "execution_count": null,
   "metadata": {
    "button": false,
    "collapsed": true,
    "deletable": true,
    "new_sheet": false,
    "run_control": {
     "read_only": false
    }
   },
   "outputs": [],
   "source": []
  }
 ],
 "metadata": {
  "kernelspec": {
   "display_name": "Python 3",
   "language": "python",
   "name": "python3"
  },
  "language_info": {
   "codemirror_mode": {
    "name": "ipython",
    "version": 3
   },
   "file_extension": ".py",
   "mimetype": "text/x-python",
   "name": "python",
   "nbconvert_exporter": "python",
   "pygments_lexer": "ipython3",
   "version": "3.5.0"
  }
 },
 "nbformat": 4,
 "nbformat_minor": 2
}
