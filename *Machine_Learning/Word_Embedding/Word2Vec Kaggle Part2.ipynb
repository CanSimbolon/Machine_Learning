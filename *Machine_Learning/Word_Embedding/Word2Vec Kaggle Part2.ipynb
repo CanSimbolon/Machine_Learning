{
 "cells": [
  {
   "cell_type": "markdown",
   "metadata": {
    "toc": true
   },
   "source": [
    "<h1>Table of Contents<span class=\"tocSkip\"></span></h1>\n",
    "<div class=\"toc\"><ul class=\"toc-item\"><li><span><a href=\"#Introducing-Distributed-Word-Vectors\" data-toc-modified-id=\"Introducing-Distributed-Word-Vectors-1\"><span class=\"toc-item-num\">1&nbsp;&nbsp;</span>Introducing Distributed Word Vectors</a></span></li><li><span><a href=\"#Training-and-Saving-Your-Model\" data-toc-modified-id=\"Training-and-Saving-Your-Model-2\"><span class=\"toc-item-num\">2&nbsp;&nbsp;</span>Training and Saving Your Model</a></span></li><li><span><a href=\"#Exploring-the-Model-Results\" data-toc-modified-id=\"Exploring-the-Model-Results-3\"><span class=\"toc-item-num\">3&nbsp;&nbsp;</span>Exploring the Model Results</a></span></li><li><span><a href=\"#Numeric-Representations-of-Words\" data-toc-modified-id=\"Numeric-Representations-of-Words-4\"><span class=\"toc-item-num\">4&nbsp;&nbsp;</span>Numeric Representations of Words</a></span></li><li><span><a href=\"#From-Words-To-Paragraphs,-Attempt-1:-Vector-Averaging\" data-toc-modified-id=\"From-Words-To-Paragraphs,-Attempt-1:-Vector-Averaging-5\"><span class=\"toc-item-num\">5&nbsp;&nbsp;</span>From Words To Paragraphs, Attempt 1: Vector Averaging</a></span></li><li><span><a href=\"#From-Words-to-Paragraphs,-Attempt-2:-Clustering\" data-toc-modified-id=\"From-Words-to-Paragraphs,-Attempt-2:-Clustering-6\"><span class=\"toc-item-num\">6&nbsp;&nbsp;</span>From Words to Paragraphs, Attempt 2: Clustering</a></span></li></ul></div>"
   ]
  },
  {
   "cell_type": "markdown",
   "metadata": {
    "button": false,
    "new_sheet": false,
    "run_control": {
     "read_only": false
    }
   },
   "source": [
    "source: https://www.kaggle.com/c/word2vec-nlp-tutorial#part-2-word-vectors"
   ]
  },
  {
   "cell_type": "markdown",
   "metadata": {
    "button": false,
    "new_sheet": false,
    "run_control": {
     "read_only": false
    }
   },
   "source": [
    "## Introducing Distributed Word Vectors\n",
    "\n",
    "Now down to the nitty-gritty! First, we read in the data with pandas, as we did in Part 1. Unlike Part 1, we now use unlabeledTrain.tsv, which contains 50,000 additional reviews with no labels. When we built the Bag of Words model in Part 1, extra unlabeled training reviews were not useful. However, since Word2Vec can learn from unlabeled data, these extra 50,000 reviews can now be used.\n",
    "\n",
    "\n"
   ]
  },
  {
   "cell_type": "code",
   "execution_count": 3,
   "metadata": {
    "button": false,
    "new_sheet": false,
    "run_control": {
     "read_only": false
    }
   },
   "outputs": [
    {
     "name": "stdout",
     "output_type": "stream",
     "text": [
      "Read 25000 labeled train reviews, 25000 labeled test reviews, and 50000 unlabeled reviews\n",
      "\n"
     ]
    }
   ],
   "source": [
    "import pandas as pd\n",
    "\n",
    "# Read data from files \n",
    "train = pd.read_csv( \"data/labeledTrainData.tsv\", header=0, \n",
    " delimiter=\"\\t\", quoting=3 )\n",
    "\n",
    "test = pd.read_csv( \"data/testData.tsv\", header=0, delimiter=\"\\t\", quoting=3 )\n",
    "\n",
    "unlabeled_train = pd.read_csv( \"data/unlabeledTrainData.tsv\", header=0, \n",
    " delimiter=\"\\t\", quoting=3 )\n",
    "\n",
    "# Verify the number of reviews that were read (100,000 in total)\n",
    "print (\"Read %d labeled train reviews, %d labeled test reviews, \" \\\n",
    " \"and %d unlabeled reviews\\n\" % (train[\"review\"].size,  \n",
    " test[\"review\"].size, unlabeled_train[\"review\"].size ))"
   ]
  },
  {
   "cell_type": "markdown",
   "metadata": {
    "button": false,
    "new_sheet": false,
    "run_control": {
     "read_only": false
    }
   },
   "source": [
    "The functions we write to clean the data are also similar to Part 1, although now there are a couple of differences. First, to train Word2Vec it is better not to remove stop words because the algorithm relies on the broader context of the sentence in order to produce high-quality word vectors. For this reason, we will make stop word removal optional in the functions below. It also might be better not to remove numbers, but we leave that as an exercise for the reader.\n",
    "\n"
   ]
  },
  {
   "cell_type": "code",
   "execution_count": 4,
   "metadata": {
    "button": false,
    "collapsed": true,
    "new_sheet": false,
    "run_control": {
     "read_only": false
    }
   },
   "outputs": [],
   "source": [
    "# Import various modules for string cleaning\n",
    "from bs4 import BeautifulSoup\n",
    "import re\n",
    "from nltk.corpus import stopwords\n",
    "\n",
    "def review_to_wordlist( review, remove_stopwords=False ):\n",
    "    # Function to convert a document to a sequence of words,\n",
    "    # optionally removing stop words.  Returns a list of words.\n",
    "    #\n",
    "    # 1. Remove HTML\n",
    "    review_text = BeautifulSoup(review,\"lxml\").get_text()\n",
    "    #  \n",
    "    # 2. Remove non-letters\n",
    "    review_text = re.sub(\"[^a-zA-Z]\",\" \", review_text)\n",
    "    #\n",
    "    # 3. Convert words to lower case and split them\n",
    "    words = review_text.lower().split()\n",
    "    #\n",
    "    # 4. Optionally remove stop words (false by default)\n",
    "    if remove_stopwords:\n",
    "        stops = set(stopwords.words(\"english\"))\n",
    "        words = [w for w in words if not w in stops]\n",
    "    #\n",
    "    # 5. Return a list of words\n",
    "    return(words)"
   ]
  },
  {
   "cell_type": "markdown",
   "metadata": {
    "button": false,
    "new_sheet": false,
    "run_control": {
     "read_only": false
    }
   },
   "source": [
    "Next, we want a specific input format. Word2Vec expects single sentences, each one as a list of words. In other words, the input format is a list of lists.\n",
    "\n",
    "It is not at all straightforward how to split a paragraph into sentences. There are all kinds of gotchas in natural language. English sentences can end with \"?\", \"!\", \"\"\", or \".\", among other things, and spacing and capitalization are not reliable guides either. For this reason, we'll use NLTK's punkt tokenizer for sentence splitting. In order to use this, you will need to install NLTK and use nltk.download() to download the relevant training file for punkt."
   ]
  },
  {
   "cell_type": "code",
   "execution_count": 5,
   "metadata": {
    "button": false,
    "new_sheet": false,
    "run_control": {
     "read_only": false
    }
   },
   "outputs": [],
   "source": [
    "# Download the punkt tokenizer for sentence splitting\n",
    "import nltk.data\n",
    "#nltk.download()   \n",
    "\n",
    "# Load the punkt tokenizer\n",
    "tokenizer = nltk.data.load('tokenizers/punkt/english.pickle')\n",
    "\n",
    "# Define a function to split a review into parsed sentences\n",
    "def review_to_sentences( review, tokenizer, remove_stopwords=False ):\n",
    "    # Function to split a review into parsed sentences. Returns a \n",
    "    # list of sentences, where each sentence is a list of words\n",
    "    #\n",
    "    # 1. Use the NLTK tokenizer to split the paragraph into sentences\n",
    "    raw_sentences = tokenizer.tokenize(review.strip())\n",
    "    #\n",
    "    # 2. Loop over each sentence\n",
    "    sentences = []\n",
    "    for raw_sentence in raw_sentences:\n",
    "        # If a sentence is empty, skip it\n",
    "        if len(raw_sentence) > 0:\n",
    "            # Otherwise, call review_to_wordlist to get a list of words\n",
    "            sentences.append( review_to_wordlist( raw_sentence, \\\n",
    "              remove_stopwords ))\n",
    "    #\n",
    "    # Return the list of sentences (each sentence is a list of words,\n",
    "    # so this returns a list of lists\n",
    "    return sentences"
   ]
  },
  {
   "cell_type": "code",
   "execution_count": 6,
   "metadata": {
    "button": false,
    "new_sheet": false,
    "run_control": {
     "read_only": false
    }
   },
   "outputs": [
    {
     "name": "stdout",
     "output_type": "stream",
     "text": [
      "Parsing sentences from training set\n"
     ]
    },
    {
     "name": "stderr",
     "output_type": "stream",
     "text": [
      "/Users/inshique/anaconda/lib/python3.6/site-packages/bs4/__init__.py:219: UserWarning: \"b'.'\" looks like a filename, not markup. You shouldprobably open this file and pass the filehandle intoBeautiful Soup.\n",
      "  'Beautiful Soup.' % markup)\n",
      "/Users/inshique/anaconda/lib/python3.6/site-packages/bs4/__init__.py:282: UserWarning: \"http://www.happierabroad.com\"\" looks like a URL. Beautiful Soup is not an HTTP client. You should probably use an HTTP client like requests to get the document behind the URL, and feed that document to Beautiful Soup.\n",
      "  ' that document to Beautiful Soup.' % decoded_markup\n"
     ]
    },
    {
     "name": "stdout",
     "output_type": "stream",
     "text": [
      "Parsing sentences from unlabeled set\n"
     ]
    },
    {
     "name": "stderr",
     "output_type": "stream",
     "text": [
      "/Users/inshique/anaconda/lib/python3.6/site-packages/bs4/__init__.py:282: UserWarning: \"http://www.archive.org/details/LovefromaStranger\"\" looks like a URL. Beautiful Soup is not an HTTP client. You should probably use an HTTP client like requests to get the document behind the URL, and feed that document to Beautiful Soup.\n",
      "  ' that document to Beautiful Soup.' % decoded_markup\n",
      "/Users/inshique/anaconda/lib/python3.6/site-packages/bs4/__init__.py:282: UserWarning: \"http://www.loosechangeguide.com/LooseChangeGuide.html\"\" looks like a URL. Beautiful Soup is not an HTTP client. You should probably use an HTTP client like requests to get the document behind the URL, and feed that document to Beautiful Soup.\n",
      "  ' that document to Beautiful Soup.' % decoded_markup\n",
      "/Users/inshique/anaconda/lib/python3.6/site-packages/bs4/__init__.py:282: UserWarning: \"http://www.msnbc.msn.com/id/4972055/site/newsweek/\"\" looks like a URL. Beautiful Soup is not an HTTP client. You should probably use an HTTP client like requests to get the document behind the URL, and feed that document to Beautiful Soup.\n",
      "  ' that document to Beautiful Soup.' % decoded_markup\n",
      "/Users/inshique/anaconda/lib/python3.6/site-packages/bs4/__init__.py:219: UserWarning: \"b'..'\" looks like a filename, not markup. You shouldprobably open this file and pass the filehandle intoBeautiful Soup.\n",
      "  'Beautiful Soup.' % markup)\n",
      "/Users/inshique/anaconda/lib/python3.6/site-packages/bs4/__init__.py:282: UserWarning: \"http://www.youtube.com/watch?v=a0KSqelmgN8\"\" looks like a URL. Beautiful Soup is not an HTTP client. You should probably use an HTTP client like requests to get the document behind the URL, and feed that document to Beautiful Soup.\n",
      "  ' that document to Beautiful Soup.' % decoded_markup\n",
      "/Users/inshique/anaconda/lib/python3.6/site-packages/bs4/__init__.py:282: UserWarning: \"http://jake-weird.blogspot.com/2007/08/beneath.html\"\" looks like a URL. Beautiful Soup is not an HTTP client. You should probably use an HTTP client like requests to get the document behind the URL, and feed that document to Beautiful Soup.\n",
      "  ' that document to Beautiful Soup.' % decoded_markup\n"
     ]
    }
   ],
   "source": [
    "sentences = []  # Initialize an empty list of sentences\n",
    "\n",
    "print (\"Parsing sentences from training set\")\n",
    "for review in train[\"review\"]:\n",
    "    sentences += review_to_sentences(review, tokenizer)\n",
    "\n",
    "print (\"Parsing sentences from unlabeled set\")\n",
    "for review in unlabeled_train[\"review\"]:\n",
    "    sentences += review_to_sentences(review, tokenizer)\n",
    "\n",
    "# A minor detail to note is the difference between the \"+=\" and \"append\" when it comes to Python lists. In many applications the two are interchangeable, but here they are not. If you are appending a list of lists to another list of lists, \"append\" will only append the first list; you need to use \"+=\" in order to join all of the lists at once."
   ]
  },
  {
   "cell_type": "code",
   "execution_count": 7,
   "metadata": {
    "button": false,
    "new_sheet": false,
    "run_control": {
     "read_only": false
    }
   },
   "outputs": [
    {
     "name": "stdout",
     "output_type": "stream",
     "text": [
      "795538\n"
     ]
    }
   ],
   "source": [
    "# Check how many sentences we have in total - should be around 850,000+\n",
    "print (len(sentences))"
   ]
  },
  {
   "cell_type": "code",
   "execution_count": 8,
   "metadata": {
    "button": false,
    "new_sheet": false,
    "run_control": {
     "read_only": false
    }
   },
   "outputs": [
    {
     "name": "stdout",
     "output_type": "stream",
     "text": [
      "['with', 'all', 'this', 'stuff', 'going', 'down', 'at', 'the', 'moment', 'with', 'mj', 'i', 've', 'started', 'listening', 'to', 'his', 'music', 'watching', 'the', 'odd', 'documentary', 'here', 'and', 'there', 'watched', 'the', 'wiz', 'and', 'watched', 'moonwalker', 'again']\n",
      "['maybe', 'i', 'just', 'want', 'to', 'get', 'a', 'certain', 'insight', 'into', 'this', 'guy', 'who', 'i', 'thought', 'was', 'really', 'cool', 'in', 'the', 'eighties', 'just', 'to', 'maybe', 'make', 'up', 'my', 'mind', 'whether', 'he', 'is', 'guilty', 'or', 'innocent']\n"
     ]
    }
   ],
   "source": [
    "print (sentences[0])\n",
    "print (sentences[1])"
   ]
  },
  {
   "cell_type": "markdown",
   "metadata": {
    "button": false,
    "new_sheet": false,
    "run_control": {
     "read_only": false
    }
   },
   "source": [
    "## Training and Saving Your Model\n",
    "\n",
    "- **Architecture**: Architecture options are skip-gram (default) or continuous bag of words. We found that skip-gram was very slightly slower but produced better results.\n",
    "- Training algorithm: Hierarchical softmax (default) or negative sampling. For us, the default worked well.\n",
    "- Downsampling of frequent words: The Google documentation recommends values between .00001 and .001. For us, values closer 0.001 seemed to improve the accuracy of the final model.\n",
    "- Word vector dimensionality: More features result in longer runtimes, and often, but not always, result in better models. Reasonable values can be in the tens to hundreds; we used 300.\n",
    "- Context / window size: How many words of context should the training algorithm take into account? 10 seems to work well for hierarchical softmax (more is better, up to a point).\n",
    "- Worker threads: Number of parallel processes to run. This is computer-specific, but between 4 and 6 should work on most systems.\n",
    "- Minimum word count: This helps limit the size of the vocabulary to meaningful words. Any word that does not occur at least this many times across all documents is ignored. Reasonable values could be between 10 and 100. In this case, since each movie occurs 30 times, we set the minimum word count to 40, to avoid attaching too much importance to individual movie titles. This resulted in an overall vocabulary size of around 15,000 words. Higher values also help limit run time.\n"
   ]
  },
  {
   "cell_type": "code",
   "execution_count": 9,
   "metadata": {
    "button": false,
    "new_sheet": false,
    "run_control": {
     "read_only": false
    }
   },
   "outputs": [
    {
     "name": "stderr",
     "output_type": "stream",
     "text": [
      "2017-03-31 11:56:07,911 : INFO : 'pattern' package not found; tag filters are not available for English\n",
      "2017-03-31 11:56:07,938 : INFO : collecting all words and their counts\n",
      "2017-03-31 11:56:07,939 : INFO : PROGRESS: at sentence #0, processed 0 words, keeping 0 word types\n",
      "2017-03-31 11:56:07,989 : INFO : PROGRESS: at sentence #10000, processed 225803 words, keeping 17776 word types\n",
      "2017-03-31 11:56:08,046 : INFO : PROGRESS: at sentence #20000, processed 451892 words, keeping 24948 word types\n",
      "2017-03-31 11:56:08,097 : INFO : PROGRESS: at sentence #30000, processed 671315 words, keeping 30034 word types\n"
     ]
    },
    {
     "name": "stdout",
     "output_type": "stream",
     "text": [
      "Training model...\n"
     ]
    },
    {
     "name": "stderr",
     "output_type": "stream",
     "text": [
      "2017-03-31 11:56:08,151 : INFO : PROGRESS: at sentence #40000, processed 897815 words, keeping 34348 word types\n",
      "2017-03-31 11:56:08,210 : INFO : PROGRESS: at sentence #50000, processed 1116963 words, keeping 37761 word types\n",
      "2017-03-31 11:56:08,264 : INFO : PROGRESS: at sentence #60000, processed 1338404 words, keeping 40723 word types\n",
      "2017-03-31 11:56:08,319 : INFO : PROGRESS: at sentence #70000, processed 1561580 words, keeping 43333 word types\n",
      "2017-03-31 11:56:08,377 : INFO : PROGRESS: at sentence #80000, processed 1780887 words, keeping 45714 word types\n",
      "2017-03-31 11:56:08,427 : INFO : PROGRESS: at sentence #90000, processed 2004996 words, keeping 48135 word types\n",
      "2017-03-31 11:56:08,480 : INFO : PROGRESS: at sentence #100000, processed 2226966 words, keeping 50207 word types\n",
      "2017-03-31 11:56:08,531 : INFO : PROGRESS: at sentence #110000, processed 2446580 words, keeping 52081 word types\n",
      "2017-03-31 11:56:08,586 : INFO : PROGRESS: at sentence #120000, processed 2668775 words, keeping 54119 word types\n",
      "2017-03-31 11:56:08,637 : INFO : PROGRESS: at sentence #130000, processed 2894303 words, keeping 55847 word types\n",
      "2017-03-31 11:56:08,689 : INFO : PROGRESS: at sentence #140000, processed 3107005 words, keeping 57346 word types\n",
      "2017-03-31 11:56:08,745 : INFO : PROGRESS: at sentence #150000, processed 3332627 words, keeping 59055 word types\n",
      "2017-03-31 11:56:08,799 : INFO : PROGRESS: at sentence #160000, processed 3555315 words, keeping 60617 word types\n",
      "2017-03-31 11:56:08,855 : INFO : PROGRESS: at sentence #170000, processed 3778655 words, keeping 62077 word types\n",
      "2017-03-31 11:56:08,910 : INFO : PROGRESS: at sentence #180000, processed 3999236 words, keeping 63496 word types\n",
      "2017-03-31 11:56:08,965 : INFO : PROGRESS: at sentence #190000, processed 4224449 words, keeping 64794 word types\n",
      "2017-03-31 11:56:09,020 : INFO : PROGRESS: at sentence #200000, processed 4448603 words, keeping 66087 word types\n",
      "2017-03-31 11:56:09,073 : INFO : PROGRESS: at sentence #210000, processed 4669967 words, keeping 67390 word types\n",
      "2017-03-31 11:56:09,133 : INFO : PROGRESS: at sentence #220000, processed 4894968 words, keeping 68697 word types\n",
      "2017-03-31 11:56:09,181 : INFO : PROGRESS: at sentence #230000, processed 5117545 words, keeping 69958 word types\n",
      "2017-03-31 11:56:09,240 : INFO : PROGRESS: at sentence #240000, processed 5345050 words, keeping 71167 word types\n",
      "2017-03-31 11:56:09,294 : INFO : PROGRESS: at sentence #250000, processed 5559165 words, keeping 72351 word types\n",
      "2017-03-31 11:56:09,348 : INFO : PROGRESS: at sentence #260000, processed 5779146 words, keeping 73478 word types\n",
      "2017-03-31 11:56:09,406 : INFO : PROGRESS: at sentence #270000, processed 6000435 words, keeping 74767 word types\n",
      "2017-03-31 11:56:09,462 : INFO : PROGRESS: at sentence #280000, processed 6226314 words, keeping 76369 word types\n",
      "2017-03-31 11:56:09,522 : INFO : PROGRESS: at sentence #290000, processed 6449474 words, keeping 77839 word types\n",
      "2017-03-31 11:56:09,580 : INFO : PROGRESS: at sentence #300000, processed 6674077 words, keeping 79171 word types\n",
      "2017-03-31 11:56:09,639 : INFO : PROGRESS: at sentence #310000, processed 6899391 words, keeping 80480 word types\n",
      "2017-03-31 11:56:09,693 : INFO : PROGRESS: at sentence #320000, processed 7124278 words, keeping 81808 word types\n",
      "2017-03-31 11:56:09,750 : INFO : PROGRESS: at sentence #330000, processed 7346021 words, keeping 83030 word types\n",
      "2017-03-31 11:56:09,808 : INFO : PROGRESS: at sentence #340000, processed 7575533 words, keeping 84280 word types\n",
      "2017-03-31 11:56:09,864 : INFO : PROGRESS: at sentence #350000, processed 7798803 words, keeping 85425 word types\n",
      "2017-03-31 11:56:09,917 : INFO : PROGRESS: at sentence #360000, processed 8019427 words, keeping 86596 word types\n",
      "2017-03-31 11:56:09,980 : INFO : PROGRESS: at sentence #370000, processed 8246619 words, keeping 87708 word types\n",
      "2017-03-31 11:56:10,038 : INFO : PROGRESS: at sentence #380000, processed 8471766 words, keeping 88878 word types\n",
      "2017-03-31 11:56:10,097 : INFO : PROGRESS: at sentence #390000, processed 8701497 words, keeping 89907 word types\n",
      "2017-03-31 11:56:10,145 : INFO : PROGRESS: at sentence #400000, processed 8924446 words, keeping 90916 word types\n",
      "2017-03-31 11:56:10,197 : INFO : PROGRESS: at sentence #410000, processed 9145796 words, keeping 91880 word types\n",
      "2017-03-31 11:56:10,247 : INFO : PROGRESS: at sentence #420000, processed 9366876 words, keeping 92912 word types\n",
      "2017-03-31 11:56:10,301 : INFO : PROGRESS: at sentence #430000, processed 9594413 words, keeping 93932 word types\n",
      "2017-03-31 11:56:10,361 : INFO : PROGRESS: at sentence #440000, processed 9821166 words, keeping 94906 word types\n",
      "2017-03-31 11:56:10,416 : INFO : PROGRESS: at sentence #450000, processed 10044928 words, keeping 96036 word types\n",
      "2017-03-31 11:56:10,470 : INFO : PROGRESS: at sentence #460000, processed 10277688 words, keeping 97088 word types\n",
      "2017-03-31 11:56:10,528 : INFO : PROGRESS: at sentence #470000, processed 10505613 words, keeping 97933 word types\n",
      "2017-03-31 11:56:10,581 : INFO : PROGRESS: at sentence #480000, processed 10725997 words, keeping 98862 word types\n",
      "2017-03-31 11:56:10,640 : INFO : PROGRESS: at sentence #490000, processed 10952741 words, keeping 99871 word types\n",
      "2017-03-31 11:56:10,690 : INFO : PROGRESS: at sentence #500000, processed 11174397 words, keeping 100765 word types\n",
      "2017-03-31 11:56:10,742 : INFO : PROGRESS: at sentence #510000, processed 11399672 words, keeping 101699 word types\n",
      "2017-03-31 11:56:10,793 : INFO : PROGRESS: at sentence #520000, processed 11623020 words, keeping 102598 word types\n",
      "2017-03-31 11:56:10,845 : INFO : PROGRESS: at sentence #530000, processed 11847418 words, keeping 103400 word types\n",
      "2017-03-31 11:56:10,893 : INFO : PROGRESS: at sentence #540000, processed 12072033 words, keeping 104265 word types\n",
      "2017-03-31 11:56:10,944 : INFO : PROGRESS: at sentence #550000, processed 12297571 words, keeping 105133 word types\n",
      "2017-03-31 11:56:10,998 : INFO : PROGRESS: at sentence #560000, processed 12518861 words, keeping 105997 word types\n",
      "2017-03-31 11:56:11,054 : INFO : PROGRESS: at sentence #570000, processed 12747916 words, keeping 106787 word types\n",
      "2017-03-31 11:56:11,112 : INFO : PROGRESS: at sentence #580000, processed 12969412 words, keeping 107665 word types\n",
      "2017-03-31 11:56:11,161 : INFO : PROGRESS: at sentence #590000, processed 13194937 words, keeping 108501 word types\n",
      "2017-03-31 11:56:11,217 : INFO : PROGRESS: at sentence #600000, processed 13417135 words, keeping 109218 word types\n",
      "2017-03-31 11:56:11,270 : INFO : PROGRESS: at sentence #610000, processed 13638158 words, keeping 110092 word types\n",
      "2017-03-31 11:56:11,327 : INFO : PROGRESS: at sentence #620000, processed 13864483 words, keeping 110837 word types\n",
      "2017-03-31 11:56:11,383 : INFO : PROGRESS: at sentence #630000, processed 14088769 words, keeping 111610 word types\n",
      "2017-03-31 11:56:11,439 : INFO : PROGRESS: at sentence #640000, processed 14309552 words, keeping 112416 word types\n",
      "2017-03-31 11:56:11,494 : INFO : PROGRESS: at sentence #650000, processed 14535308 words, keeping 113196 word types\n",
      "2017-03-31 11:56:11,547 : INFO : PROGRESS: at sentence #660000, processed 14758098 words, keeping 113945 word types\n",
      "2017-03-31 11:56:11,594 : INFO : PROGRESS: at sentence #670000, processed 14981482 words, keeping 114643 word types\n",
      "2017-03-31 11:56:11,648 : INFO : PROGRESS: at sentence #680000, processed 15206314 words, keeping 115354 word types\n",
      "2017-03-31 11:56:11,698 : INFO : PROGRESS: at sentence #690000, processed 15428507 words, keeping 116131 word types\n",
      "2017-03-31 11:56:11,754 : INFO : PROGRESS: at sentence #700000, processed 15657213 words, keeping 116943 word types\n",
      "2017-03-31 11:56:11,812 : INFO : PROGRESS: at sentence #710000, processed 15880202 words, keeping 117596 word types\n",
      "2017-03-31 11:56:11,868 : INFO : PROGRESS: at sentence #720000, processed 16105489 words, keeping 118221 word types\n",
      "2017-03-31 11:56:11,925 : INFO : PROGRESS: at sentence #730000, processed 16331870 words, keeping 118954 word types\n",
      "2017-03-31 11:56:11,978 : INFO : PROGRESS: at sentence #740000, processed 16552903 words, keeping 119668 word types\n",
      "2017-03-31 11:56:12,031 : INFO : PROGRESS: at sentence #750000, processed 16771230 words, keeping 120295 word types\n",
      "2017-03-31 11:56:12,087 : INFO : PROGRESS: at sentence #760000, processed 16990622 words, keeping 120930 word types\n",
      "2017-03-31 11:56:12,150 : INFO : PROGRESS: at sentence #770000, processed 17217759 words, keeping 121703 word types\n",
      "2017-03-31 11:56:12,209 : INFO : PROGRESS: at sentence #780000, processed 17447905 words, keeping 122402 word types\n",
      "2017-03-31 11:56:12,263 : INFO : PROGRESS: at sentence #790000, processed 17674981 words, keeping 123066 word types\n",
      "2017-03-31 11:56:12,294 : INFO : collected 123504 word types from a corpus of 17798082 raw words and 795538 sentences\n",
      "2017-03-31 11:56:12,295 : INFO : Loading a fresh vocabulary\n",
      "2017-03-31 11:56:12,404 : INFO : min_count=40 retains 16490 unique words (13% of original 123504, drops 107014)\n",
      "2017-03-31 11:56:12,405 : INFO : min_count=40 leaves 17238940 word corpus (96% of original 17798082, drops 559142)\n",
      "2017-03-31 11:56:12,489 : INFO : deleting the raw counts dictionary of 123504 items\n",
      "2017-03-31 11:56:12,493 : INFO : sample=0.001 downsamples 48 most-common words\n",
      "2017-03-31 11:56:12,495 : INFO : downsampling leaves estimated 12749658 word corpus (74.0% of prior 17238940)\n",
      "2017-03-31 11:56:12,495 : INFO : estimated required memory for 16490 words and 300 dimensions: 47821000 bytes\n",
      "2017-03-31 11:56:12,561 : INFO : resetting layer weights\n",
      "2017-03-31 11:56:12,966 : INFO : training model with 4 workers on 16490 vocabulary and 300 features, using sg=0 hs=0 sample=0.001 negative=5 window=10\n",
      "2017-03-31 11:56:12,967 : INFO : expecting 795538 sentences, matching count from corpus used for vocabulary survey\n",
      "2017-03-31 11:56:13,978 : INFO : PROGRESS: at 1.38% examples, 878045 words/s, in_qsize 7, out_qsize 0\n",
      "2017-03-31 11:56:14,984 : INFO : PROGRESS: at 2.79% examples, 880488 words/s, in_qsize 7, out_qsize 0\n",
      "2017-03-31 11:56:15,986 : INFO : PROGRESS: at 4.34% examples, 912599 words/s, in_qsize 7, out_qsize 0\n",
      "2017-03-31 11:56:16,992 : INFO : PROGRESS: at 5.88% examples, 929712 words/s, in_qsize 7, out_qsize 0\n",
      "2017-03-31 11:56:17,992 : INFO : PROGRESS: at 7.40% examples, 935242 words/s, in_qsize 7, out_qsize 0\n",
      "2017-03-31 11:56:18,992 : INFO : PROGRESS: at 8.75% examples, 923646 words/s, in_qsize 7, out_qsize 0\n",
      "2017-03-31 11:56:19,995 : INFO : PROGRESS: at 10.04% examples, 909844 words/s, in_qsize 8, out_qsize 0\n",
      "2017-03-31 11:56:21,002 : INFO : PROGRESS: at 11.41% examples, 904385 words/s, in_qsize 7, out_qsize 0\n",
      "2017-03-31 11:56:22,013 : INFO : PROGRESS: at 12.88% examples, 907676 words/s, in_qsize 7, out_qsize 0\n",
      "2017-03-31 11:56:23,021 : INFO : PROGRESS: at 14.23% examples, 902788 words/s, in_qsize 7, out_qsize 0\n",
      "2017-03-31 11:56:24,022 : INFO : PROGRESS: at 15.65% examples, 903158 words/s, in_qsize 8, out_qsize 0\n",
      "2017-03-31 11:56:25,030 : INFO : PROGRESS: at 16.97% examples, 897108 words/s, in_qsize 7, out_qsize 0\n",
      "2017-03-31 11:56:26,033 : INFO : PROGRESS: at 18.14% examples, 885694 words/s, in_qsize 7, out_qsize 0\n",
      "2017-03-31 11:56:27,040 : INFO : PROGRESS: at 19.49% examples, 883299 words/s, in_qsize 7, out_qsize 0\n",
      "2017-03-31 11:56:28,040 : INFO : PROGRESS: at 20.59% examples, 871670 words/s, in_qsize 7, out_qsize 0\n",
      "2017-03-31 11:56:29,047 : INFO : PROGRESS: at 21.93% examples, 869568 words/s, in_qsize 7, out_qsize 0\n",
      "2017-03-31 11:56:30,064 : INFO : PROGRESS: at 23.32% examples, 869338 words/s, in_qsize 7, out_qsize 0\n",
      "2017-03-31 11:56:31,069 : INFO : PROGRESS: at 24.69% examples, 868896 words/s, in_qsize 7, out_qsize 0\n",
      "2017-03-31 11:56:32,081 : INFO : PROGRESS: at 25.99% examples, 866228 words/s, in_qsize 7, out_qsize 0\n",
      "2017-03-31 11:56:33,092 : INFO : PROGRESS: at 27.25% examples, 862134 words/s, in_qsize 7, out_qsize 0\n",
      "2017-03-31 11:56:34,096 : INFO : PROGRESS: at 28.57% examples, 861464 words/s, in_qsize 7, out_qsize 0\n",
      "2017-03-31 11:56:35,097 : INFO : PROGRESS: at 29.91% examples, 861227 words/s, in_qsize 7, out_qsize 0\n",
      "2017-03-31 11:56:36,101 : INFO : PROGRESS: at 31.29% examples, 861856 words/s, in_qsize 7, out_qsize 0\n",
      "2017-03-31 11:56:37,103 : INFO : PROGRESS: at 32.67% examples, 862797 words/s, in_qsize 7, out_qsize 0\n",
      "2017-03-31 11:56:38,107 : INFO : PROGRESS: at 34.06% examples, 863592 words/s, in_qsize 7, out_qsize 0\n",
      "2017-03-31 11:56:39,113 : INFO : PROGRESS: at 35.42% examples, 863766 words/s, in_qsize 7, out_qsize 0\n",
      "2017-03-31 11:56:40,116 : INFO : PROGRESS: at 36.76% examples, 863173 words/s, in_qsize 7, out_qsize 0\n",
      "2017-03-31 11:56:41,118 : INFO : PROGRESS: at 38.12% examples, 863464 words/s, in_qsize 7, out_qsize 0\n",
      "2017-03-31 11:56:42,119 : INFO : PROGRESS: at 39.49% examples, 863728 words/s, in_qsize 7, out_qsize 0\n",
      "2017-03-31 11:56:43,128 : INFO : PROGRESS: at 40.80% examples, 862600 words/s, in_qsize 7, out_qsize 0\n",
      "2017-03-31 11:56:44,129 : INFO : PROGRESS: at 42.24% examples, 864231 words/s, in_qsize 7, out_qsize 0\n",
      "2017-03-31 11:56:45,135 : INFO : PROGRESS: at 43.71% examples, 865882 words/s, in_qsize 7, out_qsize 0\n",
      "2017-03-31 11:56:46,140 : INFO : PROGRESS: at 45.03% examples, 865104 words/s, in_qsize 7, out_qsize 0\n",
      "2017-03-31 11:56:47,145 : INFO : PROGRESS: at 46.51% examples, 867058 words/s, in_qsize 7, out_qsize 0\n",
      "2017-03-31 11:56:48,150 : INFO : PROGRESS: at 47.99% examples, 869122 words/s, in_qsize 7, out_qsize 0\n",
      "2017-03-31 11:56:49,152 : INFO : PROGRESS: at 49.46% examples, 870929 words/s, in_qsize 8, out_qsize 0\n",
      "2017-03-31 11:56:50,158 : INFO : PROGRESS: at 50.87% examples, 871794 words/s, in_qsize 8, out_qsize 0\n",
      "2017-03-31 11:56:51,158 : INFO : PROGRESS: at 52.13% examples, 870104 words/s, in_qsize 7, out_qsize 0\n",
      "2017-03-31 11:56:52,162 : INFO : PROGRESS: at 53.56% examples, 871205 words/s, in_qsize 7, out_qsize 0\n",
      "2017-03-31 11:56:53,162 : INFO : PROGRESS: at 54.89% examples, 870718 words/s, in_qsize 7, out_qsize 0\n",
      "2017-03-31 11:56:54,169 : INFO : PROGRESS: at 56.29% examples, 870948 words/s, in_qsize 7, out_qsize 0\n",
      "2017-03-31 11:56:55,174 : INFO : PROGRESS: at 57.74% examples, 872244 words/s, in_qsize 7, out_qsize 0\n",
      "2017-03-31 11:56:56,175 : INFO : PROGRESS: at 59.22% examples, 873718 words/s, in_qsize 7, out_qsize 0\n",
      "2017-03-31 11:56:57,181 : INFO : PROGRESS: at 60.65% examples, 874706 words/s, in_qsize 7, out_qsize 0\n",
      "2017-03-31 11:56:58,185 : INFO : PROGRESS: at 62.12% examples, 875829 words/s, in_qsize 7, out_qsize 0\n",
      "2017-03-31 11:56:59,185 : INFO : PROGRESS: at 63.59% examples, 876998 words/s, in_qsize 7, out_qsize 0\n",
      "2017-03-31 11:57:00,190 : INFO : PROGRESS: at 64.95% examples, 876519 words/s, in_qsize 7, out_qsize 0\n",
      "2017-03-31 11:57:01,197 : INFO : PROGRESS: at 66.37% examples, 876878 words/s, in_qsize 7, out_qsize 0\n",
      "2017-03-31 11:57:02,201 : INFO : PROGRESS: at 67.75% examples, 876870 words/s, in_qsize 7, out_qsize 0\n",
      "2017-03-31 11:57:03,202 : INFO : PROGRESS: at 68.87% examples, 873625 words/s, in_qsize 7, out_qsize 0\n",
      "2017-03-31 11:57:04,208 : INFO : PROGRESS: at 69.73% examples, 867355 words/s, in_qsize 7, out_qsize 0\n",
      "2017-03-31 11:57:05,208 : INFO : PROGRESS: at 71.03% examples, 866621 words/s, in_qsize 7, out_qsize 0\n",
      "2017-03-31 11:57:06,210 : INFO : PROGRESS: at 72.11% examples, 863345 words/s, in_qsize 7, out_qsize 0\n",
      "2017-03-31 11:57:07,214 : INFO : PROGRESS: at 73.47% examples, 863447 words/s, in_qsize 7, out_qsize 0\n",
      "2017-03-31 11:57:08,217 : INFO : PROGRESS: at 74.79% examples, 863061 words/s, in_qsize 7, out_qsize 0\n",
      "2017-03-31 11:57:09,226 : INFO : PROGRESS: at 76.15% examples, 862955 words/s, in_qsize 7, out_qsize 0\n",
      "2017-03-31 11:57:10,227 : INFO : PROGRESS: at 77.46% examples, 862481 words/s, in_qsize 7, out_qsize 0\n",
      "2017-03-31 11:57:11,231 : INFO : PROGRESS: at 78.95% examples, 863948 words/s, in_qsize 7, out_qsize 0\n",
      "2017-03-31 11:57:12,233 : INFO : PROGRESS: at 80.28% examples, 863687 words/s, in_qsize 7, out_qsize 0\n",
      "2017-03-31 11:57:13,236 : INFO : PROGRESS: at 81.72% examples, 864500 words/s, in_qsize 7, out_qsize 0\n",
      "2017-03-31 11:57:14,237 : INFO : PROGRESS: at 83.17% examples, 865346 words/s, in_qsize 7, out_qsize 0\n",
      "2017-03-31 11:57:15,242 : INFO : PROGRESS: at 84.64% examples, 866307 words/s, in_qsize 7, out_qsize 0\n",
      "2017-03-31 11:57:16,247 : INFO : PROGRESS: at 86.10% examples, 867224 words/s, in_qsize 7, out_qsize 0\n",
      "2017-03-31 11:57:17,253 : INFO : PROGRESS: at 87.59% examples, 868331 words/s, in_qsize 8, out_qsize 0\n",
      "2017-03-31 11:57:18,256 : INFO : PROGRESS: at 88.89% examples, 867693 words/s, in_qsize 7, out_qsize 0\n",
      "2017-03-31 11:57:19,261 : INFO : PROGRESS: at 90.29% examples, 868141 words/s, in_qsize 7, out_qsize 0\n",
      "2017-03-31 11:57:20,261 : INFO : PROGRESS: at 91.62% examples, 867865 words/s, in_qsize 7, out_qsize 0\n",
      "2017-03-31 11:57:21,265 : INFO : PROGRESS: at 92.98% examples, 867880 words/s, in_qsize 7, out_qsize 0\n",
      "2017-03-31 11:57:22,267 : INFO : PROGRESS: at 94.21% examples, 866693 words/s, in_qsize 7, out_qsize 0\n",
      "2017-03-31 11:57:23,267 : INFO : PROGRESS: at 95.48% examples, 865849 words/s, in_qsize 7, out_qsize 0\n",
      "2017-03-31 11:57:24,272 : INFO : PROGRESS: at 96.81% examples, 865589 words/s, in_qsize 7, out_qsize 0\n",
      "2017-03-31 11:57:25,279 : INFO : PROGRESS: at 98.12% examples, 865108 words/s, in_qsize 7, out_qsize 0\n",
      "2017-03-31 11:57:26,297 : INFO : PROGRESS: at 99.40% examples, 864216 words/s, in_qsize 7, out_qsize 0\n",
      "2017-03-31 11:57:26,710 : INFO : worker thread finished; awaiting finish of 3 more threads\n",
      "2017-03-31 11:57:26,717 : INFO : worker thread finished; awaiting finish of 2 more threads\n",
      "2017-03-31 11:57:26,729 : INFO : worker thread finished; awaiting finish of 1 more threads\n",
      "2017-03-31 11:57:26,732 : INFO : worker thread finished; awaiting finish of 0 more threads\n",
      "2017-03-31 11:57:26,733 : INFO : training on 88990410 raw words (63752135 effective words) took 73.8s, 864334 effective words/s\n",
      "2017-03-31 11:57:26,734 : INFO : precomputing L2-norms of word weight vectors\n",
      "2017-03-31 11:57:26,936 : INFO : saving Word2Vec object under 300features_40minwords_10context, separately None\n",
      "2017-03-31 11:57:26,937 : INFO : not storing attribute syn0norm\n",
      "2017-03-31 11:57:26,938 : INFO : not storing attribute cum_table\n",
      "2017-03-31 11:57:27,645 : INFO : saved 300features_40minwords_10context\n"
     ]
    }
   ],
   "source": [
    "# Import the built-in logging module and configure it so that Word2Vec \n",
    "# creates nice output messages\n",
    "import logging\n",
    "logging.basicConfig(format='%(asctime)s : %(levelname)s : %(message)s',\\\n",
    "    level=logging.INFO)\n",
    "\n",
    "# Set values for various parameters\n",
    "num_features = 300    # Word vector dimensionality                      \n",
    "min_word_count = 40   # Minimum word count                        \n",
    "num_workers = 4       # Number of threads to run in parallel\n",
    "context = 10          # Context window size                                                                                    \n",
    "downsampling = 1e-3   # Downsample setting for frequent words\n",
    "\n",
    "# Initialize and train the model (this will take some time)\n",
    "from gensim.models import word2vec\n",
    "print (\"Training model...\")\n",
    "model = word2vec.Word2Vec(sentences, workers=num_workers, \\\n",
    "            size=num_features, min_count = min_word_count, \\\n",
    "            window = context, sample = downsampling)\n",
    "\n",
    "# If you don't plan to train the model any further, calling \n",
    "# init_sims will make the model much more memory-efficient.\n",
    "model.init_sims(replace=True)\n",
    "\n",
    "# It can be helpful to create a meaningful model name and \n",
    "# save the model for later use. You can load it later using Word2Vec.load()\n",
    "model_name = \"300features_40minwords_10context\"\n",
    "model.save(model_name)"
   ]
  },
  {
   "cell_type": "markdown",
   "metadata": {
    "button": false,
    "new_sheet": false,
    "run_control": {
     "read_only": false
    }
   },
   "source": [
    "If you are on a Mac or Linux system, you can use the \"top\" command from within Terminal (not from within Python) to see if your system is successfully parallelizing while the model is training. Type\n",
    "\n"
   ]
  },
  {
   "cell_type": "code",
   "execution_count": 10,
   "metadata": {
    "button": false,
    "new_sheet": false,
    "run_control": {
     "read_only": false
    }
   },
   "outputs": [],
   "source": [
    "#!top -o cpu "
   ]
  },
  {
   "cell_type": "markdown",
   "metadata": {
    "button": false,
    "new_sheet": false,
    "run_control": {
     "read_only": false
    }
   },
   "source": [
    "## Exploring the Model Results\n",
    "\n",
    "Congratulations on making it successfully through everything so far! Let's take a look at the model we created out of our 75,000 training reviews.\n",
    "\n",
    "The \"doesnt_match\" function will try to deduce which word in a set is most dissimilar from the others:\n",
    "\n"
   ]
  },
  {
   "cell_type": "code",
   "execution_count": 11,
   "metadata": {
    "button": false,
    "new_sheet": false,
    "run_control": {
     "read_only": false
    }
   },
   "outputs": [
    {
     "data": {
      "text/plain": [
       "'kitchen'"
      ]
     },
     "execution_count": 11,
     "metadata": {},
     "output_type": "execute_result"
    }
   ],
   "source": [
    "model.doesnt_match(\"man woman child kitchen\".split())"
   ]
  },
  {
   "cell_type": "markdown",
   "metadata": {
    "button": false,
    "new_sheet": false,
    "run_control": {
     "read_only": false
    }
   },
   "source": [
    "Our model is capable of distinguishing differences in meaning! It knows that men, women and children are more similar to each other than they are to kitchens. More exploration shows that the model is sensitive to more subtle differences in meaning, such as differences between countries and cities:\n",
    "\n"
   ]
  },
  {
   "cell_type": "code",
   "execution_count": 12,
   "metadata": {
    "button": false,
    "new_sheet": false,
    "run_control": {
     "read_only": false
    }
   },
   "outputs": [
    {
     "data": {
      "text/plain": [
       "'berlin'"
      ]
     },
     "execution_count": 12,
     "metadata": {},
     "output_type": "execute_result"
    }
   ],
   "source": [
    "model.doesnt_match(\"france england germany berlin\".split())\n"
   ]
  },
  {
   "cell_type": "code",
   "execution_count": 13,
   "metadata": {
    "button": false,
    "new_sheet": false,
    "run_control": {
     "read_only": false
    }
   },
   "outputs": [
    {
     "data": {
      "text/plain": [
       "'paris'"
      ]
     },
     "execution_count": 13,
     "metadata": {},
     "output_type": "execute_result"
    }
   ],
   "source": [
    "model.doesnt_match(\"paris berlin london austria\".split())"
   ]
  },
  {
   "cell_type": "markdown",
   "metadata": {
    "button": false,
    "new_sheet": false,
    "run_control": {
     "read_only": false
    }
   },
   "source": [
    "We can also use the \"most_similar\" function to get insight into the model's word clusters:\n",
    "\n"
   ]
  },
  {
   "cell_type": "code",
   "execution_count": 14,
   "metadata": {
    "button": false,
    "new_sheet": false,
    "run_control": {
     "read_only": false
    }
   },
   "outputs": [
    {
     "data": {
      "text/plain": [
       "[('woman', 0.6147068738937378),\n",
       " ('lad', 0.6082320213317871),\n",
       " ('lady', 0.5901197791099548),\n",
       " ('monk', 0.5194621086120605),\n",
       " ('chap', 0.5161230564117432),\n",
       " ('guy', 0.5109291672706604),\n",
       " ('person', 0.5100181698799133),\n",
       " ('farmer', 0.5035187005996704),\n",
       " ('widow', 0.4974830150604248),\n",
       " ('businessman', 0.49612903594970703)]"
      ]
     },
     "execution_count": 14,
     "metadata": {},
     "output_type": "execute_result"
    }
   ],
   "source": [
    "model.most_similar(\"man\")"
   ]
  },
  {
   "cell_type": "code",
   "execution_count": 15,
   "metadata": {
    "button": false,
    "new_sheet": false,
    "run_control": {
     "read_only": false
    }
   },
   "outputs": [
    {
     "data": {
      "text/plain": [
       "[('princess', 0.660820484161377),\n",
       " ('bride', 0.6360553503036499),\n",
       " ('maid', 0.6038008332252502),\n",
       " ('eva', 0.5977911949157715),\n",
       " ('duchess', 0.5974718332290649),\n",
       " ('belle', 0.5914064645767212),\n",
       " ('victoria', 0.5819592475891113),\n",
       " ('angela', 0.5788499116897583),\n",
       " ('showgirl', 0.5780096650123596),\n",
       " ('maria', 0.5723618865013123)]"
      ]
     },
     "execution_count": 15,
     "metadata": {},
     "output_type": "execute_result"
    }
   ],
   "source": [
    "model.most_similar(\"queen\")"
   ]
  },
  {
   "cell_type": "code",
   "execution_count": 41,
   "metadata": {
    "button": false,
    "new_sheet": false,
    "run_control": {
     "read_only": false
    }
   },
   "outputs": [
    {
     "data": {
      "text/plain": [
       "[('terrible', 0.7751122713088989),\n",
       " ('atrocious', 0.7426633834838867),\n",
       " ('horrible', 0.7383997440338135),\n",
       " ('dreadful', 0.7098507881164551),\n",
       " ('abysmal', 0.6990411877632141),\n",
       " ('horrendous', 0.6727656126022339),\n",
       " ('horrid', 0.6714054346084595),\n",
       " ('appalling', 0.671180784702301),\n",
       " ('lousy', 0.6432656049728394),\n",
       " ('amateurish', 0.6219732165336609)]"
      ]
     },
     "execution_count": 41,
     "metadata": {},
     "output_type": "execute_result"
    }
   ],
   "source": [
    "model.most_similar(\"awful\")"
   ]
  },
  {
   "cell_type": "code",
   "execution_count": 44,
   "metadata": {
    "button": false,
    "new_sheet": false,
    "run_control": {
     "read_only": false
    }
   },
   "outputs": [
    {
     "data": {
      "text/plain": [
       "[('novel', 0.7439521551132202),\n",
       " ('books', 0.7401041984558105),\n",
       " ('novels', 0.5317251682281494),\n",
       " ('manga', 0.5278310775756836),\n",
       " ('poem', 0.4906112551689148),\n",
       " ('relief', 0.4516502022743225),\n",
       " ('text', 0.4481984078884125),\n",
       " ('description', 0.44743192195892334),\n",
       " ('review', 0.4395514726638794),\n",
       " ('adaptation', 0.43863749504089355)]"
      ]
     },
     "execution_count": 44,
     "metadata": {},
     "output_type": "execute_result"
    }
   ],
   "source": [
    "model.most_similar(\"book\")"
   ]
  },
  {
   "cell_type": "code",
   "execution_count": 17,
   "metadata": {
    "button": false,
    "new_sheet": false,
    "run_control": {
     "read_only": false
    }
   },
   "outputs": [
    {
     "data": {
      "text/plain": [
       "(16490, 300)"
      ]
     },
     "execution_count": 17,
     "metadata": {},
     "output_type": "execute_result"
    }
   ],
   "source": [
    "model.syn1neg.shape"
   ]
  },
  {
   "cell_type": "code",
   "execution_count": null,
   "metadata": {
    "button": false,
    "collapsed": true,
    "new_sheet": false,
    "run_control": {
     "read_only": false
    }
   },
   "outputs": [],
   "source": []
  },
  {
   "cell_type": "markdown",
   "metadata": {
    "button": false,
    "new_sheet": false,
    "run_control": {
     "read_only": false
    }
   },
   "source": [
    "# Part 3"
   ]
  },
  {
   "cell_type": "markdown",
   "metadata": {
    "button": false,
    "new_sheet": false,
    "run_control": {
     "read_only": false
    }
   },
   "source": [
    "## Numeric Representations of Words\n",
    "\n",
    "Now that we have a trained model with some semantic understanding of words, how should we use it? If you look beneath the hood, the Word2Vec model trained in Part 2 consists of a feature vector for each word in the vocabulary, stored in a numpy array called \"syn0\":\n",
    "\n",
    "The number of rows in syn0 is the number of words in the model's vocabulary, and the number of columns corresponds to the size of the feature vector, which we set in Part 2.  Setting the minimum word count to 40 gave us a total vocabulary of 16,492 words with 300 features apiece. Individual word vectors can be accessed in the following way:\n",
    "\n",
    "\n"
   ]
  },
  {
   "cell_type": "code",
   "execution_count": 18,
   "metadata": {
    "button": false,
    "new_sheet": false,
    "run_control": {
     "read_only": false
    }
   },
   "outputs": [
    {
     "name": "stderr",
     "output_type": "stream",
     "text": [
      "2017-03-31 11:57:27,725 : INFO : loading Word2Vec object from 300features_40minwords_10context\n",
      "2017-03-31 11:57:28,093 : INFO : loading wv recursively from 300features_40minwords_10context.wv.* with mmap=None\n",
      "2017-03-31 11:57:28,094 : INFO : setting ignored attribute syn0norm to None\n",
      "2017-03-31 11:57:28,095 : INFO : setting ignored attribute cum_table to None\n",
      "2017-03-31 11:57:28,096 : INFO : loaded 300features_40minwords_10context\n"
     ]
    }
   ],
   "source": [
    "# Load the model that we created in Part 2\n",
    "from gensim.models import Word2Vec\n",
    "model = Word2Vec.load(\"300features_40minwords_10context\")\n",
    "\n"
   ]
  },
  {
   "cell_type": "code",
   "execution_count": 19,
   "metadata": {
    "button": false,
    "new_sheet": false,
    "run_control": {
     "read_only": false
    }
   },
   "outputs": [
    {
     "data": {
      "text/plain": [
       "numpy.ndarray"
      ]
     },
     "execution_count": 19,
     "metadata": {},
     "output_type": "execute_result"
    }
   ],
   "source": [
    "type(model.syn1neg)\n",
    "\n"
   ]
  },
  {
   "cell_type": "code",
   "execution_count": 20,
   "metadata": {
    "button": false,
    "new_sheet": false,
    "run_control": {
     "read_only": false
    }
   },
   "outputs": [
    {
     "data": {
      "text/plain": [
       "(16490, 300)"
      ]
     },
     "execution_count": 20,
     "metadata": {},
     "output_type": "execute_result"
    }
   ],
   "source": [
    "model.syn1neg.shape"
   ]
  },
  {
   "cell_type": "code",
   "execution_count": 21,
   "metadata": {
    "button": false,
    "new_sheet": false,
    "run_control": {
     "read_only": false
    },
    "scrolled": true
   },
   "outputs": [
    {
     "data": {
      "text/plain": [
       "array([  6.28269091e-02,   8.58594012e-03,   4.59386557e-02,\n",
       "         1.51881836e-02,   5.19080684e-02,   1.25920132e-01,\n",
       "        -5.71398512e-02,  -9.91477221e-02,  -1.72796529e-02,\n",
       "         1.84542798e-02,   1.50005659e-02,  -7.92571809e-03,\n",
       "         2.76399963e-03,   8.26712996e-02,  -5.04959095e-03,\n",
       "        -3.66797261e-02,   5.57049364e-02,   2.05569919e-02,\n",
       "         7.70074204e-02,   9.71768424e-02,  -1.09034948e-01,\n",
       "         3.65568399e-02,   3.30877528e-02,  -1.51858047e-01,\n",
       "         6.57621101e-02,  -6.93912581e-02,  -1.44826155e-02,\n",
       "        -8.16756263e-02,   1.93370041e-02,   1.16986141e-01,\n",
       "        -6.41599968e-02,   7.07110986e-02,   3.54566276e-02,\n",
       "        -9.57761332e-03,   3.83535540e-03,  -6.46142066e-02,\n",
       "        -2.50983052e-02,   6.05249368e-02,   6.22640178e-03,\n",
       "         2.95700226e-02,  -1.24974832e-01,  -6.54374510e-02,\n",
       "        -3.15378839e-03,   2.23963968e-02,   2.91006882e-02,\n",
       "        -5.18014953e-02,  -1.63815036e-01,   1.64826829e-02,\n",
       "        -2.34758686e-02,   3.80913913e-02,  -6.97426572e-02,\n",
       "         9.26390365e-02,  -6.33701608e-02,  -6.62311912e-02,\n",
       "        -5.09865098e-02,  -2.06929132e-01,   6.62952811e-02,\n",
       "        -1.16750649e-04,  -5.02249561e-02,  -3.77199352e-02,\n",
       "         6.27637329e-03,   1.88041031e-02,  -1.17870055e-01,\n",
       "         5.20198755e-02,  -1.59305155e-01,   1.12605594e-01,\n",
       "         7.16889184e-03,  -1.80499796e-02,  -1.02111846e-02,\n",
       "        -2.99983826e-02,  -2.15148255e-02,   2.81989388e-02,\n",
       "         3.21708620e-02,  -5.81236091e-03,  -2.23935489e-02,\n",
       "         1.53006539e-02,  -5.25262617e-02,   2.40941420e-02,\n",
       "         2.99530011e-02,  -2.50874627e-02,   2.50306204e-02,\n",
       "         7.48988334e-03,  -6.29046280e-03,  -7.15236068e-02,\n",
       "        -6.48072595e-03,  -2.24044174e-02,   8.66786540e-02,\n",
       "         5.27929030e-02,   7.85831809e-02,  -5.16498350e-02,\n",
       "        -6.06311252e-03,  -1.36294793e-02,  -3.20933235e-04,\n",
       "         2.28329301e-02,  -1.41220829e-02,   5.51190116e-02,\n",
       "        -5.06456792e-02,   9.85927060e-02,  -1.94255784e-01,\n",
       "         1.69221982e-02,  -9.78039764e-03,   2.30060406e-02,\n",
       "         4.02163975e-02,  -1.23557216e-02,  -7.18559884e-03,\n",
       "        -8.41182172e-02,  -1.77377090e-02,   4.65288199e-02,\n",
       "         3.50692533e-02,   1.91333436e-03,  -2.73971707e-02,\n",
       "        -3.42921019e-02,   2.33442970e-02,   4.06390708e-03,\n",
       "        -2.71248613e-02,  -4.21245629e-03,   3.40441689e-02,\n",
       "         1.40211388e-01,  -3.59096527e-02,  -7.63314590e-02,\n",
       "         1.81573350e-03,   9.19518471e-02,  -5.33570861e-03,\n",
       "        -2.50273310e-02,   3.54210325e-02,  -3.85183692e-02,\n",
       "        -1.12162041e-03,  -6.24195002e-02,  -1.08186333e-02,\n",
       "         7.18111321e-02,   3.48974876e-02,   1.68961268e-02,\n",
       "        -2.13003228e-03,   5.43251969e-02,   1.13781683e-01,\n",
       "        -5.12660891e-02,   4.45855781e-02,  -1.04123233e-02,\n",
       "        -9.67148542e-02,   5.51969744e-02,   3.43293548e-02,\n",
       "         6.50904700e-02,   3.68676819e-02,   9.20286551e-02,\n",
       "         2.78231800e-02,  -1.20145725e-02,  -9.48898345e-02,\n",
       "         4.33782823e-02,   1.28169805e-02,   6.08436801e-02,\n",
       "        -1.06479794e-01,  -8.44592825e-02,  -9.49864089e-02,\n",
       "         5.08482233e-02,   6.41670227e-02,   1.19898301e-02,\n",
       "        -2.78330613e-02,  -1.61959734e-02,   5.30759199e-03,\n",
       "        -3.37356254e-02,  -4.93587479e-02,   3.83473113e-02,\n",
       "        -7.04098567e-02,   1.91419467e-03,  -6.34620339e-02,\n",
       "         4.93909791e-02,   4.91124280e-02,   7.07846414e-03,\n",
       "        -4.65202220e-02,  -2.78305728e-02,   1.08922301e-02,\n",
       "        -7.91027173e-02,  -5.93920937e-03,  -6.17858693e-02,\n",
       "        -5.33862710e-02,  -4.22700867e-02,  -5.89768142e-02,\n",
       "         6.97738603e-02,  -1.46901952e-02,   1.33731412e-02,\n",
       "        -3.64899002e-02,   5.52862883e-04,  -6.50189072e-02,\n",
       "        -1.13022313e-01,  -7.61161447e-02,  -2.12341417e-02,\n",
       "         2.15870943e-02,   6.20055944e-02,   3.95113416e-02,\n",
       "        -6.22542128e-02,  -9.38717425e-02,   3.05705443e-02,\n",
       "        -2.21447032e-02,  -1.36945006e-02,  -9.77010280e-02,\n",
       "         1.92816127e-02,  -9.29464772e-03,  -4.02613543e-02,\n",
       "        -1.62267443e-02,   3.25341634e-02,   7.60582695e-03,\n",
       "        -2.01323144e-02,   3.04949433e-02,   5.96815683e-02,\n",
       "         1.72692128e-02,  -4.78846319e-02,   1.16138672e-02,\n",
       "         2.43743658e-02,  -9.03558061e-02,   7.82750621e-02,\n",
       "         1.48464320e-02,  -1.66006805e-03,  -4.00686264e-02,\n",
       "         4.10232618e-02,  -2.02975869e-02,   6.22477494e-02,\n",
       "        -7.14798123e-02,  -3.14343832e-02,  -1.39754908e-02,\n",
       "        -8.42669830e-02,   9.68658254e-02,   1.27881644e-02,\n",
       "         1.43998712e-02,  -9.11671109e-03,   4.22913283e-02,\n",
       "         1.49219995e-02,   3.40306833e-02,   7.16753602e-02,\n",
       "         6.01613522e-02,  -1.98937841e-02,  -2.10556667e-02,\n",
       "        -3.74775752e-02,   9.42132026e-02,  -2.76061837e-02,\n",
       "        -2.77782492e-02,   3.66383940e-02,   7.14769363e-02,\n",
       "        -1.60390697e-02,   8.69799033e-03,   7.85373002e-02,\n",
       "         1.34520736e-02,   6.78556412e-02,  -3.12589146e-02,\n",
       "         9.71664414e-02,   1.49790673e-02,  -3.79192233e-02,\n",
       "         2.75374074e-02,   1.35826752e-01,   4.03524153e-02,\n",
       "         3.25541496e-02,  -4.30784672e-02,   7.01502413e-02,\n",
       "        -1.25482440e-01,  -1.04333637e-02,   8.61592963e-02,\n",
       "        -1.90993724e-03,  -2.28981115e-02,  -5.07443622e-02,\n",
       "        -1.84121523e-02,   8.43439549e-02,   1.16908416e-01,\n",
       "        -2.36292817e-02,  -3.79766561e-02,  -6.22378364e-02,\n",
       "        -6.75516725e-02,   3.11619006e-02,   1.39452955e-02,\n",
       "         2.13469733e-02,   4.58853319e-02,   2.46164072e-02,\n",
       "        -6.97577223e-02,  -6.74832910e-02,  -8.86367261e-03,\n",
       "        -2.44007260e-02,  -3.16390861e-03,   4.88831587e-02,\n",
       "        -2.99285054e-02,  -3.91654894e-02,   3.08396127e-02,\n",
       "        -1.18425556e-01,   1.86538883e-02,  -4.70010564e-02,\n",
       "        -4.53294581e-03,  -3.31330933e-02,   6.44020587e-02,\n",
       "        -5.14416955e-02,  -8.57902132e-03,  -7.25104213e-02,\n",
       "        -7.36259809e-03,   7.22160563e-02,  -3.23095582e-02,\n",
       "         8.55423585e-02,   1.32835522e-01,   6.66768774e-02,\n",
       "        -8.25342238e-02,  -6.29077852e-02,  -3.48831154e-02,\n",
       "         7.45267421e-02,   2.99577806e-02,   7.44288564e-02], dtype=float32)"
      ]
     },
     "execution_count": 21,
     "metadata": {},
     "output_type": "execute_result"
    }
   ],
   "source": [
    "model[\"flower\"]"
   ]
  },
  {
   "cell_type": "markdown",
   "metadata": {
    "button": false,
    "new_sheet": false,
    "run_control": {
     "read_only": false
    }
   },
   "source": [
    "## From Words To Paragraphs, Attempt 1: Vector Averaging\n",
    "\n",
    "One challenge with the IMDB dataset is the variable-length reviews. We need to find a way to take individual word vectors and transform them into a feature set that is the same length for every review.\n",
    "\n",
    "Since each word is a vector in 300-dimensional space, we can use vector operations to combine the words in each review. One method we tried was to simply average the word vectors in a given review (for this purpose, we removed stop words, which would just add noise).\n",
    "\n",
    "The following code averages the feature vectors, building on our code from Part 2. \n",
    "\n",
    "\n"
   ]
  },
  {
   "cell_type": "code",
   "execution_count": 26,
   "metadata": {
    "button": false,
    "collapsed": true,
    "new_sheet": false,
    "run_control": {
     "read_only": false
    }
   },
   "outputs": [],
   "source": [
    "import numpy as np  # Make sure that numpy is imported\n",
    "\n",
    "def makeFeatureVec(words, model, num_features):\n",
    "    \n",
    "    #print(\"in makefeature vec\")\n",
    "    # Function to average all of the word vectors in a given\n",
    "    # paragraph\n",
    "    #\n",
    "    # Pre-initialize an empty numpy array (for speed)\n",
    "    featureVec = np.zeros((num_features,),dtype=\"float32\")\n",
    "    #\n",
    "    nwords = 0\n",
    "    # \n",
    "    # Index2word is a list that contains the names of the words in \n",
    "    # the model's vocabulary. Convert it to a set, for speed \n",
    "    index2word_set = set(model.wv.index2word)\n",
    "    #\n",
    "    # Loop over each word in the review and, if it is in the model's\n",
    "    # vocaublary, add its feature vector to the total\n",
    "    for word in words:\n",
    "        if word in index2word_set:\n",
    "#            print(word)\n",
    "            nwords = nwords + 1\n",
    "            featureVec = np.add(featureVec,model[word])\n",
    "    # \n",
    "    # Divide the result by the number of words to get the average\n",
    "    featureVec = np.divide(featureVec,nwords)\n",
    "    #print(\"featureVec\",featureVec)\n",
    "    return featureVec\n",
    "\n",
    "\n",
    "def getAvgFeatureVecs(reviews, model, num_features):\n",
    "    # Given a set of reviews (each one a list of words), calculate \n",
    "    # the average feature vector for each one and return a 2D numpy array \n",
    "    # \n",
    "    # Initialize a counter\n",
    "    counter = 0\n",
    "    # \n",
    "    # Preallocate a 2D numpy array, for speed\n",
    "    reviewFeatureVecs = np.zeros((len(reviews),num_features),dtype=\"float32\")\n",
    "    # (13526, 300)\n",
    "    \n",
    "    # Loop through the reviews\n",
    "    for review in reviews:\n",
    "        ##### PROBLEM HERE. SEEMS TO ONLY GO THROUGH FIRST REVIEW \n",
    "        \n",
    "#        print(\"in review\")\n",
    "        \n",
    "        #\n",
    "        # Print a status message every 1000th review\n",
    "        if counter%1000 == 0:\n",
    "            print (\"Review %d of %d\" % (counter, len(reviews)))\n",
    "        # \n",
    "        # Call the function (defined above) that makes average feature vectors\n",
    "        reviewFeatureVecs[counter] = makeFeatureVec(review, model, \\\n",
    "           num_features)\n",
    "        #\n",
    "        # Increment the counter\n",
    "        counter = counter + 1\n",
    "        #print(\"counter\" , counter)\n",
    "        \n",
    "    return reviewFeatureVecs"
   ]
  },
  {
   "cell_type": "code",
   "execution_count": 25,
   "metadata": {
    "button": false,
    "new_sheet": false,
    "run_control": {
     "read_only": false
    },
    "scrolled": true
   },
   "outputs": [
    {
     "data": {
      "text/plain": [
       "<function __main__.review_to_wordlist>"
      ]
     },
     "execution_count": 25,
     "metadata": {},
     "output_type": "execute_result"
    }
   ],
   "source": [
    "# train[\"review\"]\n",
    "review_to_wordlist"
   ]
  },
  {
   "cell_type": "markdown",
   "metadata": {
    "button": false,
    "new_sheet": false,
    "run_control": {
     "read_only": false
    }
   },
   "source": [
    "Now, we can call these functions to create average vectors for each paragraph. The following operations will take a few minutes:\n",
    "\n"
   ]
  },
  {
   "cell_type": "code",
   "execution_count": 27,
   "metadata": {
    "button": false,
    "new_sheet": false,
    "run_control": {
     "read_only": false
    },
    "scrolled": true
   },
   "outputs": [
    {
     "name": "stdout",
     "output_type": "stream",
     "text": [
      "Review 0 of 25000\n",
      "Review 1000 of 25000\n",
      "Review 2000 of 25000\n",
      "Review 3000 of 25000\n",
      "Review 4000 of 25000\n",
      "Review 5000 of 25000\n",
      "Review 6000 of 25000\n",
      "Review 7000 of 25000\n",
      "Review 8000 of 25000\n",
      "Review 9000 of 25000\n",
      "Review 10000 of 25000\n",
      "Review 11000 of 25000\n",
      "Review 12000 of 25000\n",
      "Review 13000 of 25000\n",
      "Review 14000 of 25000\n",
      "Review 15000 of 25000\n",
      "Review 16000 of 25000\n",
      "Review 17000 of 25000\n",
      "Review 18000 of 25000\n",
      "Review 19000 of 25000\n",
      "Review 20000 of 25000\n",
      "Review 21000 of 25000\n",
      "Review 22000 of 25000\n",
      "Review 23000 of 25000\n",
      "Review 24000 of 25000\n",
      "Creating average feature vecs for test reviews\n",
      "Review 0 of 25000\n",
      "Review 1000 of 25000\n",
      "Review 2000 of 25000\n",
      "Review 3000 of 25000\n",
      "Review 4000 of 25000\n",
      "Review 5000 of 25000\n",
      "Review 6000 of 25000\n",
      "Review 7000 of 25000\n",
      "Review 8000 of 25000\n",
      "Review 9000 of 25000\n",
      "Review 10000 of 25000\n",
      "Review 11000 of 25000\n",
      "Review 12000 of 25000\n",
      "Review 13000 of 25000\n",
      "Review 14000 of 25000\n",
      "Review 15000 of 25000\n",
      "Review 16000 of 25000\n",
      "Review 17000 of 25000\n",
      "Review 18000 of 25000\n",
      "Review 19000 of 25000\n",
      "Review 20000 of 25000\n",
      "Review 21000 of 25000\n",
      "Review 22000 of 25000\n",
      "Review 23000 of 25000\n",
      "Review 24000 of 25000\n"
     ]
    }
   ],
   "source": [
    "# ****************************************************************\n",
    "# Calculate average feature vectors for training and testing sets,\n",
    "# using the functions we defined above. Notice that we now use stop word\n",
    "# removal.\n",
    "\n",
    "clean_train_reviews = []\n",
    "for review in train[\"review\"]:\n",
    "    clean_train_reviews.append( review_to_wordlist( review, \\\n",
    "        remove_stopwords=True ))\n",
    "\n",
    "trainDataVecs = getAvgFeatureVecs( clean_train_reviews, model, num_features )\n",
    "\n",
    "print (\"Creating average feature vecs for test reviews\")\n",
    "clean_test_reviews = []\n",
    "for review in test[\"review\"]:\n",
    "    clean_test_reviews.append( review_to_wordlist( review, \\\n",
    "        remove_stopwords=True ))\n",
    "\n",
    "testDataVecs = getAvgFeatureVecs( clean_test_reviews, model, num_features )"
   ]
  },
  {
   "cell_type": "code",
   "execution_count": 146,
   "metadata": {
    "button": false,
    "new_sheet": false,
    "run_control": {
     "read_only": false
    }
   },
   "outputs": [
    {
     "data": {
      "text/plain": [
       "(25000, 300)"
      ]
     },
     "execution_count": 146,
     "metadata": {},
     "output_type": "execute_result"
    }
   ],
   "source": [
    "testDataVecs.shape"
   ]
  },
  {
   "cell_type": "markdown",
   "metadata": {
    "button": false,
    "new_sheet": false,
    "run_control": {
     "read_only": false
    }
   },
   "source": [
    "Next, use the average paragraph vectors to train a random forest. Note that, as in Part 1, we can only use the labeled training reviews to train the model. \n",
    "\n",
    "We found that this produced results much better than chance, but underperformed Bag of Words by a few percentage points.\n",
    "\n",
    "Since the element-wise average of the vectors didn't produce spectacular results, perhaps we could do it in a more intelligent way? A standard way of weighting word vectors is to apply \"tf-idf\" weights, which measure how important a given word is within a given set of documents. One way to extract tf-idf weights in Python is by using scikit-learn's TfidfVectorizer, which has an interface similar to the CountVectorizer that we used in Part 1. However, when we tried weighting our word vectors in this way, we found no substantial improvement in performance.\n",
    "\n",
    "\n",
    "        "
   ]
  },
  {
   "cell_type": "code",
   "execution_count": 28,
   "metadata": {
    "button": false,
    "new_sheet": false,
    "run_control": {
     "read_only": false
    }
   },
   "outputs": [
    {
     "name": "stdout",
     "output_type": "stream",
     "text": [
      "Fitting a random forest to labeled training data...\n"
     ]
    }
   ],
   "source": [
    "# Fit a random forest to the training data, using 100 trees\n",
    "from sklearn.ensemble import RandomForestClassifier\n",
    "forest = RandomForestClassifier( n_estimators = 100 )\n",
    "\n",
    "print(\"Fitting a random forest to labeled training data...\")\n",
    "forest = forest.fit( trainDataVecs, train[\"sentiment\"] )\n",
    "\n",
    "# Test & extract results \n",
    "result = forest.predict( testDataVecs )\n",
    "\n",
    "# Write the test results \n",
    "output = pd.DataFrame( data={\"id\":test[\"id\"], \"sentiment\":result} )\n",
    "output.to_csv( \"Word2Vec_AverageVectors.csv\", index=False, quoting=3 )\n",
    "\n",
    "# Your submission scored 0.82836."
   ]
  },
  {
   "cell_type": "code",
   "execution_count": 49,
   "metadata": {
    "button": false,
    "new_sheet": false,
    "run_control": {
     "read_only": false
    }
   },
   "outputs": [
    {
     "data": {
      "text/plain": [
       "(25000, 300)"
      ]
     },
     "execution_count": 49,
     "metadata": {},
     "output_type": "execute_result"
    }
   ],
   "source": [
    "testDataVecs.shape"
   ]
  },
  {
   "cell_type": "code",
   "execution_count": 48,
   "metadata": {
    "button": false,
    "new_sheet": false,
    "run_control": {
     "read_only": false
    }
   },
   "outputs": [
    {
     "data": {
      "text/plain": [
       "(25000, 300)"
      ]
     },
     "execution_count": 48,
     "metadata": {},
     "output_type": "execute_result"
    }
   ],
   "source": [
    "trainDataVecs.shape"
   ]
  },
  {
   "cell_type": "code",
   "execution_count": null,
   "metadata": {
    "button": false,
    "collapsed": true,
    "new_sheet": false,
    "run_control": {
     "read_only": false
    }
   },
   "outputs": [],
   "source": []
  },
  {
   "cell_type": "markdown",
   "metadata": {
    "button": false,
    "collapsed": true,
    "new_sheet": false,
    "run_control": {
     "read_only": false
    }
   },
   "source": [
    "## From Words to Paragraphs, Attempt 2: Clustering \n",
    "\n",
    "Word2Vec creates clusters of semantically related words, so another possible approach is to exploit the similarity of words within a cluster. Grouping vectors in this way is known as \"vector quantization.\" To accomplish this, we first need to find the centers of the word clusters, which we can do by using a clustering algorithm such as K-Means.\n",
    "\n",
    "In K-Means, the one parameter we need to set is \"K,\" or the number of clusters. How should we decide how many clusters to create? Trial and error suggested that small clusters, with an average of only 5 words or so per cluster, gave better results than large clusters with many words. Clustering code is given below. We use scikit-learn to perform our K-Means.\n",
    "\n",
    "K-Means clustering with large K can be very slow; the following code took more than 40 minutes on my computer. Below, we set a timer around the K-Means function to see how long it takes."
   ]
  }
 ],
 "metadata": {
  "kernelspec": {
   "display_name": "Python 3",
   "language": "python",
   "name": "python3"
  },
  "language_info": {
   "codemirror_mode": {
    "name": "ipython",
    "version": 3
   },
   "file_extension": ".py",
   "mimetype": "text/x-python",
   "name": "python",
   "nbconvert_exporter": "python",
   "pygments_lexer": "ipython3",
   "version": "3.6.5"
  },
  "toc": {
   "nav_menu": {},
   "number_sections": true,
   "sideBar": true,
   "skip_h1_title": true,
   "title_cell": "Table of Contents",
   "title_sidebar": "Contents",
   "toc_cell": true,
   "toc_position": {},
   "toc_section_display": true,
   "toc_window_display": true
  }
 },
 "nbformat": 4,
 "nbformat_minor": 2
}
