{
 "cells": [
  {
   "cell_type": "markdown",
   "metadata": {},
   "source": [
    "# crontab \n",
    "\n",
    "Source: \n",
    "- https://ole.michelsen.dk/blog/schedule-jobs-with-crontab-on-mac-osx.html\n",
    "- https://stackoverflow.com/questions/7970905/cannot-import-python-mysql-module-when-running-a-script-using-crontab\n",
    "\n",
    "Summary: Crontab is a way to automatically run a certain file whether it's shell (.sh) or python file. This will come in very handy if you are running certain script manually periodically. "
   ]
  },
  {
   "cell_type": "markdown",
   "metadata": {},
   "source": [
    "### FORMAT "
   ]
  },
  {
   "cell_type": "raw",
   "metadata": {},
   "source": [
    "* * * * *  command to execute\n",
    "│ │ │ │ │\n",
    "│ │ │ │ └─── day of week (0 - 6) (0 to 6 are Sunday to Saturday, or use names; 7 is Sunday, the same as 0)\n",
    "│ │ │ └──────── month (1 - 12)\n",
    "│ │ └───────────── day of month (1 - 31)\n",
    "│ └────────────────── hour (0 - 23)\n",
    "└─────────────────────── min (0 - 59)"
   ]
  },
  {
   "cell_type": "markdown",
   "metadata": {},
   "source": [
    "### Basics"
   ]
  },
  {
   "cell_type": "raw",
   "metadata": {},
   "source": [
    "# To see your current crontab file: (this may give you an error since there is no content if this is your first time)\n",
    "crontab -l\n",
    "\n",
    "# To edit it:\n",
    "crontab -e\n",
    "\n",
    "# You can use vi to edit. "
   ]
  },
  {
   "cell_type": "markdown",
   "metadata": {},
   "source": [
    "### Example"
   ]
  },
  {
   "cell_type": "raw",
   "metadata": {},
   "source": [
    "30 8 * * * /Users/ijung/anaconda/bin/python /Users/ijung/Desktop/example.py > /Users/ijung/Desktop/cron_log.log 2>&1\n",
    "\n",
    "# this code runs example.py code using python version from anaconda everyday at 8:30 AM. \n",
    "# Also, it will save log file from running this file to con_log.log. "
   ]
  }
 ],
 "metadata": {
  "kernelspec": {
   "display_name": "Python 3",
   "language": "python",
   "name": "python3"
  },
  "language_info": {
   "codemirror_mode": {
    "name": "ipython",
    "version": 3
   },
   "file_extension": ".py",
   "mimetype": "text/x-python",
   "name": "python",
   "nbconvert_exporter": "python",
   "pygments_lexer": "ipython3",
   "version": "3.6.1"
  }
 },
 "nbformat": 4,
 "nbformat_minor": 2
}
